{
 "cells": [
  {
   "cell_type": "markdown",
   "metadata": {
    "colab_type": "text",
    "id": "OKhrckMNix8B"
   },
   "source": [
    "# Join Overview\n",
    "\n",
    "Joins are used to combine elements from different collections (e.g. `ImageCollection` or `FeatureCollection`) based on a condition specified by an `ee.Filter`. The filter is constructed with arguments for the properties in each collection that are related to each other. Specifically, `leftField` specifies the property in the primary collection that is rela ted to the `rightField` in the secondary collection. The type of filter (e.g. `equals`, `greaterThanOrEquals`, `lessThan`, etc.) indicates the relationship between the fields. The type of join indicates one-to-many or one-to-one relationships between the elements in the collections and how many matches to retain. The output of a join is produced by `join.apply()` and will vary according to the type of join.\n"
   ]
  },
  {
   "cell_type": "markdown",
   "metadata": {
    "colab_type": "text",
    "id": "eUhVKLROlVZP"
   },
   "source": [
    "# Simple Joins\n",
    "\n",
    "A simple join returns elements from the `primary` collection that match any element in the  `secondary` collection according to the match condition in the filter. To perform a simple join, use an  `ee.Join.simple()`. This might be useful for finding the common elements among different collections or filtering one collection by another. For example, consider two image collections which (might) have some matching elements, where “matching” is defined by the condition specified in a filter. For example, let matching mean the image IDs are equal. Since the matching images in both collections are the same, use a simple join to discover this set of matching images:"
   ]
  },
  {
   "cell_type": "code",
   "execution_count": null,
   "metadata": {
    "colab": {},
    "colab_type": "code",
    "id": "PPNiaI0QlVHY"
   },
   "outputs": [],
   "source": [
    "from pprint import pprint\n",
    "# Load a Landsat 8 image collection at a point of interest.\n",
    "collection = ee.ImageCollection('LANDSAT/LC08/C01/T1_TOA')\\\n",
    "               .filterBounds(ee.Geometry.Point(-122.09, 37.42))\n",
    "\n",
    "# Define start and end dates with which to filter the collections.\n",
    "april = '2014-04-01'\n",
    "may = '2014-05-01'\n",
    "june = '2014-06-01'\n",
    "july = '2014-07-01'\n",
    "\n",
    "# The primary collection is Landsat images from April to June.\n",
    "primary = collection.filterDate(april, june)\n",
    "\n",
    "# The secondary collection is Landsat images from May to July.\n",
    "secondary = collection.filterDate(may, july)\n",
    "\n",
    "# Use an equals filter to define how the collections match.\n",
    "Filter = ee.Filter.equals(leftField = 'system:index', rightField = 'system:index')\n",
    "\n",
    "# Create the join.\n",
    "simpleJoin = ee.Join.simple()\n",
    "\n",
    "# Apply the join.\n",
    "simpleJoined = simpleJoin.apply(primary, secondary, Filter)\n",
    "images = simpleJoined.getInfo()\n",
    "\n",
    "# Display the result.\n",
    "print('Simple join: ')\n",
    "pprint(images)"
   ]
  },
  {
   "cell_type": "markdown",
   "metadata": {
    "colab_type": "text",
    "id": "MeII7Jw-rybF"
   },
   "source": [
    "In the previous example, observe that the collections to join temporally overlap by about a month. Note that when this join is applied, the output will be an `ImageCollection` with only the matching images in the `primary` collection. The output should look something like:"
   ]
  },
  {
   "cell_type": "code",
   "execution_count": null,
   "metadata": {
    "colab": {
     "base_uri": "https://localhost:8080/",
     "height": 53
    },
    "colab_type": "code",
    "id": "4ZxenS6Ziywq",
    "outputId": "7bc8548b-0a32-404f-916b-54eac412a6e9"
   },
   "outputs": [],
   "source": [
    "for x in images['features']:\n",
    "  print('Landsat8: ',x['id'])  "
   ]
  },
  {
   "cell_type": "markdown",
   "metadata": {
    "colab_type": "text",
    "id": "-FSRTgUbtq9B"
   },
   "source": [
    "This output shows that two images match (as specified in the filter) between the primary and secondary collections, images at day-of-year 125 and 141, or May 5 and May 21.\n",
    "\n"
   ]
  },
  {
   "cell_type": "markdown",
   "metadata": {
    "colab_type": "text",
    "id": "AojdQe8duZFo"
   },
   "source": [
    "# Inverted Joins"
   ]
  },
  {
   "cell_type": "markdown",
   "metadata": {
    "colab_type": "text",
    "id": "8ImpQg8xucGd"
   },
   "source": [
    "Suppose that the purpose of the join is to retain all images in the `primary` collection that are not in the `secondary` collection. You can perform this type of inverted join using `ee.Join.inverted()`. Using the filter, `primary` and `secondary` collections as defined in the [simple join example](https://developers.google.com/earth-engine/joins_simple), specify the inverted join as:\n",
    "\n"
   ]
  },
  {
   "cell_type": "code",
   "execution_count": null,
   "metadata": {
    "colab": {},
    "colab_type": "code",
    "id": "XDl1urMeuu2W"
   },
   "outputs": [],
   "source": [
    "# Define the join.\n",
    "invertedJoin = ee.Join.inverted()\n",
    "\n",
    "# Apply the join.\n",
    "invertedJoined = invertedJoin.apply(primary, secondary, filter)\n",
    "images_rev = invertedJoined.getInfo()"
   ]
  },
  {
   "cell_type": "markdown",
   "metadata": {
    "colab_type": "text",
    "id": "Ai4Vw3vlv9O-"
   },
   "source": [
    "The output should look something like:\n",
    "\n"
   ]
  },
  {
   "cell_type": "code",
   "execution_count": null,
   "metadata": {
    "colab": {
     "base_uri": "https://localhost:8080/",
     "height": 53
    },
    "colab_type": "code",
    "id": "d_aojhKNvRiW",
    "outputId": "afa876e1-0554-46e3-f8f3-43f40046a38d"
   },
   "outputs": [],
   "source": [
    "for x in images_rev['features']:\n",
    "  print('Landsat8: ',x['id'])  "
   ]
  },
  {
   "cell_type": "markdown",
   "metadata": {
    "colab_type": "text",
    "id": "vhiXeXh4v-Hq"
   },
   "source": [
    "The inverted join contains the images from April 3 and April 19, indicating the images that are present in the primary collection but not in the secondary collection.\n",
    "\n"
   ]
  },
  {
   "cell_type": "markdown",
   "metadata": {
    "colab_type": "text",
    "id": "0-ss3vTJwBw6"
   },
   "source": [
    "# Inner Joins\n",
    "\n",
    "To enumerate all matches between the elements of two collections, use an `ee.Join.inner()`. The output of an inner join is a `FeatureCollection` (even if joining one `ImageCollection` to another `ImageCollection`). Each feature in the output represents a match, where the matching elements are stored in two properties of the feature. For example, `feature.get('primary')` is the element in the primary collection that matches the element from the secondary collection stored in `feature.get('secondary')`. (Different names for these properties can be specified as arguments to `inner()`, but `‘primary’` and `‘secondary’` are the defaults). One-to-many relationships are represented by multiple features in the output. If an element in either collection doesn’t have a match, it is not present in the output.\n",
    "\n",
    "Join examples using `ImageCollection` inputs apply without modification to `FeatureCollection` inputs. It is also possible to join a `FeatureCollection` to an `ImageCollection` and vice versa. Consider the following toy example of inner join:\n"
   ]
  },
  {
   "cell_type": "code",
   "execution_count": null,
   "metadata": {
    "colab": {},
    "colab_type": "code",
    "id": "Dc0zsB3Fv-8d"
   },
   "outputs": [],
   "source": [
    "# Create the primary collection.\n",
    "primaryFeatures = ee.FeatureCollection([\n",
    "  ee.Feature(None, {'foo': 0, 'label': 'a'}),\n",
    "  ee.Feature(None, {'foo': 1, 'label': 'b'}),\n",
    "  ee.Feature(None, {'foo': 1, 'label': 'c'}),\n",
    "  ee.Feature(None, {'foo': 2, 'label': 'd'}),\n",
    "])\n",
    "\n",
    "# Create the secondary collection.\n",
    "secondaryFeatures = ee.FeatureCollection([\n",
    "  ee.Feature(None, {'bar': 1, 'label': 'e'}),\n",
    "  ee.Feature(None, {'bar': 1, 'label': 'f'}),\n",
    "  ee.Feature(None, {'bar': 2, 'label': 'g'}),\n",
    "  ee.Feature(None, {'bar': 3, 'label': 'h'}),\n",
    "])\n",
    "\n",
    "# Use an equals filter to specify how the collections match.\n",
    "toyFilter = ee.Filter.equals(leftField='foo',rightField='bar')\n",
    "\n",
    "# Define the join.\n",
    "innerJoin = ee.Join.inner('primary', 'secondary')\n",
    "\n",
    "# Apply the join.\n",
    "toyJoin = innerJoin.apply(primaryFeatures, secondaryFeatures, toyFilter)\n",
    "\n",
    "# Print the result.\n",
    "print('Inner join toy example:')    \n",
    "pprint(toyJoin.getInfo())"
   ]
  },
  {
   "cell_type": "markdown",
   "metadata": {
    "colab_type": "text",
    "id": "a89SWvne3Q20"
   },
   "source": [
    "In the previous example, notice that the relationship between the tables is defined in the filter, which indicates that fields `‘foo’` and `‘bar’` are the join fields. An inner join is then specified and applied to the collections. Inspect the output and observe that each possible match is represented as one `Feature`.\n",
    "\n",
    "For a motivated example, consider joining MODIS `ImageCollection` objects. MODIS quality data are sometimes stored in a separate collection from the image data, so an inner join is convenient for joining the two collections in order to apply the quality data. In this case, the image acquisition times are identical, so an equals filter handles the job of specifying this relationship between the two collections:"
   ]
  },
  {
   "cell_type": "code",
   "execution_count": null,
   "metadata": {
    "colab": {},
    "colab_type": "code",
    "id": "cct1XnYl3eC2"
   },
   "outputs": [],
   "source": [
    "# Make a date filter to get images in this date range.\n",
    "dateFilter = ee.Filter.date('2014-01-01', '2014-02-01')\n",
    "\n",
    "# Load a MODIS collection with EVI data.\n",
    "mcd43a4 = ee.ImageCollection('MODIS/MCD43A4_006_EVI')\\\n",
    "            .filter(dateFilter)\n",
    "\n",
    "# Load a MODIS collection with quality data.\n",
    "mcd43a2 = ee.ImageCollection('MODIS/006/MCD43A2')\\\n",
    "            .filter(dateFilter)\n",
    "\n",
    "# Define an inner join.\n",
    "innerJoin = ee.Join.inner()\n",
    "\n",
    "# Specify an equals filter for image timestamps.\n",
    "filterTimeEq = ee.Filter.equals(leftField='system:time_start',rightField='system:time_start')\n",
    "\n",
    "# Apply the join.\n",
    "innerJoinedMODIS = innerJoin.apply(mcd43a4, mcd43a2, filterTimeEq)\n",
    "\n",
    "# Display the join result: a FeatureCollection.\n",
    "print('Inner join output:')    \n",
    "pprint(innerJoinedMODIS.getInfo())\n",
    "\n",
    "innerJoinedMODIS.first().getInfo()"
   ]
  },
  {
   "cell_type": "markdown",
   "metadata": {
    "colab_type": "text",
    "id": "vfhlwdjD4fKl"
   },
   "source": [
    "To make use of the joined images in the output `FeatureCollection`, `map()` a combining function over the output. For example, the matching images can be stacked together such that the quality bands are added to the image data:"
   ]
  },
  {
   "cell_type": "code",
   "execution_count": null,
   "metadata": {
    "colab": {},
    "colab_type": "code",
    "id": "DjkzTp_s6-42"
   },
   "outputs": [],
   "source": [
    "# Map a function to merge the results in the output FeatureCollection.\n",
    "joinedMODIS = innerJoinedMODIS.map(\n",
    "    lambda feature: ee.Image.cat(feature.get('primary'), feature.get('secondary')))\n",
    "\n",
    "# Print the result of merging.\n",
    "print('Inner join, merged bands:')\n",
    "pprint(joinedMODIS.getInfo())"
   ]
  },
  {
   "cell_type": "markdown",
   "metadata": {
    "colab_type": "text",
    "id": "lkZmjGsv8KO2"
   },
   "source": [
    "Although this function is mapped over a `FeatureCollection`, the result is an `ImageCollection`. Each image in the resultant `ImageCollection` has all the bands of the images in the primary collection (in this example just `‘EVI’`) and all the bands of the matching image in the secondary collection (the quality bands)."
   ]
  },
  {
   "cell_type": "markdown",
   "metadata": {
    "colab_type": "text",
    "id": "aGF1woF38Xsf"
   },
   "source": [
    "# Save-All Joins\n",
    "\n",
    "Saving joins are one way of representing one-to-many relationships in Earth Engine. Unlike an `inner join`, a saving join stores matches from the `secondary` collection as a named property of the features in the `primary` collection. To save all such matches, use an `ee.Join.saveAll()`. If there is a one-to-many relationship, a `saveAll()` join stores all matching features as an `ee.List`. Unmatched elements in the primary collection are dropped. For example, suppose there is a need to get all MODIS imagery acquired within two days of each Landsat image in a collection. This example uses a `saveAll()` join for that purpose:"
   ]
  },
  {
   "cell_type": "code",
   "execution_count": null,
   "metadata": {
    "colab": {},
    "colab_type": "code",
    "id": "b1cObBwv8Rzx"
   },
   "outputs": [],
   "source": [
    "# Load a primary collection: Landsat imagery.\n",
    "primary = ee.ImageCollection('LANDSAT/LC08/C01/T1_TOA')\\\n",
    "            .filterDate('2014-04-01', '2014-06-01')\\\n",
    "            .filterBounds(ee.Geometry.Point(-122.092, 37.42))\n",
    "\n",
    "# Load a secondary collection: MODIS imagery.\n",
    "modSecondary = ee.ImageCollection('MODIS/006/MOD09GA')\\\n",
    "                 .filterDate('2014-03-01', '2014-07-01')\n",
    "\n",
    "# Define an allowable time difference: two days in milliseconds.\n",
    "twoDaysMillis = 2 * 24 * 60 * 60 * 1000\n",
    "\n",
    "# Create a time filter to define a match as overlapping timestamps.\n",
    "timeFilter = ee.Filter.Or(\n",
    "  ee.Filter.maxDifference(\n",
    "    difference= twoDaysMillis,\n",
    "    leftField='system:time_start',\n",
    "    rightField= 'system:time_end'\n",
    "  ),\n",
    "  ee.Filter.maxDifference(\n",
    "    difference=twoDaysMillis,\n",
    "    leftField='system:time_end',\n",
    "    rightField='system:time_start'\n",
    "  )\n",
    ")\n",
    "\n",
    "# Define the join.\n",
    "saveAllJoin=ee.Join.saveAll(\n",
    "  matchesKey='terra',\n",
    "  ordering='system:time_start',\n",
    "  ascending=True\n",
    ")\n",
    "\n",
    "# Apply the join.\n",
    "landsatModis = saveAllJoin.apply(primary, modSecondary, timeFilter)\n",
    "\n",
    "# Display the result.\n",
    "print('Join.saveAll:')\n",
    "landsatModis.getInfo()"
   ]
  },
  {
   "cell_type": "markdown",
   "metadata": {
    "colab_type": "text",
    "id": "n4dOjHT8LMFm"
   },
   "source": [
    "In this example, note that the `secondary` MODIS collection is pre-filtered to be chronologically similar to the `primary` Landsat collection for efficiency. To compare the Landsat acquisition time to the MODIS composite time, which has a daily range, the filter compares the endpoints of the image timestamps. The join is defined with the name of the property used to store the list of matches for each Landsat image (`‘terra’`) and optional parameter to sort the list of matches by the `system:time_start` property.\n",
    "\n",
    "Inspection of the result indicates that images within the primary collection have the added `terra` property which stores a list of the matching MODIS images."
   ]
  },
  {
   "cell_type": "markdown",
   "metadata": {
    "colab_type": "text",
    "id": "5gSFz0h-L1jd"
   },
   "source": [
    "# Save-Best Joins\n",
    "\n",
    "To save only the best match for each element in a collection, use an `ee.Join.saveBest()`. The `saveBest()` join functions in an equivalent way to the `saveAll()` join, except for each element in the `primary` collection, it saves the element from the `secondary` collection with the best match. Unmatched elements in the primary collection are dropped. Suppose the intention is to find a meteorological image closest in time to each Landsat image in the `primary` collection. To perform this join, the `ee.Filter` must be redefined for a single join condition (combined filters will not work with `saveBest()` since it is ambiguous how to combine ranks from multiple sub-Filters):\n"
   ]
  },
  {
   "cell_type": "code",
   "execution_count": null,
   "metadata": {
    "colab": {},
    "colab_type": "code",
    "id": "3R1g5RuJLgqY"
   },
   "outputs": [],
   "source": [
    "# Load a primary collection: Landsat imagery.\n",
    "primary = ee.ImageCollection('LANDSAT/LC08/C01/T1_TOA')\\\n",
    "            .filterDate('2014-04-01', '2014-06-01')\\\n",
    "            .filterBounds(ee.Geometry.Point(-122.092, 37.42))\n",
    "\n",
    "# Load a secondary collection: GRIDMET meteorological data\n",
    "gridmet = ee.ImageCollection('IDAHO_EPSCOR/GRIDMET')\n",
    "\n",
    "# Define a max difference filter to compare timestamps.\n",
    "maxDiffFilter = ee.Filter.maxDifference(\n",
    "  difference=2 * 24 * 60 * 60 * 1000,\n",
    "  leftField='system:time_start',\n",
    "  rightField='system:time_start'\n",
    ")\n",
    "\n",
    "# Define the join.\n",
    "saveBestJoin = ee.Join.saveBest(\n",
    "  matchKey='bestImage',\n",
    "  measureKey='timeDiff'\n",
    ")\n",
    "\n",
    "# Apply the join.\n",
    "landsatMet = saveBestJoin.apply(primary, gridmet, maxDiffFilter)\n",
    "\n",
    "# Print the result.\n",
    "pprint(landsatMet.getInfo())"
   ]
  },
  {
   "cell_type": "markdown",
   "metadata": {
    "colab_type": "text",
    "id": "1niRzAFWNK20"
   },
   "source": [
    "Note that a `saveBest()` join defines the name of the property with which to store the best match (`‘bestImage’`) and the name of the property with which to store the goodness of the match metric (`‘timeDiff’`). Inspection of the results indicates that a matching `DAYMET` image has been added to the property `bestImage` for each Landsat scene in the `primary` collection. Each of these DAYMET images has the property `timeDiff` indicating the time difference in milliseconds between the DAYMET image and the Landsat image, which will be minimum among the DAYMET images passing the condition in the filter.\n",
    "\n"
   ]
  },
  {
   "cell_type": "markdown",
   "metadata": {
    "colab_type": "text",
    "id": "ngMrHnMCQg-8"
   },
   "source": [
    "# Spatial Joins\n",
    "\n",
    "Collections can be joined by spatial location as well as by property values. To join based on spatial location, use a withinDistance() filter with .geo join fields specified. The .geo field indicates that the item's geometry is to be used to compute the distance metric. For example, consider the task of finding all FLUXNET sites within 100 kilometers of each Landsat image in a collection. For that purpose, use a filter on the geometry fields, with the maximum distance set to 100 kilometers using the distance parameter:"
   ]
  },
  {
   "cell_type": "code",
   "execution_count": null,
   "metadata": {
    "colab": {},
    "colab_type": "code",
    "id": "mUO46iLJNXBN"
   },
   "outputs": [],
   "source": [
    "# Load a primary collection: Landsat imagery.\n",
    "primary = ee.ImageCollection('LANDSAT/LC08/C01/T1_TOA')\\\n",
    "                .filterDate('2014-04-01', '2014-06-01')\\\n",
    "                .filterBounds(ee.Geometry.Point(-122.09, 37.42))\n",
    "\n",
    "# Load a secondary collection: FLUXNET points in a Fusion Table.\n",
    "fluxnet = ee.FeatureCollection('ft:1f85fvccyKSlaZJiAta8ojlXGhgf-LPPNmICG9kQ')\n",
    "\n",
    "# Define a spatial filter, with distance 100 km.\n",
    "distFilter = ee.Filter.withinDistance(\n",
    "  distance=100000,\n",
    "  leftField='.geo',\n",
    "  rightField='.geo',\n",
    "  maxError=10\n",
    ")\n",
    "\n",
    "# Define a saveAll join.\n",
    "distSaveAll = ee.Join.saveAll(\n",
    "  matchesKey='points',\n",
    "  measureKey='distance'\n",
    ")\n",
    "\n",
    "# Apply the join.\n",
    "spatialJoined = distSaveAll.apply(primary, fluxnet, distFilter)\n",
    "\n",
    "# Print the result.\n",
    "pprint(spatialJoined.getInfo())  "
   ]
  },
  {
   "cell_type": "markdown",
   "metadata": {
    "colab_type": "text",
    "id": "juaf8V2JSvf0"
   },
   "source": [
    "Note that the previous example joins a `FeatureCollection` to an `ImageCollection`. The `saveAll()` join sets a property (`points`) on each image in the `primary` collection which stores a list of the points within 100 km of the image. The distance of each point to the image is stored in the `distance` property of each joined point.\n",
    "\n",
    "Spatial joins can also be applied to feature collections to find places where the features in one collection intersect those in another. For example, consider two feature collections: a `primary` collection containing one polygon representing the boundary of California state, a secondary collection containing polygons representing Landsat image footprints according to the [Worldwide Reference System](https://landsat.gsfc.nasa.gov/the-worldwide-reference-system/). Suppose there is need to find all the image footprints which intersect the California polygon. This can be accomplished with a spatial join as follows:"
   ]
  },
  {
   "cell_type": "code",
   "execution_count": null,
   "metadata": {
    "colab": {},
    "colab_type": "code",
    "id": "yDhwGjJrTENJ"
   },
   "outputs": [],
   "source": [
    "# Load the primary collection: a California polygon.\n",
    "cali = ee.FeatureCollection('ft:1fRY18cjsHzDgGiJiS2nnpUU3v9JPDc2HNaR7Xk8')\\\n",
    "         .filter(ee.Filter.eq('Name', 'California'))\n",
    "\n",
    "# Load the secondary collection: WRS-2 polygons.\n",
    "wrs = ee.FeatureCollection('ft:1_RZgjlcqixp-L9hyS6NYGqLaKOlnhSC35AB5M5Ll')\n",
    "\n",
    "# Define a spatial filter as geometries that intersect.\n",
    "spatialFilter = ee.Filter.intersects(\n",
    "  leftField='.geo',\n",
    "  rightField='.geo',\n",
    "  maxError=10\n",
    ")\n",
    "\n",
    "# Define a save all join.\n",
    "saveAllJoin = ee.Join.saveAll(\n",
    "  matchesKey='scenes',\n",
    ")\n",
    "\n",
    "# Apply the join.\n",
    "intersectJoined = saveAllJoin.apply(cali, wrs, spatialFilter)\n",
    "\n",
    "# Get the result and display it.\n",
    "intersected = ee.FeatureCollection(ee.List(intersectJoined.first().get('scenes')))"
   ]
  },
  {
   "cell_type": "code",
   "execution_count": null,
   "metadata": {
    "colab": {
     "base_uri": "https://localhost:8080/",
     "height": 700
    },
    "colab_type": "code",
    "id": "-JuGDL25TT3_",
    "outputId": "768544bf-1c03-4859-fdd2-ed26f2fdf550"
   },
   "outputs": [],
   "source": [
    "#Display results using folium!\n",
    "import folium\n",
    "\n",
    "intersected_gjson = intersected.getInfo()\n",
    "cali_gjson = cali.getInfo()\n",
    "\n",
    "centerobject = cali.geometry().centroid().getInfo()['coordinates']\n",
    "centerobject.reverse()\n",
    "\n",
    "dicc = {'WRS-2 polygons':intersected_gjson,\n",
    "        'cali':cali_gjson}\n",
    "Mapdisplay(centerobject,dicc,zoom_start=6)"
   ]
  }
 ],
 "metadata": {
  "colab": {
   "include_colab_link": true,
   "name": "Untitled35.ipynb",
   "provenance": [],
   "toc_visible": true,
   "version": "0.3.2"
  },
  "kernelspec": {
   "display_name": "Python 3 (ipykernel)",
   "language": "python",
   "name": "python3"
  },
  "language_info": {
   "codemirror_mode": {
    "name": "ipython",
    "version": 3
   },
   "file_extension": ".py",
   "mimetype": "text/x-python",
   "name": "python",
   "nbconvert_exporter": "python",
   "pygments_lexer": "ipython3",
   "version": "3.9.7"
  }
 },
 "nbformat": 4,
 "nbformat_minor": 1
}
