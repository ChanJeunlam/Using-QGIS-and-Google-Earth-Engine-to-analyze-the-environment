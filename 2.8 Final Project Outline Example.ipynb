{
 "cells": [
  {
   "cell_type": "markdown",
   "id": "1cc6edd9",
   "metadata": {},
   "source": [
    "TODO [#A] Final project for [[Project/My QGIS Course]] could be something like loss of forest in the last 20 yeras. Just substract tjhe forest cover 20 years ago from the one we have now."
   ]
  }
 ],
 "metadata": {
  "kernelspec": {
   "display_name": "Python 3 (ipykernel)",
   "language": "python",
   "name": "python3"
  },
  "language_info": {
   "codemirror_mode": {
    "name": "ipython",
    "version": 3
   },
   "file_extension": ".py",
   "mimetype": "text/x-python",
   "name": "python",
   "nbconvert_exporter": "python",
   "pygments_lexer": "ipython3",
   "version": "3.9.7"
  }
 },
 "nbformat": 4,
 "nbformat_minor": 5
}
