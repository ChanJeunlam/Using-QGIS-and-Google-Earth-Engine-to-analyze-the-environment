{
 "cells": [
  {
   "cell_type": "markdown",
   "metadata": {
    "colab_type": "text",
    "id": "46iNcZViMhuq"
   },
   "source": [
    "# Image Collection Overview\n",
    "\n",
    "An `ImageCollection` is a **stack or time series of images**. In addition to loading an `ImageCollection` using an Earth Engine collection ID, Earth Engine has methods to create image collections. The constructor `ee.ImageCollection()` or the convenience method `ee.ImageCollection.fromImages()` create image collections from lists of images. You can also create new image collections by merging existing collections. For example:\n"
   ]
  },
  {
   "cell_type": "code",
   "execution_count": null,
   "metadata": {
    "colab": {},
    "colab_type": "code",
    "id": "2MAaHWtYM20R"
   },
   "outputs": [],
   "source": [
    "# Create arbitrary constant images.\n",
    "constant1 = ee.Image(1)\n",
    "constant2 = ee.Image(2)\n",
    "\n",
    "# Create a collection by giving a list to the constructor.\n",
    "collectionFromConstructor = ee.ImageCollection([constant1, constant2])\n",
    "print('collectionFromConstructor: ')\n",
    "collectionFromConstructor.getInfo()"
   ]
  },
  {
   "cell_type": "code",
   "execution_count": null,
   "metadata": {
    "colab": {},
    "colab_type": "code",
    "id": "zq-2wOYAM7bw"
   },
   "outputs": [],
   "source": [
    "# Create a collection with fromImages().\n",
    "collectionFromImages = ee.ImageCollection.fromImages([ee.Image(3), ee.Image(4)])\n",
    "print('collectionFromImages: ')\n",
    "collectionFromImages.getInfo()"
   ]
  },
  {
   "cell_type": "code",
   "execution_count": null,
   "metadata": {
    "colab": {},
    "colab_type": "code",
    "id": "Rz3D_elIM8tA"
   },
   "outputs": [],
   "source": [
    "# Merge two collections.\n",
    "mergedCollection = collectionFromConstructor.merge(collectionFromImages)\n",
    "print('mergedCollection: ')\n",
    "mergedCollection.getInfo()"
   ]
  },
  {
   "cell_type": "code",
   "execution_count": null,
   "metadata": {
    "colab": {},
    "colab_type": "code",
    "id": "f1geuu5fM-Eg"
   },
   "outputs": [],
   "source": [
    "# Create a toy FeatureCollection\n",
    "features = ee.FeatureCollection(\n",
    "  [ee.Feature(None, {'foo': 1}), ee.Feature(None, {'foo': 2})])\n",
    "\n",
    "# Create an ImageCollection from the FeatureCollection\n",
    "# by mapping a function over the FeatureCollection.\n",
    "images = features.map(lambda feature:ee.Image(ee.Number(feature.get('foo'))))\n",
    "\n",
    "# Print the resultant collection.\n",
    "print('Image collection: ')\n",
    "images.getInfo()"
   ]
  },
  {
   "cell_type": "markdown",
   "metadata": {
    "colab_type": "text",
    "id": "WdRjFVu_M_4f"
   },
   "source": [
    "Note that in this example an `ImageCollection` is created by mapping a function that returns an `Image` over a `FeatureCollection`. Learn more about mapping in the [Mapping over an ImageCollection section](https://developers.google.com/earth-engine/ic_mapping). Learn more about feature collections from the [FeatureCollection section](https://developers.google.com/earth-engine/feature_collections)."
   ]
  },
  {
   "cell_type": "markdown",
   "metadata": {
    "colab_type": "text",
    "id": "SRN5w_VqNRUU"
   },
   "source": [
    "# ImageCollection Information and Metadata\n",
    "\n",
    "As with Images, there are a variety of ways to get information about an ImageCollection. The collection can be printed directly to the console, but the console printout is **limited to 5000 elements**. Collections larger than 5000 images will need to be filtered before printing. Printing a large collection will be correspondingly slower. The following example shows various ways of getting information about image collections programmatically."
   ]
  },
  {
   "cell_type": "code",
   "execution_count": null,
   "metadata": {
    "colab": {},
    "colab_type": "code",
    "id": "nxPzqAbzM9-O"
   },
   "outputs": [],
   "source": [
    "# Load a Landsat 8 ImageCollection for a single path-row.\n",
    "collection = ee.ImageCollection('LANDSAT/LC08/C01/T1_TOA')\\\n",
    "               .filter(ee.Filter.eq('WRS_PATH', 44))\\\n",
    "               .filter(ee.Filter.eq('WRS_ROW', 34))\\\n",
    "               .filterDate('2014-03-01', '2014-08-01')\n",
    "print('Collection: ')\n",
    "collection.getInfo()"
   ]
  },
  {
   "cell_type": "code",
   "execution_count": null,
   "metadata": {
    "colab": {},
    "colab_type": "code",
    "id": "zaAPnGOmNQFx"
   },
   "outputs": [],
   "source": [
    "# Get the number of images.\n",
    "count = collection.size()\n",
    "print('Count: ', count.getInfo())"
   ]
  },
  {
   "cell_type": "code",
   "execution_count": null,
   "metadata": {
    "colab": {},
    "colab_type": "code",
    "id": "rPeedHOqNas0"
   },
   "outputs": [],
   "source": [
    "from datetime import datetime as dt\n",
    "# Get the date range of images in the collection.\n",
    "rango = collection.reduceColumns(ee.Reducer.minMax(), [\"system:time_start\"])\n",
    "\n",
    "# Passing numeric date to standard\n",
    "init_date = ee.Date(rango.get('min')).getInfo()['value']/1000.\n",
    "init_date_f = dt.utcfromtimestamp(init_date).strftime('%Y-%m-%d %H:%M:%S')\n",
    "\n",
    "last_date = ee.Date(rango.get('max')).getInfo()['value']/1000.\n",
    "last_date_f = dt.utcfromtimestamp(last_date).strftime('%Y-%m-%d %H:%M:%S')\n",
    "\n",
    "print('Date range: ',init_date_f,' - ',last_date_f)"
   ]
  },
  {
   "cell_type": "code",
   "execution_count": null,
   "metadata": {
    "colab": {},
    "colab_type": "code",
    "id": "wLR8A8MTNb8D"
   },
   "outputs": [],
   "source": [
    "# Get statistics for a property of the images in the collection.\n",
    "sunStats = collection.aggregate_stats('SUN_ELEVATION')\n",
    "print('Sun elevation statistics: ')\n",
    "sunStats.getInfo()"
   ]
  },
  {
   "cell_type": "code",
   "execution_count": null,
   "metadata": {
    "colab": {},
    "colab_type": "code",
    "id": "tYTTGwxPNdH8"
   },
   "outputs": [],
   "source": [
    "# Sort by a cloud cover property, get the least cloudy image.\n",
    "image = ee.Image(collection.sort('CLOUD_COVER').first())\n",
    "print('Least cloudy image: ', )\n",
    "image.getInfo()"
   ]
  },
  {
   "cell_type": "code",
   "execution_count": null,
   "metadata": {
    "colab": {},
    "colab_type": "code",
    "id": "6N9uTHsnNeGU"
   },
   "outputs": [],
   "source": [
    "# Limit the collection to the 10 most recent images.\n",
    "recent = collection.sort('system:time_start', False).limit(10)\n",
    "print('Recent images: ')\n",
    "recent.getInfo()"
   ]
  },
  {
   "cell_type": "markdown",
   "metadata": {
    "colab_type": "text",
    "id": "ufMTpJqnOWM5"
   },
   "source": [
    "# Filtering an ImageCollection\n",
    "\n",
    "As illustrated in the Get Started section and the ImageCollection Information section, Earth Engine provides a variety of convenience methods for filtering image collections. Specifically, many common use cases are handled by **imageCollection.filterDate()**, and **imageCollection.filterBounds()**. For general purpose filtering, use **imageCollection.filter()** with an **ee.Filter** as an argument. The following example demonstrates both convenience methods and **filter()** to identify and remove images with bad registration from an **ImageCollection**."
   ]
  },
  {
   "cell_type": "code",
   "execution_count": null,
   "metadata": {
    "colab": {
     "base_uri": "https://localhost:8080/",
     "height": 690
    },
    "colab_type": "code",
    "id": "gtahWxaDPN8W",
    "outputId": "ce981d7d-39ac-4f28-bcb4-5089bb40fcbf"
   },
   "outputs": [],
   "source": [
    "# Load Landsat 5 data, filter by date and bounds.\n",
    "collection = ee.ImageCollection('LANDSAT/LT05/C01/T2').filterDate('1987-01-01', '1990-05-01').filterBounds(ee.Geometry.Point(25.8544, -18.08874))\n",
    "\n",
    "# Also filter the collection by the IMAGE_QUALITY property.\n",
    "filtered = collection.filterMetadata('IMAGE_QUALITY', 'equals', 9)\n",
    "\n",
    "# Create two composites to check the effect of filtering by IMAGE_QUALITY.\n",
    "badComposite = ee.Algorithms.Landsat.simpleComposite(collection, 75, 3)\n",
    "goodComposite = ee.Algorithms.Landsat.simpleComposite(filtered, 75, 3)\n",
    "\n",
    "dicc = {\n",
    "    'Bad composite' : badComposite.getMapId({'bands': ['B3', 'B2', 'B1'], 'gain': 3.5}),\n",
    "    'Good composite': goodComposite.getMapId({'bands': ['B3', 'B2', 'B1'], 'gain': 3.5})\n",
    "}\n",
    "\n",
    "# Display the results\n",
    "center = [-18.08874, 25.8544]\n",
    "Mapdisplay(center, dicc, zoom_start= 13)"
   ]
  },
  {
   "cell_type": "markdown",
   "metadata": {
    "colab_type": "text",
    "id": "YO-IRM-nRDAa"
   },
   "source": [
    "# Mapping over an ImageCollection\n",
    "\n",
    "To apply a function to every Image in an ImageCollection use imageCollection.map(). The only argument to map() is a function which takes one parameter: an ee.Image. For example, the following code adds a timestamp band to every image in the collection."
   ]
  },
  {
   "cell_type": "code",
   "execution_count": null,
   "metadata": {
    "colab": {},
    "colab_type": "code",
    "id": "YV008t1pRIoT"
   },
   "outputs": [],
   "source": [
    "from pprint import pprint\n",
    "# Load a Landsat 8 collection for a single path-row.\n",
    "collection = ee.ImageCollection('LANDSAT/LC08/C01/T1_TOA').filter(ee.Filter.eq('WRS_PATH', 44)).filter(ee.Filter.eq('WRS_ROW', 34))\n",
    "\n",
    "# This function adds a band representing the image timestamp.\n",
    "def addTime(image):\n",
    "\treturn image.addBands(image.metadata('system:time_start'))\n",
    "\n",
    "# Map the function over the collection and display the result.\n",
    "pprint(collection.map(addTime).limit(3).getInfo())"
   ]
  },
  {
   "cell_type": "markdown",
   "metadata": {
    "colab_type": "text",
    "id": "ZXxc82LqRq0B"
   },
   "source": [
    "Note that in the predefined function, the **metadata()** method is used to create a new Image from the value of a property. As discussed in the *Reducing* and *Compositing* sections, having that time band is useful for the linear modeling of change and for making composites.\n",
    "\n",
    "The mapped function is limited in the operations it can perform. Specifically, it can’t modify variables outside the function; it can’t print anything; it can’t use JavaScript ‘if’ or ‘for’ statements. However, you can use **ee.Algorithms.If()** to perform conditional operations in a mapped function."
   ]
  },
  {
   "cell_type": "code",
   "execution_count": null,
   "metadata": {
    "colab": {},
    "colab_type": "code",
    "id": "FBhel41HR02L"
   },
   "outputs": [],
   "source": [
    "# Load a Landsat 8 collection for a single path-row.\n",
    "collection = ee.ImageCollection('LANDSAT/LC8_L1T_TOA').filter(ee.Filter.eq('WRS_PATH', 44)).filter(ee.Filter.eq('WRS_ROW', 34))\n",
    "\n",
    "# This function uses a conditional statement to return the image if\n",
    "# the solar elevation > 40 degrees.  Otherwise it returns a zero image.\n",
    "def conditional(image):\n",
    "\treturn ee.Algorithms.If(ee.Number(image.get('SUN_ELEVATION')).gt(40), image, ee.Image(0))\n",
    "\n",
    "# Map the function over the collection, convert to a List and print the result.\n",
    "print('Expand this to see the result: ')\n",
    "pprint(collection.map(conditional).limit(3).getInfo())"
   ]
  },
  {
   "cell_type": "markdown",
   "metadata": {
    "colab_type": "text",
    "id": "jsp-ucH2Sna6"
   },
   "source": [
    "Inspect the list of images in the output ImageCollection and note that the when the condition evaluated by the **If()** algorithm is true, the output contains a constant image. Although this demonstrates a server-side conditional function (learn more about client vs. server in Earth Engine on this page), avoid **If()** in general and use filters instead."
   ]
  },
  {
   "cell_type": "markdown",
   "metadata": {
    "colab_type": "text",
    "id": "3SWzt2T0S5Jt"
   },
   "source": [
    "# Reducing an ImageCollection\n",
    "\n",
    "To composite images in an **ImageCollection**, use **imageCollection.reduce()**. This will composite all the images in the collection to a single image representing, for example, the min, max, mean or standard deviation of the images. (See the Reducers section for more information about reducers). For example, to create a median value image from a collection:"
   ]
  },
  {
   "cell_type": "code",
   "execution_count": null,
   "metadata": {
    "colab": {
     "base_uri": "https://localhost:8080/",
     "height": 690
    },
    "colab_type": "code",
    "id": "odhdIiJ7TDzP",
    "outputId": "ff87449e-fb1a-4a8c-93ec-c3af680385d4"
   },
   "outputs": [],
   "source": [
    "# Load a Landsat 8 collection for a single path-row.\n",
    "collection = ee.ImageCollection('LANDSAT/LC08/C01/T1_TOA').filter(ee.Filter.eq('WRS_PATH', 44)).filter(ee.Filter.eq('WRS_ROW', 34)).filterDate('2014-01-01', '2015-01-01')\n",
    "\n",
    "# Compute a median image and display.\n",
    "median = collection.median()\n",
    "\n",
    "dicc = {\n",
    "    'median' : median.getMapId({'bands': ['B4', 'B3', 'B2'], 'max': 0.3})\n",
    "}\n",
    "\n",
    "# Display the results\n",
    "center = [37.7726, -122.3578]\n",
    "Mapdisplay(center, dicc, zoom_start= 12)"
   ]
  },
  {
   "cell_type": "markdown",
   "metadata": {
    "colab_type": "text",
    "id": "wPMy5STKTjmN"
   },
   "source": [
    "At each location in the output image, in each band, the pixel value is the median of all unmasked pixels in the input imagery (the images in the collection). In the previous example, median() is a convenience method for the following call:"
   ]
  },
  {
   "cell_type": "code",
   "execution_count": null,
   "metadata": {
    "colab": {
     "base_uri": "https://localhost:8080/",
     "height": 690
    },
    "colab_type": "code",
    "id": "UJc6NK2AT8I5",
    "outputId": "17c71ef8-36a1-4fd7-ddad-77bd9ab54145"
   },
   "outputs": [],
   "source": [
    "# Reduce the collection with a median reducer.\n",
    "median = collection.reduce(ee.Reducer.median())\n",
    "\n",
    "# Display the median image.\n",
    "dicc = {'also median' : median.getMapId({'bands': ['B4_median', 'B3_median', 'B2_median'], 'max': 0.3})}\n",
    "\n",
    "# Display the results\n",
    "center = [37.7726, -122.3578]\n",
    "Mapdisplay(center, dicc, zoom_start= 12)"
   ]
  },
  {
   "cell_type": "markdown",
   "metadata": {
    "colab_type": "text",
    "id": "PLEcUs_vUI9L"
   },
   "source": [
    "Note that the band names differ as a result of using reduce() instead of the convenience method. Specifically, the names of the reducer have been appended to the band names.\n",
    "\n",
    "More complex reductions are also possible using reduce(). For example, to compute the long term linear trend over a collection, use one of the linear regression reducers. The following code computes the linear trend of MODIS Enhanced Vegetation Index (EVI)."
   ]
  },
  {
   "cell_type": "code",
   "execution_count": null,
   "metadata": {
    "colab": {
     "base_uri": "https://localhost:8080/",
     "height": 690
    },
    "colab_type": "code",
    "id": "d_3oQp-fUK3l",
    "outputId": "dada076a-bba2-49a6-ac6c-3a59150eb30c"
   },
   "outputs": [],
   "source": [
    "# This function adds a band representing the image timestamp.\n",
    "def addTime(image):\n",
    "  return image.addBands(image.metadata('system:time_start').divide(1000 * 60 * 60 * 24 * 365))\n",
    "\n",
    "# Load a MODIS collection, filter to several years of 16 day mosaics, and map the time band function over it.\n",
    "collection = ee.ImageCollection('MODIS/006/MYD13A1').filterDate('2004-01-01', '2010-10-31').map(addTime)\n",
    "\n",
    "# Select the bands to model with the independent variable first.\n",
    "# Compute the linear trend over time.\n",
    "trend = collection.select(['system:time_start', 'EVI']).reduce(ee.Reducer.linearFit())\n",
    "\n",
    "# Display the trend with increasing slopes in green, decreasing in red.\n",
    "dicc = {\n",
    "    'EVI trend' : trend.getMapId({'min': 0, 'max': [-100, 100, 10000], 'bands': ['scale', 'scale', 'offset']})\n",
    "}\n",
    "\n",
    "# Display the results\n",
    "center = [39.436, -96.943]\n",
    "Mapdisplay(center, dicc, zoom_start= 5)"
   ]
  },
  {
   "cell_type": "markdown",
   "metadata": {
    "colab_type": "text",
    "id": "WdSBilTMVhVh"
   },
   "source": [
    "Note that the output of the reduction in this example is a two banded image with one band for the slope of a linear regression (**scale**) and one band for the intercept (**offset**). Explore the API documentation to see a list of the reducers that are available to reduce an **ImageCollection** to a single Image. See the **ImageCollection.reduce()** section for more information about reducing image collections.\n",
    "\n"
   ]
  },
  {
   "cell_type": "markdown",
   "metadata": {
    "colab_type": "text",
    "id": "V-F1RE7bKvaw"
   },
   "source": [
    "# Iterating over an ImageCollection\n",
    "\n",
    "Although `map()` applies a function to every image in a collection, the function visits every image in the collection independently. For example, suppose you want to compute a cumulative anomaly ($A_t$) at time t from a time series. To obtain a recursively defined series of the form $A_t = f(Image_t, A_{t-1})$, mapping won't work because the function (f) depends on the previous result ($A{t-1}$). \n",
    "\n",
    "For example, suppose you want to compute a series of cumulative Normalized Difference Vegetation Index (NDVI) anomaly images relative to a baseline. Let $A_0 = 0$ and $f(Image_t, A_{t-1}) = Image_t + A_{t-1}$ where $A_{t-1}$ is the cumulative anomaly up to time $t-1$ and Image_t is the anomaly at time t. Use **imageCollection.iterate()** to make this recursively defined ImageCollection. In the following example, the function **accumulate()** takes two parameters: an image in the collection, and a list of all the previous outputs. With each call to **iterate()**, the anomaly is added to the running sum and the result is added to the list. The final result is passed to the **ImageCollection** constructor to get a new sequence of images:\n"
   ]
  },
  {
   "cell_type": "code",
   "execution_count": null,
   "metadata": {
    "colab": {
     "base_uri": "https://localhost:8080/",
     "height": 700
    },
    "colab_type": "code",
    "id": "EdSJozzrL5-n",
    "outputId": "3365f0e7-b850-47e8-cb8d-c28c40a0b076"
   },
   "outputs": [],
   "source": [
    "# Load MODIS EVI imagery.\n",
    "collection = ee.ImageCollection('MODIS/006/MYD13A1').select('EVI');\n",
    "\n",
    "# Define reference conditions from the first 10 years of data.\n",
    "reference = collection.filterDate('2001-01-01', '2010-12-31')\\\n",
    "                      .sort('system:time_start', False) # Sort chronologically in descending order.\n",
    "\n",
    "# Compute the mean of the first 10 years.\n",
    "mean = reference.mean()\n",
    "\n",
    "# Compute anomalies by subtracting the 2001-2010 mean from each image in a\n",
    "# collection of 2011-2014 images. Copy the date metadata over to the\n",
    "# computed anomaly images in the new collection.\n",
    "series = collection.filterDate('2011-01-01', '2014-12-31')\\\n",
    "                   .map(lambda img: img.subtract(mean).set('system:time_start', img.get('system:time_start')))\n",
    "\n",
    "# Display cumulative anomalies.\n",
    "center = [40.2,-100.811]\n",
    "vizParams = {'min': -60000, 'max': 60000, 'palette': ['FF0000', '000000', '00FF00']}\n",
    "dicc = {'EVI anomaly':series.sum().getMapId(vizParams)}\n",
    "Mapdisplay(center,dicc,zoom_start=5)"
   ]
  },
  {
   "cell_type": "code",
   "execution_count": null,
   "metadata": {
    "colab": {},
    "colab_type": "code",
    "id": "lLmjL0bdMvOE"
   },
   "outputs": [],
   "source": [
    "# Get the timestamp from the most recent image in the reference collection.\n",
    "time0 = reference.first().get('system:time_start')\n",
    "\n",
    "# Use imageCollection.iterate() to make a collection of cumulative anomaly over time.\n",
    "# The initial value for iterate() is a list of anomaly images already processed.\n",
    "# The first anomaly image in the list is just 0, with the time0 timestamp.\n",
    "first = ee.List([ee.Image(0).set('system:time_start', time0).select([0], ['EVI'])]) # Rename the first band 'EVI'.\n",
    "\n",
    "# This is a function to pass to Iterate().\n",
    "# As anomaly images are computed, add them to the list.\n",
    "def accumulate(img,lista):\n",
    "  # Get the latest cumulative anomaly image from the end of the list with\n",
    "  # get(-1).  Since the type of the list argument to the function is unknown,\n",
    "  # it needs to be cast to a List.  Since the return type of get() is unknown,\n",
    "  # cast it to Image.\n",
    "  img = ee.Image(img)\n",
    "  previous = ee.Image(ee.List(lista).get(-1))\n",
    "  # Add the current anomaly to make a new cumulative anomaly image.\n",
    "  added = img.add(previous)\\\n",
    "               .set('system:time_start', img.get('system:time_start')) # Propagate metadata to the new image.\n",
    "  # Return the list with the cumulative anomaly inserted.\n",
    "  return ee.List(lista).add(added)\n",
    "\n",
    "# Create an ImageCollection of cumulative anomaly images by iterating.\n",
    "# Since the return type of iterate is unknown, it needs to be cast to a List.\n",
    "cumulative = ee.ImageCollection(ee.List(series.iterate(accumulate, first)))"
   ]
  },
  {
   "cell_type": "code",
   "execution_count": null,
   "metadata": {
    "colab": {},
    "colab_type": "code",
    "id": "TOOglazRMxnr"
   },
   "outputs": [],
   "source": [
    "def stackCollection(collection):\n",
    "  # Create an initial image.\n",
    "  first = ee.Image(collection.first()).select([])\n",
    "\n",
    "  # Write a function that appends a band to an image.\n",
    "  def appendBands(image, previous):\n",
    "    return ee.Image(previous).addBands(image)\n",
    "  return ee.Image(collection.iterate(appendBands, first))"
   ]
  },
  {
   "cell_type": "code",
   "execution_count": null,
   "metadata": {
    "colab": {
     "base_uri": "https://localhost:8080/",
     "height": 269
    },
    "colab_type": "code",
    "id": "cM9Qg9iTM0o6",
    "outputId": "bf76bdca-4937-4e48-ad00-02e12565991d"
   },
   "outputs": [],
   "source": [
    "import numpy as np\n",
    "import matplotlib.pyplot as plt\n",
    "\n",
    "# Chart some interesting locations.\n",
    "pt1 = ee.Geometry.Point(116.4647, 40.1054)\n",
    "\n",
    "# ee.ImageCollection to ee.Image\n",
    "img_cumulative = stackCollection(cumulative)\n",
    "\n",
    "\n",
    "series = img_cumulative.reduceRegions(collection=pt1,\n",
    "                                      reducer=ee.Reducer.mean(),\n",
    "                                      scale=500)\n",
    "\n",
    "dic_series = series.getInfo()\n",
    "EVI_anom = np.array(list(dic_series['features'][0]['properties'].values()))\n",
    "\n",
    "plt.plot(EVI_anom)\n",
    "plt.show()"
   ]
  }
 ],
 "metadata": {
  "colab": {
   "collapsed_sections": [
    "wn46CWeD1fj8",
    "WZzMDoNFMQqj",
    "46iNcZViMhuq",
    "SRN5w_VqNRUU",
    "ufMTpJqnOWM5",
    "_2V04dYAPKQ-"
   ],
   "name": "ee_ImageCollection.ipynb",
   "provenance": [],
   "toc_visible": true,
   "version": "0.3.2"
  },
  "kernelspec": {
   "display_name": "Python 3 (ipykernel)",
   "language": "python",
   "name": "python3"
  },
  "language_info": {
   "codemirror_mode": {
    "name": "ipython",
    "version": 3
   },
   "file_extension": ".py",
   "mimetype": "text/x-python",
   "name": "python",
   "nbconvert_exporter": "python",
   "pygments_lexer": "ipython3",
   "version": "3.9.7"
  }
 },
 "nbformat": 4,
 "nbformat_minor": 1
}
