{
 "cells": [
  {
   "cell_type": "markdown",
   "id": "07c4e756",
   "metadata": {},
   "source": [
    "# Preparation to work with Google Earth Engine\n",
    "\n",
    "After we learned the basics of QGIS in the first part of the course, it is now time to introduce Google Earth Engine and how to connect it with QGIS. First, lets take a look at [what the Google Earth Engine (GEE) even does](https://youtu.be/5fQn_CMPwfU). Basically, it is a tool that allows you to skip the harder parts of remote sensing, like extracting and cleaning remote sensing date and go directly to the science part. To get it to work with QGIS, we get an GEE account and learn to download and manipulate the spatial data. But we will go through this step by step. "
   ]
  },
  {
   "cell_type": "markdown",
   "id": "9a202f56",
   "metadata": {},
   "source": [
    "## Installing the trends.earth plugin for QGIS\n",
    "The goal of this course is to study land cover changes and understand them. One good tool for this is the trends.earth\" toolbox. This is basically a collection of nice algorithms to make working with land use data easier in QGIS. As it is a plugin, we first [have to install it](https://youtu.be/uSTvNMpZF4I). You (free) [need a user account](https://youtu.be/qm5LFF-jhaM) for the toolbox (feel free to enter fake data). \n",
    "\n",
    "You can find additional information about trends.earth [in its documentation](https://trends.earth/docs/en/). "
   ]
  },
  {
   "cell_type": "markdown",
   "id": "cc24e5b6",
   "metadata": {},
   "source": [
    "## Taking a look at the Google Earth Engine\n",
    "Let's take a first look at [Google Earth Engine](https://earthengine.google.com/) and [listen to a first overview](https://youtu.be/uHtehTSw7vg). As stated in the video, you need a google account to be able to use GEE. Again, feel free to enter fake data to create one (if you not already have one). \n",
    "\n",
    "To "
   ]
  }
 ],
 "metadata": {
  "kernelspec": {
   "display_name": "Python 3 (ipykernel)",
   "language": "python",
   "name": "python3"
  },
  "language_info": {
   "codemirror_mode": {
    "name": "ipython",
    "version": 3
   },
   "file_extension": ".py",
   "mimetype": "text/x-python",
   "name": "python",
   "nbconvert_exporter": "python",
   "pygments_lexer": "ipython3",
   "version": "3.9.7"
  }
 },
 "nbformat": 4,
 "nbformat_minor": 5
}
