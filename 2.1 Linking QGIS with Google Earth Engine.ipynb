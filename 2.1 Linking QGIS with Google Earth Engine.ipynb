{
 "cells": [
  {
   "cell_type": "markdown",
   "id": "07c4e756",
   "metadata": {},
   "source": [
    "After we learned the basics of QGIS in the first part of the course, it is now time to introduce Google Earth Engine and how to connect it with QGIS. First, lets take a look at "
   ]
  },
  {
   "cell_type": "code",
   "execution_count": null,
   "id": "86b34f75",
   "metadata": {},
   "outputs": [],
   "source": []
  }
 ],
 "metadata": {
  "kernelspec": {
   "display_name": "Python 3 (ipykernel)",
   "language": "python",
   "name": "python3"
  },
  "language_info": {
   "codemirror_mode": {
    "name": "ipython",
    "version": 3
   },
   "file_extension": ".py",
   "mimetype": "text/x-python",
   "name": "python",
   "nbconvert_exporter": "python",
   "pygments_lexer": "ipython3",
   "version": "3.9.7"
  }
 },
 "nbformat": 4,
 "nbformat_minor": 5
}
