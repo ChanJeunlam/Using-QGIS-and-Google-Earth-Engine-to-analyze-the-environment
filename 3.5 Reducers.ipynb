{
 "cells": [
  {
   "cell_type": "markdown",
   "metadata": {
    "colab_type": "text",
    "id": "V7ItGnKsFOZg"
   },
   "source": [
    "# Reducer Overview\n",
    "\n",
    "Reducers are the way to aggregate data over time, space, bands, arrays and other data structures in Earth Engine. The `ee.Reducer` class specifies how data is aggregated. The reducers in this class can specify a simple statistic to use for the aggregation (e.g. minimum, maximum, mean, median, standard deviation, etc.), or a more complex summary of the input data (e.g. histogram, linear regression, list). Reductions may occur over:\n",
    "\n",
    "- **time**  = `imageCollection.reduce()`\n",
    "- **space** = `image.reduceRegion()` and `image.reduceNeighborhood()`**\n",
    "- **bands**  = `image.reduce()`,\n",
    "\n",
    "Or the attribute space of a `FeatureCollection` (`featureCollection.reduceColumns()` or `FeatureCollection` methods that start with `aggregate_`).\n",
    "\n",
    "\n",
    "## Reducers have inputs and outputs\n",
    "\n",
    "Reducers take an input dataset and produce a single output. When a single input reducer is applied to a multi-band image, Earth Engine automatically replicates the reducer and applies it separately to each band. As a result, the output image has the same number of bands as the input image; each band in the output is the reduction of pixels from the corresponding band in the input data. Some reducers take tuples of input datasets. These reducers will not be automatically replicated for each band. For example, `ee.Reducer.LinearRegression()` takes multiple predictor datasets (representing independent variables in the regression) in a particular order (see Regression reducers section bellow).\n",
    "\n",
    "Some reducers produce multiple outputs, for example `ee.Reducer.minMax()`, `ee.Reducer.histogram()` or `ee.Reducer.toList()`. For example:"
   ]
  },
  {
   "cell_type": "code",
   "execution_count": null,
   "metadata": {
    "colab": {},
    "colab_type": "code",
    "id": "e9ejEh7qEke0"
   },
   "outputs": [],
   "source": [
    "# Load and filter the Sentinel-2 image collection.\n",
    "collection = ee.ImageCollection('COPERNICUS/S2')\\\n",
    "               .filterDate('2016-01-01', '2016-12-31')\\\n",
    "               .filterBounds(ee.Geometry.Point([-81.31, 29.90]))\n",
    "\n",
    "# Reduce the collection.\n",
    "extrema = collection.reduce(ee.Reducer.minMax())"
   ]
  },
  {
   "cell_type": "markdown",
   "metadata": {
    "colab_type": "text",
    "id": "uqPsM4E4Jlxm"
   },
   "source": [
    "This will produce an output with twice the number of bands of the inputs, where band names in the output have ‘_min’ or ‘_max’ appended to the band name.\n",
    "\n",
    "The output type should match the computation. For example, a reducer applied to an ImageCollection has an Image output. Because the output is interpreted as a pixel value, you must use reducers with a numeric output to reduce an ImageCollection (reducers like `toList()` or `histogram()` won’t work).\n",
    "\n",
    "## Reducers use weighted inputs\n",
    "\n",
    "By default, reductions over pixel values are weighted by their mask, though this behavior can be changed (see the Weighting section bellow). Pixels with mask equal to 0 will not be used in the reduction.\n",
    "\n",
    "## Combining reducers\n",
    "\n",
    "If your intent is to apply multiple reducers to the same inputs, it's good practice to `combine()` the reducers for efficiency. Specifically, calling `combine()` on a reducer with `sharedInputs` set to `true` will result in only a single pass over the data. For example, to compute the mean and standard deviation of pixels in an image, you could use something like this:"
   ]
  },
  {
   "cell_type": "code",
   "execution_count": null,
   "metadata": {
    "colab": {},
    "colab_type": "code",
    "id": "T8JKG8UbJvXu"
   },
   "outputs": [],
   "source": [
    "from pprint import pprint \n",
    "\n",
    "# Load a Landsat 8 image.\n",
    "image = ee.Image('LANDSAT/LC08/C01/T1/LC08_044034_20140318')\n",
    "\n",
    "# Combine the mean and standard deviation reducers.\n",
    "reducers = ee.Reducer.mean().combine(\n",
    "  reducer2=ee.Reducer.stdDev(),\n",
    "  sharedInputs=True\n",
    ")\n",
    "\n",
    "# Use the combined reducer to get the mean and SD of the image.\n",
    "stats = image.reduceRegion(\n",
    "  reducer=reducers,\n",
    "  bestEffort=True,\n",
    ")\n",
    "\n",
    "# Display the dictionary of band means and SDs.\n",
    "pprint(stats.getInfo())"
   ]
  },
  {
   "cell_type": "markdown",
   "metadata": {
    "colab_type": "text",
    "id": "BzB0gON0Mgsj"
   },
   "source": [
    "In the output, note that the names of the reducers have been appended to the names of the inputs to distinguish the reducer outputs. This behavior also applies to image outputs, which will have the name of the reducer appended to output band names."
   ]
  },
  {
   "cell_type": "markdown",
   "metadata": {
    "colab_type": "text",
    "id": "sLgQV4zmMoXM"
   },
   "source": [
    "# ImageCollection Reductions\n",
    "\n",
    "Consider the example of needing to take the median over a time series of images represented by an `ImageCollection`. To reduce an `ImageCollection`, use `imageCollection.reduce()`. This reduces the collection of images to an individual image as illustrated in Figure 1. Specifically, the output is computed pixel-wise, such that each pixel in the output is composed of the median value of all the images in the collection at that location. To get other statistics, such as mean, sum, variance, an arbitrary percentile, etc., the appropriate reducer should be selected and applied. For basic statistics like min, max, mean, etc., `ImageCollection` has shortcut methods like `min()`, `max()`, `mean()`, etc. They function in exactly the same way as calling reduce(), except the resultant band names will not have the name of the reducer appended.\n",
    "\n",
    "\n",
    "<center>\n",
    "<image src = \"https://developers.google.com/earth-engine/images/Reduce_ImageCollection.png\">  \n",
    "</center>\n",
    "\n",
    "<center>\n",
    "  Figure 1. Illustration of an ee.Reducer applied to an ImageCollection."
   ]
  },
  {
   "cell_type": "code",
   "execution_count": null,
   "metadata": {
    "colab": {
     "base_uri": "https://localhost:8080/",
     "height": 559
    },
    "colab_type": "code",
    "id": "uT1SchrQNMOM",
    "outputId": "f773040c-babf-4d7e-9919-0c62e1bf9cb3"
   },
   "outputs": [],
   "source": [
    "# Load an image collection, filtered so it's not too much data.\n",
    "collection = ee.ImageCollection('LANDSAT/LT05/C01/T1')\\\n",
    "               .filterDate('2008-01-01', '2008-12-31')\\\n",
    "               .filter(ee.Filter.eq('WRS_PATH', 44))\\\n",
    "               .filter(ee.Filter.eq('WRS_ROW', 34))\n",
    "\n",
    "# Compute the median in each band, each pixel.\n",
    "# Band names are B1_median, B2_median, etc.\n",
    "median = collection.reduce(ee.Reducer.median())\n",
    "\n",
    "# The output is an Image.  Add it to the map.\n",
    "vis_param = {'bands': ['B4_median', 'B3_median', 'B2_median'], 'gamma': 1.6}\n",
    "median_tk = median.getMapId(vis_param)\n",
    "\n",
    "center = [37.7924, -122.3355]\n",
    "Mapdisplay(center,{'Landsat 5':median_tk},zoom_start=9)"
   ]
  },
  {
   "cell_type": "markdown",
   "metadata": {
    "colab_type": "text",
    "id": "hFG8e10dOkWu"
   },
   "source": [
    "This returns a multi-band Image, each pixel of which is the median of all unmasked pixels in the ImageCollection at that pixel location. Specifically, the reducer has been repeated for each band of the input imagery. Note that the band names have the name of the reducer appended: ‘B1_median’, ‘B2_median’, etc.\n"
   ]
  },
  {
   "cell_type": "markdown",
   "metadata": {
    "colab_type": "text",
    "id": "_GNMkQhbjtW1"
   },
   "source": [
    "# Image Reductions\n",
    "\n",
    "To reduce an `Image`, use `image.reduce()`. Reducing an image functions in an analogous way to `imageCollection.reduce()`, except the bands of the image are input to the reducer rather than the images in the collection. The output is also an image with number of bands equal to number of reducer outputs. For example:\n",
    "\n",
    "\n"
   ]
  },
  {
   "cell_type": "code",
   "execution_count": null,
   "metadata": {
    "colab": {
     "base_uri": "https://localhost:8080/",
     "height": 559
    },
    "colab_type": "code",
    "id": "E71SF93vjz8X",
    "outputId": "63b50976-e6fd-4b70-adcf-ca57a4149250"
   },
   "outputs": [],
   "source": [
    "# Load an image and select some bands of interest.\n",
    "image = ee.Image('LANDSAT/LC08/C01/T1/LC08_044034_20140318')\\\n",
    "          .select(['B4', 'B3', 'B2'])\n",
    "\n",
    "# Reduce the image to get a one-band maximum value image.\n",
    "maxValue = image.reduce(ee.Reducer.max())\n",
    "\n",
    "# Display the result\n",
    "vis_param = {'max': 13000, 'gamma': 1.6}\n",
    "center = [37.7924, -122.3355]\n",
    "\n",
    "maxValue_tk = maxValue.getMapId(vis_param)\n",
    "Mapdisplay(center,{'Landsat 5':maxValue_tk},zoom_start=10)"
   ]
  },
  {
   "cell_type": "markdown",
   "metadata": {
    "colab_type": "text",
    "id": "fWaU-JSQuRDL"
   },
   "source": [
    "# Statistics of an Image Region\n",
    "\n",
    "Suppose there is need to calculate statistics over a region (or regions) of an `ee.Image`. To get statistics of pixel values in an image region, use `image.reduceRegion()`. This reduces all the pixels in the region(s) to a statistic or other compact representation of the pixel data in the region (e.g. histogram). The region is represented as a `Geometry`, which might be a polygon, containing many pixels, or it might be a single point, in which case there will only be one pixel in the region. In either case, as illustrated in Figure 2,  the output is a statistic derived from the pixels in the region.\n",
    "\n",
    "<center>\n",
    "<image src=\" https://developers.google.com/earth-engine/images/Reduce_region_diagram.png\" >\n",
    "</center>\n",
    "  \n",
    "\n",
    "<center>\n",
    "  Figure 2. An illustration of an `ee.Reducer` applied to an image and a region.\n",
    "</center>\n",
    "  \n",
    "  \n",
    "For an example of getting pixel statistics in a region of an image using reduceRegion(), consider finding the mean spectral values of a 5-year Landsat composite within the boundaries of the Sierra Nevada Coniferous Forest:\n",
    "  \n",
    "  "
   ]
  },
  {
   "cell_type": "code",
   "execution_count": null,
   "metadata": {
    "colab": {
     "base_uri": "https://localhost:8080/",
     "height": 143
    },
    "colab_type": "code",
    "id": "L4-1dVMou92O",
    "outputId": "f1adf0f9-feeb-4fc3-c6ef-17bbb1c140a6"
   },
   "outputs": [],
   "source": [
    "# Load input imagery: Landsat 7 5-year composite.\n",
    "image = ee.Image('LANDSAT/LE7_TOA_5YEAR/2008_2012')\n",
    "\n",
    "# Load an input region: Sierra Nevada mixed conifer forest.\n",
    "region = ee.Feature(ee.FeatureCollection(\n",
    "  'ft:1Ec8IWsP8asxN-ywSqgXWMuBaxI6pPaeh6hC64lA')\n",
    "  .filter(ee.Filter.eq('G200_REGIO', 'Sierra Nevada Coniferous Forests'))\\\n",
    "  .first())\n",
    "\n",
    "# Reduce the region. The region parameter is the Feature geometry.\n",
    "meanDictionary = image.reduceRegion(**{\n",
    "  'reducer': ee.Reducer.mean(),\n",
    "  'geometry': region.geometry(),\n",
    "  'scale': 30,\n",
    "  'maxPixels': 1e9\n",
    "})\n",
    "\n",
    "# The result is a Dictionary.  Print it.\n",
    "pprint(meanDictionary.getInfo())"
   ]
  },
  {
   "cell_type": "markdown",
   "metadata": {
    "colab_type": "text",
    "id": "KSqQ91Fqxatx"
   },
   "source": [
    "Note that in this example the reduction is specified by providing the `reducer` (`ee.Reducer.mean()`), the `geometry` (`region.geometry()`), the `scale` (30 meters) and `maxPixels` for the maximum number of pixels to input to the reducer. A scale should always be specified in reduceRegion() calls. This is because in complex processing flows, which may involve data from different sources with different scales, the scale of the output will not be unambiguously determined from the inputs. In that case, the scale defaults to 1 degree, which generally produces unsatisfactory results. See [this page](https://developers.google.com/earth-engine/scale) for more information about how Earth Engine handles scale.\n",
    "\n",
    "There are two ways to set the scale: by specifying the scale parameter, or by specifying a CRS and CRS transform. (See the [glossary](https://developers.google.com/earth-engine/glossary) for more information about CRS's and CRS transforms). For example, the meanDictionary reduction (above) is equivalent to the following:"
   ]
  },
  {
   "cell_type": "code",
   "execution_count": null,
   "metadata": {
    "colab": {
     "base_uri": "https://localhost:8080/",
     "height": 143
    },
    "colab_type": "code",
    "id": "zmF-nUsCxBdp",
    "outputId": "68b0300e-452a-4c90-87c4-0219b633e52c"
   },
   "outputs": [],
   "source": [
    "# As an alternative to specifying scale, specify a CRS and a CRS transform.\n",
    "# Make this array by constructing a 4326 projection at 30 meters,\n",
    "# then copying the bounds of the composite, from composite.projection().\n",
    "affine = [0.00026949458523585647, 0, -180, 0, -0.00026949458523585647, 86.0000269494563];\n",
    "\n",
    "# Perform the reduction, print the result.\n",
    "pprint(image.reduceRegion(**{\n",
    "  'reducer': ee.Reducer.mean(),\n",
    "  'geometry': region.geometry(),\n",
    "  'crs': 'EPSG:4326',\n",
    "  'crsTransform': affine,\n",
    "  'maxPixels': 1e9\n",
    "}).getInfo()) "
   ]
  },
  {
   "cell_type": "markdown",
   "metadata": {
    "colab_type": "text",
    "id": "TPsluyew0mKg"
   },
   "source": [
    "In general, specifying the scale is sufficient and results in more readable code. Earth Engine determines which pixels to input to the reducer by first rasterizing the region. If a scale is specified without a CRS, the region is rasterized in the image's native projection scaled to the specified resolution. If both a CRS and scale are specified, the region is rasterized based on them. Pixels are ‘in’ the region if their centroid is covered by the region at the specified scale and projection.\n",
    "\n",
    "The `maxPixels` parameter is needed to get the computation to succeed. If this parameter is left out of the example, an error is returned, which looks something like:\n",
    "\n",
    "\n",
    "\n",
    "```\n",
    "Dictionary (Error)\n",
    "  Image.reduceRegion: Too many pixels in the region. Found 527001545, but only 10000000 allowed.\n",
    "```\n",
    "\n",
    "\n",
    "There are multiple options to get past these errors: increase maxPixels, as in the example, increase the scale, or set bestEffort to true, which automatically computes a new (larger) scale such that maxPixels is not exceeded. If you do not specify maxPixels, the default value is used."
   ]
  },
  {
   "cell_type": "markdown",
   "metadata": {
    "colab_type": "text",
    "id": "F5-4Y7H02uDW"
   },
   "source": [
    "# Statistics of Image Neighborhoods\n",
    "\n",
    "Rather than specifying a region over which to perform a reduction, it is also possible to specify a neighborhood in which to apply a reducer. To reduce image neighborhoods, use `image.reduceNeighborhood()`. In this case, the reduction will occur in a sliding window over the input image, with the window size and shape specified by an `ee.Kernel`. The output of `reduceNeighborhood()` will be another image, with each pixel value representing the output of the reduction in a neighborhood around that pixel in the input image. Figure 3 illustrates this type of reduction.\n",
    "\n",
    "<center>\n",
    "<img src=\"https://developers.google.com/earth-engine/images/Reduce_Neighborhood.png\">  \n",
    "</center>  \n",
    "\n",
    "<center>\n",
    "Figure 3. Illustration of `reduceNeighborhood()`, where the reducer is applied in a kernel.\n",
    "</center>  \n",
    "\n",
    "\n",
    "For example, consider using National Agriculture Imagery Program (NAIP) imagery to quantify landscape differences resulting from logging in the California redwood forests. Specifically, use standard deviation (SD) in a neighborhood to represent the difference in texture between the logged area and the protected area. For example, to get texture of a NAIP Normalized Difference Vegetation Index (NDVI) image, use reduceNeighborhood() to compute SD in a neighborhood defined by a kernel:\n",
    "\n"
   ]
  },
  {
   "cell_type": "code",
   "execution_count": null,
   "metadata": {
    "colab": {
     "base_uri": "https://localhost:8080/",
     "height": 559
    },
    "colab_type": "code",
    "id": "w7YYqNYd4MqQ",
    "outputId": "9b66c6c9-9108-49d4-fd64-e07bd26ddc3b"
   },
   "outputs": [],
   "source": [
    "# Define a region in the redwood forest.\n",
    "redwoods = ee.Geometry.Rectangle(-124.0665, 41.0739, -123.934, 41.2029)\n",
    "\n",
    "# Load input NAIP imagery and build a mosaic.\n",
    "naipCollection = ee.ImageCollection('USDA/NAIP/DOQQ')\\\n",
    "                   .filterBounds(redwoods)\\\n",
    "                   .filterDate('2012-01-01', '2012-12-31')\n",
    "\n",
    "naip = naipCollection.mosaic()\n",
    "\n",
    "# Compute NDVI from the NAIP imagery.\n",
    "naipNDVI = naip.normalizedDifference(['N', 'R'])\n",
    "\n",
    "# Compute standard deviation (SD) as texture of the NDVI.\n",
    "texture = naipNDVI.reduceNeighborhood(**{\n",
    "  'reducer': ee.Reducer.stdDev(),\n",
    "  'kernel': ee.Kernel.circle(7),\n",
    "})\n",
    "\n",
    "# Display the results.\n",
    "center = redwoods.centroid().getInfo()['coordinates']\n",
    "center.reverse()\n",
    "dicc ={'NAIP input imagery': naip.getMapId(),\n",
    "       'NDVI': naipNDVI.getMapId({'min': -1, 'max': 1, 'palette': ['FF0000', '00FF00']}),\n",
    "       'SD of NDVI':texture.getMapId({'min': 0, 'max': 0.3})}\n",
    "Mapdisplay(center,dicc,zoom_start=12)"
   ]
  },
  {
   "cell_type": "markdown",
   "metadata": {
    "colab_type": "text",
    "id": "gc10yKO37cjQ"
   },
   "source": [
    "# Statistics of FeatureCollection Columns\n",
    "\n",
    "To reduce properties of features in a `FeatureCollection`, use `featureCollection.reduceColumns()`. Consider the following toy example:\n"
   ]
  },
  {
   "cell_type": "code",
   "execution_count": null,
   "metadata": {
    "colab": {
     "base_uri": "https://localhost:8080/",
     "height": 35
    },
    "colab_type": "code",
    "id": "fo76QdrF768P",
    "outputId": "1c09f1c6-f467-4f1c-c753-585cedbda0c0"
   },
   "outputs": [],
   "source": [
    "# Make a toy FeatureCollection.\n",
    "aFeatureCollection = ee.FeatureCollection([\n",
    "  ee.Feature(None, {'foo': 1, 'weight': 1}),\n",
    "  ee.Feature(None, {'foo': 2, 'weight': 2}),\n",
    "  ee.Feature(None, {'foo': 3, 'weight': 3}),\n",
    "])\n",
    "\n",
    "# Compute a weighted mean and display it.\n",
    "pprint(aFeatureCollection.reduceColumns(**{\n",
    "  'reducer': ee.Reducer.mean(),\n",
    "  'selectors': ['foo'],\n",
    "  'weightSelectors': ['weight']\n",
    "}).getInfo())"
   ]
  },
  {
   "cell_type": "markdown",
   "metadata": {
    "colab_type": "text",
    "id": "FPMrXnrd8M6t"
   },
   "source": [
    "As a more complex example, consider a `FeatureCollection` of US counties with census data as attributes. The variables of interest are total population and total housing units. You can get their sum(s) by supplying a summing reducer argument to `reduceColumns()` and printing the result:"
   ]
  },
  {
   "cell_type": "code",
   "execution_count": null,
   "metadata": {
    "colab": {
     "base_uri": "https://localhost:8080/",
     "height": 577
    },
    "colab_type": "code",
    "id": "xqXf4rTp8Maf",
    "outputId": "a52d3cfe-1249-43e7-dbce-0ee7d81ef317"
   },
   "outputs": [],
   "source": [
    "# Load a collection of US counties with census data properties and display it.\n",
    "counties = ee.FeatureCollection('ft:1S4EB6319wWW2sWQDPhDvmSBIVrD3iEmCLYB7nMM')\n",
    "\n",
    "# Compute sums of the specified properties and print the resultant Dictionary.\n",
    "sums = counties.filter(ee.Filter.And(ee.Filter.neq('Census 2000 Population', None),\n",
    "                                     ee.Filter.neq('Census 2000 Housing Units', None)))\\\n",
    "               .reduceColumns(**{'reducer': ee.Reducer.sum().repeat(2),\n",
    "                               'selectors': ['Census 2000 Population', 'Census 2000 Housing Units']})\n",
    "print(sums.getInfo())\n",
    "\n",
    "# Display with folium!\n",
    "center = counties.geometry().centroid().getInfo()['coordinates']\n",
    "center.reverse()\n",
    "Mapdisplay(center,{'Census':counties.getMapId()},zoom_start=5)"
   ]
  },
  {
   "cell_type": "markdown",
   "metadata": {
    "colab_type": "text",
    "id": "f8r4aT1F95MD"
   },
   "source": [
    "Note that because feature collections may contain missing data (unlike images, which handle missing data with masks), the input needs to be pre-filtered to eliminate null values.\n",
    "\n",
    "An error that looks something like the following may be thrown as a result of attributes with **None** values:\n",
    "\n",
    "```\n",
    "Dictionary (Error)\n",
    "  Collection.reduceColumns: Can't set input 0 of Reducer(reducer=SUM, count=2) to .:\n",
    "  Input must be a scalar number.\n",
    "```  \n",
    "Also note that unlike `imageCollection.reduce()`, in which reducers are automatically repeated for each band, reducers on a `FeatureCollection` must be explicitly repeated using `repeat()`. Specifically, repeat the reducer m times for m inputs. The following error may be thrown as a result of not repeating the reducer:\n",
    "\n",
    "```\n",
    "Dictionary (Error)\n",
    "  Collection.reduceColumns: Need 1 inputs for <Reducer>, got 2.\n",
    "```\n",
    "\n"
   ]
  },
  {
   "cell_type": "markdown",
   "metadata": {
    "colab_type": "text",
    "id": "DIA-XFQc-vpL"
   },
   "source": [
    "# Raster to Vector Conversion\n",
    "\n",
    "To convert from an `Image` (raster) to a `FeatureCollection` (vector) data type, use `image.reduceToVectors()`. This is the primary mechanism for vectorization in Earth Engine, and can be useful for generating regions for input to other types of reducer. The `reduceToVectors()` method creates polygon edges (optionally centroids or bounding boxes instead) at the boundary of homogeneous groups of connected pixels.\n",
    "\n",
    "For example, consider a 2012 nightlights image of Japan. Let the nightlights digital number serve as a proxy for development intensity. Define zones using arbitrary thresholds on the nightlights, combine the zones into a single-band image, vectorize the zones using `reduceToVectors()`:"
   ]
  },
  {
   "cell_type": "code",
   "execution_count": null,
   "metadata": {
    "colab": {
     "base_uri": "https://localhost:8080/",
     "height": 35
    },
    "colab_type": "code",
    "id": "A1ehJ4pQ_KtJ",
    "outputId": "070e67d0-4d4a-4954-93a7-bd2c2c14a3f1"
   },
   "outputs": [],
   "source": [
    "# Load a Japan boundary from the Large Scale International Boundary dataset.\n",
    "japan = ee.FeatureCollection('USDOS/LSIB_SIMPLE/2017')\\\n",
    "          .filter(ee.Filter.eq('country_na', 'Japan'))\n",
    "\n",
    "# Load a 2012 nightlights image, clipped to the Japan border.\n",
    "nl2012 = ee.Image('NOAA/DMSP-OLS/NIGHTTIME_LIGHTS/F182012')\\\n",
    "           .select('stable_lights')\\\n",
    "           .clipToCollection(japan)\n",
    "\n",
    "# Define arbitrary thresholds on the 6-bit nightlights image.\n",
    "zones = nl2012.gt(30)\\\n",
    "              .add(nl2012.gt(55))\\\n",
    "              .add(nl2012.gt(62))\\\n",
    "              .updateMask(zones.neq(0))\n",
    "\n",
    "\n",
    "# Convert the zones of the thresholded nightlights to vectors.\n",
    "vectors = zones.addBands(nl2012).reduceToVectors(**{\n",
    "  'geometry': japan,\n",
    "  'crs': nl2012.projection(),\n",
    "  'scale': 1000,\n",
    "  'geometryType': 'polygon',\n",
    "  'eightConnected': False,\n",
    "  'labelProperty': 'zone',\n",
    "  'reducer': ee.Reducer.mean()\n",
    "})\n",
    "\n",
    "display = ee.Image(0).updateMask(0).paint(vectors, '000000', 3)\n",
    "\n",
    "\n",
    "# Display the thresholds.\n",
    "center = [35.712, 139.6225]\n",
    "zones_tk = zones.getMapId({'min': 1, 'max': 3, 'palette': ['0000FF', '00FF00', 'FF0000']})\n",
    "display_tk = display.getMapId({'palette': '000000'})\n",
    "\n",
    "Mapdisplay(center,{'raster':zones_tk,'vectors':display_tk},zoom_start=9)\n"
   ]
  },
  {
   "cell_type": "markdown",
   "metadata": {
    "colab_type": "text",
    "id": "lwh7meRSDGQ8"
   },
   "source": [
    "Note that the first band in the input is used to identify homogeneous regions and the remaining bands are reduced according to the provided reducer, the output of which is added as a property to the resultant vectors. The `geometry` parameter specifies the extent over which the vectors should be created. In general, it is good practice to specify a minimal zone over which to create vectors. It is also good practice to specify the `scale` and `crs` to avoid ambiguity. The output type is `‘polygon’` where the polygons are formed from homogeneous zones of four-connected neighbors (i.e. `eightConnected` is false). The last two parameters, `labelProperty` and reducer, specify that the output polygons should receive a property with the zone label and the mean of the nightlights band(s), respectively."
   ]
  },
  {
   "cell_type": "markdown",
   "metadata": {
    "colab_type": "text",
    "id": "03kGP-85Dy9M"
   },
   "source": [
    "# Vector to Raster Conversion\n",
    "\n",
    "Vector to raster conversion in Earth Engine is handled by the `featureCollection.reduceToImage()` method. This method assigns pixels under each feature the value of the specified property. This example uses the counties data to create an image representing the population of each county:"
   ]
  },
  {
   "cell_type": "code",
   "execution_count": null,
   "metadata": {
    "colab": {
     "base_uri": "https://localhost:8080/",
     "height": 559
    },
    "colab_type": "code",
    "id": "PCa_nFB5DZCh",
    "outputId": "dcf7c710-0148-452e-9419-6ada1f8e8a85"
   },
   "outputs": [],
   "source": [
    "# Load a collection of US counties with census data properties.\n",
    "counties = ee.FeatureCollection('ft:1S4EB6319wWW2sWQDPhDvmSBIVrD3iEmCLYB7nMM')\n",
    "\n",
    "# Make an image out of the population attribute and display it.\n",
    "popImage = counties.filter(ee.Filter.neq('Census 2000 Population', None))\\\n",
    "                   .reduceToImage(**{'properties': ['Census 2000 Population'],\n",
    "                                     'reducer': ee.Reducer.first()})\n",
    "center = [40.38, -99.976]\n",
    "popImage_tk = popImage.getMapId({'min': 0, 'max': 1000000,\n",
    "                                 'palette': ['0000FF', '00FF00', '00FFFF', 'FF0000']})\n",
    "Mapdisplay(center, {'popImage':popImage_tk}, zoom_start=5)"
   ]
  },
  {
   "cell_type": "markdown",
   "metadata": {
    "colab_type": "text",
    "id": "uljo9WV8Eyy5"
   },
   "source": [
    "If the features overlap, specify a reducer to indicate how to aggregate properties of overlapping features. In the previous example, since there is no overlap, an ee.Reducer.first() is sufficient. As in this example, pre-filter the data to eliminate nulls that can not be turned into an image. "
   ]
  },
  {
   "cell_type": "markdown",
   "metadata": {
    "colab_type": "text",
    "id": "a6P7dqMPGHYL"
   },
   "source": [
    "# Grouped Reductions and Zonal Statistics\n",
    "\n",
    "You can get statistics in each zone of an `Image` or `FeatureCollection` by using `reducer.group()` to group the output of a reducer by the value of a specified input. For example, to compute the total population and number of housing units in each state, this example groups the output of a reduction of a counties `FeatureCollection` as follows:\n",
    "\n",
    "\n"
   ]
  },
  {
   "cell_type": "code",
   "execution_count": null,
   "metadata": {
    "colab": {
     "base_uri": "https://localhost:8080/",
     "height": 935
    },
    "colab_type": "code",
    "id": "aqr20ClRGUm_",
    "outputId": "440de5f0-6e3b-4ffb-b83c-499fdc5b993c"
   },
   "outputs": [],
   "source": [
    "# Load a collection of US counties with census data properties.\n",
    "counties = ee.FeatureCollection('ft:1S4EB6319wWW2sWQDPhDvmSBIVrD3iEmCLYB7nMM')\n",
    "\n",
    "# Compute sums of the specified properties, grouped by state name.\n",
    "sums = counties.filter(ee.Filter.And(ee.Filter.neq('Census 2000 Population', None),\n",
    "                                     ee.Filter.neq('Census 2000 Housing Units', None)))\\\n",
    "               .reduceColumns(**{\n",
    "                  'selectors': ['Census 2000 Population', 'Census 2000 Housing Units', 'StateName'],\n",
    "                  'reducer': ee.Reducer.sum().repeat(2).group(**{\n",
    "                      'groupField': 2,\n",
    "                      'groupName': 'state'})})\n",
    "\n",
    "# Print the resultant Dictionary.\n",
    "pprint(sums.getInfo())"
   ]
  },
  {
   "cell_type": "markdown",
   "metadata": {
    "colab_type": "text",
    "id": "QbiBeX3aHkgO"
   },
   "source": [
    "The `groupField` argument is the index of the input in the selectors array that contains the codes by which to group, the `groupName` argument specifies the name of the property to store the value of the grouping variable. Since the reducer is not automatically repeated for each input, the `repeat(2)` call is needed.\n",
    "\n",
    "To group output of `image.reduceRegions()` you can specify a grouping band that defines groups by integer pixel values. This type of computation is sometimes called \"zonal statistics\" where the zones are specified as the grouping band and the statistic is determined by the reducer. In the following example, change in nightlights in the United States is grouped by land cover category:"
   ]
  },
  {
   "cell_type": "code",
   "execution_count": null,
   "metadata": {
    "colab": {
     "base_uri": "https://localhost:8080/",
     "height": 323
    },
    "colab_type": "code",
    "id": "yskKEEfSHyHj",
    "outputId": "b667cc3f-721f-4fa4-8dee-6a43d54ec12e"
   },
   "outputs": [],
   "source": [
    "# Load a region representing the United States\n",
    "region = ee.Feature(ee.FeatureCollection('ft:1tdSwUL7MVpOauSgRzqVTOwdfy17KDbw-1d9omPw')\\\n",
    "                      .filter(ee.Filter.eq('Country', 'United States'))\\\n",
    "                      .first())\n",
    "\n",
    "# Load MODIS land cover categories in 2001.\n",
    "landcover = ee.Image('MODIS/051/MCD12Q1/2001_01_01')\\\n",
    "              .select('Land_Cover_Type_1') # Select the IGBP classification band.\n",
    "\n",
    "# Load nightlights image inputs.\n",
    "nl2001 = ee.Image('NOAA/DMSP-OLS/NIGHTTIME_LIGHTS/F152001')\\\n",
    "           .select('stable_lights')\n",
    "\n",
    "nl2012 = ee.Image('NOAA/DMSP-OLS/NIGHTTIME_LIGHTS/F182012')\\\n",
    "           .select('stable_lights')\n",
    "\n",
    "# Compute the nightlights decadal difference, add land cover codes.\n",
    "nlDiff = nl2012.subtract(nl2001).addBands(landcover)\n",
    "\n",
    "# Grouped a mean reducer: change of nightlights by land cover category.\n",
    "means = nlDiff.reduceRegion(**{\n",
    "  'reducer': ee.Reducer.mean().group(**{\n",
    "    'groupField': 1,\n",
    "    'groupName': 'code',\n",
    "  }),\n",
    "  'geometry': region.geometry(),\n",
    "  'scale': 1000,\n",
    "  'maxPixels': 1e8\n",
    "});\n",
    "\n",
    "# Print the resultant Dictionary.\n",
    "pprint(means.getInfo())"
   ]
  },
  {
   "cell_type": "markdown",
   "metadata": {
    "colab_type": "text",
    "id": "1oOg4NNLIU7Q"
   },
   "source": [
    "Note that in this example, the `groupField` is the index of the band containing the zones by which to group the output. The first band is index 0, the second is index 1, etc."
   ]
  }
 ],
 "metadata": {
  "colab": {
   "name": "Untitled",
   "provenance": [],
   "toc_visible": true,
   "version": "0.3.2"
  },
  "kernelspec": {
   "display_name": "Python 3 (ipykernel)",
   "language": "python",
   "name": "python3"
  },
  "language_info": {
   "codemirror_mode": {
    "name": "ipython",
    "version": 3
   },
   "file_extension": ".py",
   "mimetype": "text/x-python",
   "name": "python",
   "nbconvert_exporter": "python",
   "pygments_lexer": "ipython3",
   "version": "3.9.7"
  }
 },
 "nbformat": 4,
 "nbformat_minor": 1
}
