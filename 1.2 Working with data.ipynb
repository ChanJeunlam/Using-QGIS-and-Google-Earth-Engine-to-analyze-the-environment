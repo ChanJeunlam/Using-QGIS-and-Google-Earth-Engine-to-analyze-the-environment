{
 "cells": [
  {
   "cell_type": "markdown",
   "id": "afbf815f",
   "metadata": {},
   "source": [
    "# Working with data\n",
    "The first notebook introduced how the interface of QGIS works, how you can create your own data and how to make it look nice. Building on this, this notebook will be focussed more on working with data. \n",
    "\n",
    "Watch [this video](https://youtu.be/XnabNKLop7c?t=626) to get started. You can find the materials to follow along the video [here](). \n"
   ]
  }
 ],
 "metadata": {
  "kernelspec": {
   "display_name": "Python 3 (ipykernel)",
   "language": "python",
   "name": "python3"
  },
  "language_info": {
   "codemirror_mode": {
    "name": "ipython",
    "version": 3
   },
   "file_extension": ".py",
   "mimetype": "text/x-python",
   "name": "python",
   "nbconvert_exporter": "python",
   "pygments_lexer": "ipython3",
   "version": "3.9.7"
  }
 },
 "nbformat": 4,
 "nbformat_minor": 5
}
