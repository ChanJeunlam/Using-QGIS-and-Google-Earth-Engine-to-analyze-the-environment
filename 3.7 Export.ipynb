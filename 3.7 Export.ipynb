{
 "cells": [
  {
   "cell_type": "markdown",
   "metadata": {
    "colab_type": "text",
    "id": "ivM6tudaGaDi"
   },
   "source": [
    "# Exporting images\n",
    "\n",
    "You can export images from Earth Engine in [GeoTIFF](https://trac.osgeo.org/geotiff/) or [TFRecord](https://www.tensorflow.org/api_docs/python/tf/io#TFRecords_Format_Details) format. See [Configuration Parameters](https://developers.google.com/earth-engine/exporting#configuration-parameters) for more output options.\n"
   ]
  },
  {
   "cell_type": "code",
   "execution_count": null,
   "metadata": {
    "colab": {
     "base_uri": "https://localhost:8080/",
     "height": 559
    },
    "colab_type": "code",
    "id": "wOBXHvKwJBbL",
    "outputId": "b464561c-7363-4380-dead-d1a50b1c3f14"
   },
   "outputs": [],
   "source": [
    "# Load a landsat image and select three bands.\n",
    "landsat = ee.Image('LANDSAT/LC08/C01/T1_TOA/LC08_123032_20140515')\\\n",
    "            .select(['B4', 'B3', 'B2'])\n",
    "\n",
    "# Create a geometry representing an export region.\n",
    "geometry = ee.Geometry.Rectangle([116.2621, 39.8412, 116.4849, 40.01236])\n",
    "center = geometry.centroid().getInfo()['coordinates']\n",
    "center.reverse()\n",
    "\n",
    "Mapdisplay(center,{'landsat':landsat.getMapId()},zoom_start=7)"
   ]
  },
  {
   "cell_type": "markdown",
   "metadata": {
    "colab_type": "text",
    "id": "siHosl7mJGEa"
   },
   "source": [
    "## to Drive\n",
    "\n",
    "To export an image to your Drive account, use `Export.image.toDrive()`. For example, to export portions of a Landsat image, define a region to export, then call `ee.batch.Export.image.toDrive`:"
   ]
  },
  {
   "cell_type": "code",
   "execution_count": null,
   "metadata": {
    "colab": {},
    "colab_type": "code",
    "id": "fSqTvVdGHo2T"
   },
   "outputs": [],
   "source": [
    "# Export the image, specifying scale and region.\n",
    "task = ee.batch.Export.image.toDrive(**{\n",
    "    'image': landsat,\n",
    "    'description': 'imageToDriveExample',\n",
    "    'folder':'Example_folder',\n",
    "    'scale': 100,\n",
    "    'region': geometry.getInfo()['coordinates']\n",
    "})\n",
    "task.start()"
   ]
  },
  {
   "cell_type": "code",
   "execution_count": null,
   "metadata": {
    "colab": {
     "base_uri": "https://localhost:8080/",
     "height": 89
    },
    "colab_type": "code",
    "id": "Mzu9gkJiK0K7",
    "outputId": "62f6d37e-f1e6-4a14-aed6-5b1543b46c49"
   },
   "outputs": [],
   "source": [
    "import time \n",
    "while task.active():\n",
    "  print('Polling for task (id: {}).'.format(task.id))\n",
    "  time.sleep(5)"
   ]
  },
  {
   "cell_type": "markdown",
   "metadata": {
    "colab_type": "text",
    "id": "Klwqb0soLos4"
   },
   "source": [
    "## to Cloud Storage\n",
    "\n",
    "To export an image to a Google Cloud Storage bucket, use \n",
    "`ee.batch.Export.image.toCloudStorage()`. To export the Landsat image in the previous example to Cloud Storage instead of Drive, use:"
   ]
  },
  {
   "cell_type": "code",
   "execution_count": null,
   "metadata": {
    "colab": {},
    "colab_type": "code",
    "id": "AlrN7x3LMC7S"
   },
   "outputs": [],
   "source": [
    "outputBucket = 'bag_csaybar' #Change for your Cloud Storage bucket\n",
    "\n",
    "# Export the image, specifying scale and region.\n",
    "task = ee.batch.Export.image.toCloudStorage(**{\n",
    "    'image': landsat,\n",
    "      'description': 'imageToCOGeoTiffExample',\n",
    "    'scale': 100,\n",
    "    'region': geometry.getInfo()['coordinates'],\n",
    "    'fileFormat': 'GeoTIFF',\n",
    "    'bucket': outputBucket,\n",
    "    'formatOptions': {'cloudOptimized': True}\n",
    "})\n",
    "task.start()"
   ]
  },
  {
   "cell_type": "code",
   "execution_count": null,
   "metadata": {
    "colab": {},
    "colab_type": "code",
    "id": "D6HAvypAQS5O"
   },
   "outputs": [],
   "source": [
    "while task.active():\n",
    "  print('Polling for task (id: {}).'.format(task.id))\n",
    "  time.sleep(5)"
   ]
  },
  {
   "cell_type": "markdown",
   "metadata": {
    "colab_type": "text",
    "id": "TWrU9EZRQxpa"
   },
   "source": [
    "## to Asset\n",
    "To export an image to an asset in your Earth Engine assets folder, use `ee.batch.Export.image.toAsset()`. To manage your Earth Engine assets, or check how much of your storage quota is in use, use the [Asset Manager](https://developers.google.com/earth-engine/asset_manager). The following example illustrates exporting portions of a Landsat image using different pyramiding policies for the same band. The pyramiding policy indicates how Earth Engine computes lower-resolution versions of the asset. Learn more about how Earth Engine handles multiple resolutions in the [scale doc](https://developers.google.com/earth-engine/scale)."
   ]
  },
  {
   "cell_type": "code",
   "execution_count": null,
   "metadata": {
    "colab": {},
    "colab_type": "code",
    "id": "krQburQ-SgZe"
   },
   "outputs": [],
   "source": [
    "# Get band 4 from the Landsat image, copy it.\n",
    "band4 = landsat.select('B4').rename('b4_mean')\\\n",
    "               .addBands(landsat.select('B4').rename('b4_sample'))\\\n",
    "               .addBands(landsat.select('B4').rename('b4_max'))\\\n",
    "\n",
    "# Export the image to an Earth Engine asset.\n",
    "task = ee.batch.Export.image.toAsset(**{\n",
    "  'image': band4,\n",
    "  'description': 'imageToAssetExample',\n",
    "  'assetId': 'users/csaybar/exampleExport',\n",
    "  'scale': 100,\n",
    "  'region': geometry.getInfo()['coordinates']\n",
    "})\n",
    "task.start()"
   ]
  },
  {
   "cell_type": "code",
   "execution_count": null,
   "metadata": {
    "colab": {
     "base_uri": "https://localhost:8080/",
     "height": 89
    },
    "colab_type": "code",
    "id": "30TX7kJzSshY",
    "outputId": "e75042e9-0c0a-4959-a082-8a0ec0ce40a8"
   },
   "outputs": [],
   "source": [
    "while task.active():\n",
    "  print('Polling for task (id: {}).'.format(task.id))\n",
    "  time.sleep(5)"
   ]
  },
  {
   "cell_type": "markdown",
   "metadata": {
    "colab_type": "text",
    "id": "9_glXXPKUwg9"
   },
   "source": [
    "You can provide a default pyramiding policy for every band that isn't explicitly specified by using the `'.default'` key. You may also pass in just the `'.default'` key. For example, to make all bands default to the 'sample' pyramiding policy, use `{'.default': 'sample'}`."
   ]
  },
  {
   "cell_type": "markdown",
   "metadata": {
    "colab_type": "text",
    "id": "B2NDjS9yVIDm"
   },
   "source": [
    "# Exporting tables and vector data\n",
    "\n",
    "You can export a `FeatureCollection` as CSV, SHP (shapefile), GeoJSON, KML, KMZ or TFRecord using `Export.table`. The `FeatureCollection` may represent vectors or simply a table of data. In the latter case, the features in the collection will have null geometry.\n",
    "\n",
    "Note some additional constraints when working with some file formats, including:\n",
    "\n",
    "- KML: A `FeatureCollection` exported to a KML file will have all the geometries transformed to unprojected (WGS84) coordinates.\n",
    "\n",
    "- SHP: A `FeatureCollection` exported to a Shapefile must contain features with the same geometry type and projection and must fit within the [Shapefile size limits](https://desktop.arcgis.com/en/arcmap/latest/manage-data/shapefiles/geoprocessing-considerations-for-shapefile-output.htm). Column names are truncated to 10 characters or fewer, and this must not create duplicate column names.\n",
    "\n",
    "- TFRecord: A `FeatureCollection` exported to a TFRecord file will always be compressed with the GZIP compression type. You always get exactly one TFRecord file. All numbers are coerced to float type."
   ]
  },
  {
   "cell_type": "code",
   "execution_count": null,
   "metadata": {
    "colab": {
     "base_uri": "https://localhost:8080/",
     "height": 559
    },
    "colab_type": "code",
    "id": "5VhMvaETVkXX",
    "outputId": "e98a06a3-2d8e-4b5c-f9c2-1b5ba3a26147"
   },
   "outputs": [],
   "source": [
    "# Make a collection of points.\n",
    "features = ee.FeatureCollection([\n",
    "  ee.Feature(ee.Geometry.Point(30.41, 59.933), {'name': 'Voronoi'}),\n",
    "  ee.Feature(ee.Geometry.Point(-73.96, 40.781), {'name': 'Thiessen'}),\n",
    "  ee.Feature(ee.Geometry.Point(6.4806, 50.8012), {'name': 'Dirichlet'})\n",
    "])\n",
    "center = features.geometry().centroid().getInfo()['coordinates']\n",
    "center.reverse()\n",
    "Mapdisplay(center,{'feature_example':features.getInfo()},zoom_start=2)"
   ]
  },
  {
   "cell_type": "markdown",
   "metadata": {
    "colab_type": "text",
    "id": "aiREOJ52Vo0N"
   },
   "source": [
    "## to Drive\n",
    "To export a FeatureCollection to your Drive account, use \n",
    "ee.batch.Export.table.toDrive(). For example:\n",
    "\n"
   ]
  },
  {
   "cell_type": "code",
   "execution_count": null,
   "metadata": {
    "colab": {},
    "colab_type": "code",
    "id": "ZuOMX_9rVpXP"
   },
   "outputs": [],
   "source": [
    "# Export the FeatureCollection to a KML file.\n",
    "task = ee.batch.Export.table.toDrive(**{\n",
    "  'collection': features,\n",
    "  'description':'vectorsToDriveExample',\n",
    "  'fileFormat': 'SHP'\n",
    "})\n",
    "task.start()"
   ]
  },
  {
   "cell_type": "code",
   "execution_count": null,
   "metadata": {
    "colab": {
     "base_uri": "https://localhost:8080/",
     "height": 71
    },
    "colab_type": "code",
    "id": "aHXSCUiXXtLY",
    "outputId": "8cb5204c-507d-4119-cb75-43425c5808d3"
   },
   "outputs": [],
   "source": [
    "while task.active():\n",
    "  print('Polling for task (id: {}).'.format(task.id))\n",
    "  time.sleep(5)"
   ]
  },
  {
   "cell_type": "markdown",
   "metadata": {
    "colab_type": "text",
    "id": "5UqUnikUYLms"
   },
   "source": [
    "## to Cloud Storage\n",
    "\n",
    "To export a `FeatureCollection` to Cloud Storage, use ee.batch.Export.table.toCloudStorage(). For example, using the features defined previously:\n",
    "\n"
   ]
  },
  {
   "cell_type": "code",
   "execution_count": null,
   "metadata": {
    "colab": {},
    "colab_type": "code",
    "id": "BEtZ8ct0YXYk"
   },
   "outputs": [],
   "source": [
    "outputBucket = 'bag_csaybar' #Change for your Cloud Storage bucket\n",
    "\n",
    "# Export a KML file to Cloud Storage.\n",
    "task = ee.batch.Export.table.toCloudStorage(**{\n",
    "  'collection': features,\n",
    "  'description':'vectorsToCloudStorageExample',\n",
    "  'bucket': outputBucket,\n",
    "  'fileNamePrefix': 'exampleTableExport',\n",
    "  'fileFormat': 'KML'    \n",
    "})\n",
    "\n",
    "task.start()"
   ]
  },
  {
   "cell_type": "code",
   "execution_count": null,
   "metadata": {
    "colab": {
     "base_uri": "https://localhost:8080/",
     "height": 35
    },
    "colab_type": "code",
    "id": "njKq3leXZB8o",
    "outputId": "305691c6-dc9e-400b-e562-72648fd827f6"
   },
   "outputs": [],
   "source": [
    "while task.active():\n",
    "  print('Polling for task (id: {}).'.format(task.id))\n",
    "  time.sleep(5)"
   ]
  },
  {
   "cell_type": "markdown",
   "metadata": {
    "colab_type": "text",
    "id": "CVwF_khsatOS"
   },
   "source": [
    "## to Asset\n",
    "To export a FeatureCollection as an Earth Engine asset, use `ee.batch.Export.table.toAsset()`. For example, using the features defined previously:"
   ]
  },
  {
   "cell_type": "code",
   "execution_count": null,
   "metadata": {
    "colab": {},
    "colab_type": "code",
    "id": "-JTNZNT8auuD"
   },
   "outputs": [],
   "source": [
    "# Export an ee.FeatureCollection as an Earth Engine asset.\n",
    "task = ee.batch.Export.table.toAsset(**{\n",
    "    'collection': features,\n",
    "    'description':'exportToTableAssetExample',\n",
    "    'assetId': 'users/csaybar/exampleExport'\n",
    "})\n",
    "task.start()"
   ]
  },
  {
   "cell_type": "code",
   "execution_count": null,
   "metadata": {
    "colab": {
     "base_uri": "https://localhost:8080/",
     "height": 89
    },
    "colab_type": "code",
    "id": "ALCjSERPbWbL",
    "outputId": "0d9ac78d-d4f7-423d-80a0-fa6df5ab722d"
   },
   "outputs": [],
   "source": [
    "while task.active():\n",
    "  print('Polling for task (id: {}).'.format(task.id))\n",
    "  time.sleep(5)"
   ]
  },
  {
   "cell_type": "markdown",
   "metadata": {
    "colab_type": "text",
    "id": "Ym3RcAfzbYwT"
   },
   "source": [
    "There are several limitations on the size and shape of Earth Engine table assets:\n",
    "\n",
    "- Maximum of 100 million features\n",
    "\n",
    "- Maximum of 1000 properties (columns)\n",
    "\n",
    "- Maximum of 100,000 vertices for each row's geometry\n",
    "\n",
    "- Maximum of 100,000 characters per string value"
   ]
  }
 ],
 "metadata": {
  "colab": {
   "include_colab_link": true,
   "name": "10_Export.ipynb",
   "provenance": [],
   "toc_visible": true,
   "version": "0.3.2"
  },
  "kernelspec": {
   "display_name": "Python 3 (ipykernel)",
   "language": "python",
   "name": "python3"
  },
  "language_info": {
   "codemirror_mode": {
    "name": "ipython",
    "version": 3
   },
   "file_extension": ".py",
   "mimetype": "text/x-python",
   "name": "python",
   "nbconvert_exporter": "python",
   "pygments_lexer": "ipython3",
   "version": "3.9.7"
  }
 },
 "nbformat": 4,
 "nbformat_minor": 1
}
