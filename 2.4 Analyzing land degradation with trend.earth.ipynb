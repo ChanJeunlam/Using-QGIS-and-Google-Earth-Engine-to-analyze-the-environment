{
 "cells": [
  {
   "cell_type": "markdown",
   "id": "afbefcab",
   "metadata": {},
   "source": [
    "# Analyzing land degradation with trend.earth\n",
    "GIS can be used to analyze the success and failures of different social development goals. [One of those goals is to make sure that the fraction of degraded land does not increase over time](https://youtu.be/y7uDAA_3VHk). Degraded land is defined by its carbon stocks and its productivity. This notebook here will take a look on how to study land degradation using the trend.earth plugin.  "
   ]
  },
  {
   "cell_type": "markdown",
   "id": "3bd06944",
   "metadata": {},
   "source": [
    "## Installing the trends.earth plugin for QGIS\n",
    "The goal of this course is to study land cover changes and understand them. One good tool for this is the trends.earth\" toolbox. This is basically a collection of nice algorithms to make working with land use data easier in QGIS. As it is a plugin, we first [have to install it](https://youtu.be/uSTvNMpZF4I). You [need a (free) user account](https://youtu.be/qm5LFF-jhaM) for the toolbox (feel free to enter fake data). \n",
    "\n",
    "You can find additional information about trends.earth [in its documentation](https://trends.earth/docs/en/). "
   ]
  },
  {
   "attachments": {},
   "cell_type": "markdown",
   "id": "60161c95",
   "metadata": {},
   "source": [
    "## Exercise 1: Computation of the land degradation indicator\n",
    "The land degradation indicator computation consists of several steps, as shown in this figure ([taken from this report](https://www.unccd.int/sites/default/files/relevant-links/2021-03/Indicator_15.3.1_GPG_v2_29Mar_Advanced-version.pdf)):\n",
    "\n",
    "![degradation](Assets/Notebook_2_4_1.png)\n",
    "\n",
    "We will go through all those steps to compute the indicator. First, we will calculate the sub indicators, which we will use to determine how much of the land has changed or has remained stable respectively. \n",
    "\n",
    "### Getting the data\n",
    "To calculate anything we need data. The good thing is that the trend.earth plugin allows us to download data directly. Simply select *Download Raw Data* option. This should open a window, which looks like this:\n",
    "\n",
    "![data](Assets/Notebook_2_4_2.png)\n",
    "\n",
    "The data we will need are "
   ]
  }
 ],
 "metadata": {
  "kernelspec": {
   "display_name": "Python 3 (ipykernel)",
   "language": "python",
   "name": "python3"
  },
  "language_info": {
   "codemirror_mode": {
    "name": "ipython",
    "version": 3
   },
   "file_extension": ".py",
   "mimetype": "text/x-python",
   "name": "python",
   "nbconvert_exporter": "python",
   "pygments_lexer": "ipython3",
   "version": "3.9.7"
  }
 },
 "nbformat": 4,
 "nbformat_minor": 5
}
