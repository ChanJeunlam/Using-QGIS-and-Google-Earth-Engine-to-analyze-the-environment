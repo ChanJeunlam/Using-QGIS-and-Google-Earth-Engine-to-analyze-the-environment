{
 "cells": [
  {
   "cell_type": "markdown",
   "id": "4347160c",
   "metadata": {},
   "source": [
    "# Preprocessing remote sensing images\n",
    "While GEE provides us with a vast amount of remote sensing data, we still have to preprocess it sometimes, as they raw data is not sufficient for our needs. This could be something like removing clouds, so we can extract the data for all locations or changing the projection of the data, so it fits to the rest of our project. "
   ]
  },
  {
   "cell_type": "markdown",
   "id": "dbfd3d28",
   "metadata": {},
   "source": [
    "## Kinds of corrections\n",
    "* atmospheric correction: account for aerosols, gases and clouds that might influence your spectral information (this is usually already done by the data provider).\n",
    "* geocorrection: fit your satellite image to the geographic coordinate system you are using.\n",
    "* image enhancement: this means enhancing the visual representation of your image, without alterting the pixel values themselves. For example, stretching the values to a wider range, to be able to see more finely grained differences. \n"
   ]
  },
  {
   "cell_type": "markdown",
   "id": "f600413e",
   "metadata": {},
   "source": [
    "# Classification of remote sensing images\n",
    "Once we have corrected images, the next step is to classify them. For this, we need another plugin for QGIS: [Semi-Automatic Classification Plugin (SCP)](https://fromgistors.blogspot.com/p/semi-automatic-classification-plugin.html). Just install it the same way you did with trend.earth. Fortunately the developer also provides [with a tutorial video](https://youtu.be/Ceyhm3DlZNY?t=20)."
   ]
  },
  {
   "cell_type": "markdown",
   "id": "31e431bd",
   "metadata": {},
   "source": [
    "## Exercise 1: Creating a true color image\n",
    "In this exercise we want to stack layers in QGIS and create a true color images, which will allows us to look at the satellite images as we would see them with our own eyes. To do this we have to merge all the single bands together. We use the data in the folder *Landsat_8_orig*.\n",
    "\n",
    "Steps:\n",
    "\n",
    "1) Create a new QGIS project.\n",
    "\n",
    "2) Add the *.tif files as a raster to your project.\n",
    "\n",
    "3) Open SCP and refresh the band list.\n",
    "\n",
    "![QGIS](Assets/Exercise_2_3_1.png)\n",
    "\n",
    "4) Add the bands to the band set. Make sure your bands are ordered from 1 to 7. \n",
    "\n",
    "![QGIS](Assets/Exercise_2_3_2.png)\n",
    "\n",
    "5) Select a wavelength quick setting. SCP has presets for the most commonly used satellite images. In our case we have to select landsat 8. \n",
    "\n",
    "6) Process the rasters. SCP allows us to process the bands in a variety of different ways. For our exercise here we want to create a virtual raster and create another raster of the stacked bands. Select those settings at the bottom of the SCP window and hit run. QGIS will ask you where to save the new files to. Select an appropriate location and continue. \n",
    "\n",
    "7) You should now see an image that looks something likes this. This is what this landscape would look like if you would fly over it with a plane. \n",
    "\n",
    "![QGIS](Assets/Exercise_2_3_3.png)\n",
    "\n",
    "8) Band 4 of the landsat satellites captures infrared light. Go to the symbology settings of the image you just created and change the red band to Band 4 and click apply. What changed? Why does it look like this? How  do we call such an image?\n"
   ]
  },
  {
   "cell_type": "markdown",
   "id": "d0f8e9b8",
   "metadata": {},
   "source": [
    "## Exercise 2: Applying atmospheric corrections\n"
   ]
  }
 ],
 "metadata": {
  "kernelspec": {
   "display_name": "Python 3 (ipykernel)",
   "language": "python",
   "name": "python3"
  },
  "language_info": {
   "codemirror_mode": {
    "name": "ipython",
    "version": 3
   },
   "file_extension": ".py",
   "mimetype": "text/x-python",
   "name": "python",
   "nbconvert_exporter": "python",
   "pygments_lexer": "ipython3",
   "version": "3.9.7"
  }
 },
 "nbformat": 4,
 "nbformat_minor": 5
}
