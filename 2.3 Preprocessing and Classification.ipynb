{
 "cells": [
  {
   "cell_type": "markdown",
   "id": "b2f32b5b",
   "metadata": {},
   "source": [
    "# Preprocessing remote sensing images\n",
    "While GEE provides us with a vast amount of remote sensing data, we still have to preprocess it sometimes, as they raw data is not sufficient for our needs. This could be something like removing clouds, so we can extract the data for all locations or changing the projection of the data, so it fits to the rest of our project. "
   ]
  },
  {
   "cell_type": "markdown",
   "id": "9da56579",
   "metadata": {},
   "source": [
    "## Kinds of corrections\n",
    "* atmospheric correction: account for aerosols, gases and clouds that might influence your spectral information (this is usually already done by the data provider).\n",
    "* geocorrection: fit your satellite image to the geographic coordinate system you are using.\n",
    "* image enhancement: this means enhancing the visual representation of your image, without alterting the \n"
   ]
  }
 ],
 "metadata": {
  "kernelspec": {
   "display_name": "Python 3 (ipykernel)",
   "language": "python",
   "name": "python3"
  },
  "language_info": {
   "codemirror_mode": {
    "name": "ipython",
    "version": 3
   },
   "file_extension": ".py",
   "mimetype": "text/x-python",
   "name": "python",
   "nbconvert_exporter": "python",
   "pygments_lexer": "ipython3",
   "version": "3.9.7"
  }
 },
 "nbformat": 4,
 "nbformat_minor": 5
}
