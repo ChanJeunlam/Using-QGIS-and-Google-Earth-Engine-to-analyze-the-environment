{
 "cells": [
  {
   "cell_type": "markdown",
   "id": "2135bf5e",
   "metadata": {},
   "source": [
    "# Preprocessing remote sensing images\n",
    "While GEE provides us with a vast amount of remote sensing data, we still have to preprocess it sometimes, as they raw data is not sufficient for our needs. This could be something like removing clouds, so we can extract the data for all locations or changing the projection of the data, so it fits to the rest of our project. "
   ]
  },
  {
   "cell_type": "markdown",
   "id": "b2185dda",
   "metadata": {},
   "source": [
    "## Kinds of corrections\n",
    "* atmospheric correction: account for aerosols, gases and clouds that might influence your spectral information (this is usually already done by the data provider).\n",
    "* geocorrection: fit your satellite image to the geographic coordinate system you are using.\n",
    "* image enhancement: this means enhancing the visual representation of your image, without alterting the pixel values themselves. For example, stretching the values to a wider range, to be able to see more finely grained differences. \n"
   ]
  },
  {
   "cell_type": "markdown",
   "id": "f79f67e3",
   "metadata": {},
   "source": [
    "# Classification of remote sensing images\n",
    "Once we have corrected images, the next step is to classify them. For this, we need another plugin for QGIS: [Semi-Automatic Classification Plugin (SCP)](https://fromgistors.blogspot.com/p/semi-automatic-classification-plugin.html). Just install it the same way you did with trend.earth. Fortunately the developer also provides [with a tutorial video](https://youtu.be/Ceyhm3DlZNY?t=20)."
   ]
  },
  {
   "cell_type": "markdown",
   "id": "fb039aff",
   "metadata": {},
   "source": [
    "## Exercise 1\n",
    "In this exercise we want to stack layers in QGIS and create true and false color images. For thie we use the data in the folder *Landsat5_Rainforest_orig*.\n",
    "\n",
    "Steps:\n",
    "1) Create a new QGIS project\n",
    "2) Add the "
   ]
  }
 ],
 "metadata": {
  "kernelspec": {
   "display_name": "Python 3 (ipykernel)",
   "language": "python",
   "name": "python3"
  },
  "language_info": {
   "codemirror_mode": {
    "name": "ipython",
    "version": 3
   },
   "file_extension": ".py",
   "mimetype": "text/x-python",
   "name": "python",
   "nbconvert_exporter": "python",
   "pygments_lexer": "ipython3",
   "version": "3.9.7"
  }
 },
 "nbformat": 4,
 "nbformat_minor": 5
}
