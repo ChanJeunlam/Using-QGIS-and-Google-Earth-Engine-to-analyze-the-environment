{
 "cells": [
  {
   "cell_type": "markdown",
   "id": "a94e6422",
   "metadata": {},
   "source": [
    "# Final Project\n",
    "\n",
    "Select a sdg\n",
    "Come up with a research question related to that sdg\n",
    "Write a report of about 500 words that describes why this is an important research question\n",
    "Descripe what data sets from Google Earth Engine you want to use and how your workflow should look like (just write pseudocode)\n",
    "Then implement your idea in a google colab notebook. \n",
    "Don't worry if code is not working as you intendet. You get 70 % of the points on your report and only 30 % on the actual analysis. You can discuss your project with the supervisor."
   ]
  }
 ],
 "metadata": {
  "kernelspec": {
   "display_name": "Python 3 (ipykernel)",
   "language": "python",
   "name": "python3"
  },
  "language_info": {
   "codemirror_mode": {
    "name": "ipython",
    "version": 3
   },
   "file_extension": ".py",
   "mimetype": "text/x-python",
   "name": "python",
   "nbconvert_exporter": "python",
   "pygments_lexer": "ipython3",
   "version": "3.9.7"
  }
 },
 "nbformat": 4,
 "nbformat_minor": 5
}
