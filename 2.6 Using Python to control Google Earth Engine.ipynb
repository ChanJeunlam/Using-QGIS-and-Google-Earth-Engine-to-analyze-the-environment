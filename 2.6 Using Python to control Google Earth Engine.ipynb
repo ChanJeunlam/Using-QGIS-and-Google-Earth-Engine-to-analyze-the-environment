{
 "cells": [
  {
   "cell_type": "markdown",
   "id": "39a4f28a",
   "metadata": {},
   "source": [
    "# Using Python to control Google Earth Engine\n",
    "Google Earth Engine (GEE) has a so called Application Programming Interface (API). This basically means we can send order in the form of programming language to GEE to get a specific result. In the case of GEE you can use either Javascript or Python. In the case of this course we will be using Python. Don't worry, you don't have to becomme a full fledged programmer to manage this. You just need some basics. The best way to do this is not using the native [code editor](https://code.earthengine.google.com/), but instead use [Google Colab](https://colab.research.google.com/). [Google Colab](https://youtu.be/RLYoEyIHL6A) allows you to write Python code directly in your browser and also access GEE's API from there. In this way you can easily and conveniently work with Python and GEE and you don't even have to install anything on your computer. "
   ]
  },
  {
   "cell_type": "markdown",
   "id": "dc598a09",
   "metadata": {},
   "source": [
    "## Getting started with Python\n",
    "To get you going, take a look at [this intro video](https://youtu.be/kqtD5dpn9C8) for Python (you can skip the install step). Follow along the explanations in a [Google Colab](https://colab.research.google.com/) notebook. This will give a quick overview of Python's functionality. In case you want to look up the things you saw here later, here's a cheat sheet:\n",
    "\n",
    "![cheat1](http://www.sixthresearcher.com/wp-content/uploads/2016/12/Python3_reference_cheat_sheet_front.png)\n",
    "\n",
    "![cheat2](http://www.sixthresearcher.com/wp-content/uploads/2016/12/Python3_reference_cheat_sheet_back.png)"
   ]
  },
  {
   "cell_type": "markdown",
   "id": "18191f0a",
   "metadata": {},
   "source": [
    "## Using Google Earth Engine interactively \n",
    "Now that we got you started on Python. Next stop is getting to know the basic usage of GEE. \n",
    "We can use it either interactively or by the API. The interactive mode is enabled by the \n",
    "[*geemap* package](https://geemap.org/). *geemap* is not natively installed in Google Colab, but simply run the following code to install it:"
   ]
  },
  {
   "cell_type": "code",
   "execution_count": null,
   "id": "ecb7dd02",
   "metadata": {},
   "outputs": [],
   "source": [
    "# Installs geemap package\n",
    "!pip install geemap"
   ]
  },
  {
   "cell_type": "markdown",
   "id": "781bbf5d",
   "metadata": {},
   "source": [
    "Now let's take a look at [an introduction to *geemap*](https://youtu.be/XRFHWg_MlaQ). As you can see it is quite a powerful tool. Let's create a simple interactive map. To do this fun the following code in Google Colab. "
   ]
  },
  {
   "cell_type": "code",
   "execution_count": null,
   "id": "7cfa9233",
   "metadata": {},
   "outputs": [],
   "source": [
    "import geemap\n",
    "Map = geemap.Map(center=(40, -100), zoom=4)\n",
    "Map"
   ]
  },
  {
   "cell_type": "markdown",
   "id": "6756eadc",
   "metadata": {},
   "source": [
    "Executing this step, Google Colab will ask you for an authentification code to demonstrate that you have a validated Google Earth Engine account. \n",
    "\n",
    "![auth](Assets/Notebook_2_6_1.png)\n",
    "\n",
    "Follow the link and authenticate your account by copying the authentification code. This will allow you to access GEE from this specific notebook. You can also trigger this explicitly:\n",
    "\n",
    "\n"
   ]
  },
  {
   "cell_type": "code",
   "execution_count": null,
   "id": "c9b99238",
   "metadata": {},
   "outputs": [],
   "source": [
    "ee.Authenticate()"
   ]
  },
  {
   "cell_type": "markdown",
   "id": "8c10d77e",
   "metadata": {},
   "source": [
    "Once you have done this, you should be looking at an interactive map in your notebook. This is really helpful if you want to take a quick look at data or quickly select a region where you want to get data from. \n",
    "\n",
    "![map](Assets/Notebook_2_6_2.png)\n",
    "\n",
    "This allows us to work with GEE in an interactive way. However, to have more finely grained control we will be mostly using the Python API directly. Interactive mode is great if you want to test out things, while using the API allows easier reproducibility and gives you access to more computing power on the Google Servers. "
   ]
  },
  {
   "cell_type": "markdown",
   "id": "ff0cdb34",
   "metadata": {},
   "source": [
    "## Using Google Earth Engine via the API\n",
    "Like the interactive mode we will do this with Google Colab. However, using the API with Google Colab [gives us access to more functions](https://youtu.be/8FUjFVo4iuo). You can find the notebook used in the presentation [here](https://g.co/earth/colab-ee), so you can follow along and play around with it. So, as you can see, you do not really have to program here. You just have to learn which specific lines of code do what. Once you got the data you want, you can export it and continue working with it in QGIS. Take a look at [this video](https://youtu.be/k5xX8iBH7Cs) how those extended capabilities of GEE can be used to work on sustainable development goals as well (The Video uses Javascript, don't worry if you don't get the code)."
   ]
  },
  {
   "cell_type": "markdown",
   "id": "c9fb530f",
   "metadata": {},
   "source": [
    "## Exercise 1\n",
    "https://youtu.be/8FUjFVo4iuo\n",
    "https://youtu.be/pXFYlNwmphg\n",
    "https://youtu.be/k5xX8iBH7Cs\n",
    "https://youtu.be/AD1YtRqc5kA\n",
    "https://youtu.be/wGjpjh9IQ5I\n",
    "\n",
    "https://developers.google.com/earth-engine/tutorials/community/intro-to-python-api"
   ]
  },
  {
   "cell_type": "code",
   "execution_count": null,
   "id": "5631fdc1",
   "metadata": {},
   "outputs": [],
   "source": []
  }
 ],
 "metadata": {
  "kernelspec": {
   "display_name": "Python 3 (ipykernel)",
   "language": "python",
   "name": "python3"
  },
  "language_info": {
   "codemirror_mode": {
    "name": "ipython",
    "version": 3
   },
   "file_extension": ".py",
   "mimetype": "text/x-python",
   "name": "python",
   "nbconvert_exporter": "python",
   "pygments_lexer": "ipython3",
   "version": "3.9.7"
  }
 },
 "nbformat": 4,
 "nbformat_minor": 5
}
