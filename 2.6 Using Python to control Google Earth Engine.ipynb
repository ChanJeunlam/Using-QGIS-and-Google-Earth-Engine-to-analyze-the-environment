{
 "cells": [
  {
   "cell_type": "markdown",
   "id": "39a4f28a",
   "metadata": {},
   "source": [
    "# Using Python to control Google Earth Engine\n",
    "Google Earth Engine (GEE) has a so called Application Programming Interface (API). This basically means we can send order in the form of programming language to GEE to get a specific result. In the case of GEE you can use either Javascript or Python. In the case of this course we will be using Python. Don't worry, you don't have to becomme a full fledged programmer to manage this. You just need some basics. The best way to do this is not using the native [code editor](https://code.earthengine.google.com/), but instead use [Google Colab](https://colab.research.google.com/). [Google Colab](https://youtu.be/RLYoEyIHL6A) allows you to write Python code directly in your browser and also access GEE's API from there. In this way you can easily and conveniently work with Python and GEE and you don't even have to install anything on your computer. "
   ]
  },
  {
   "cell_type": "markdown",
   "id": "dc598a09",
   "metadata": {},
   "source": [
    "## Getting started with Python\n",
    "To get you going, take a look at [this intro video](https://youtu.be/kqtD5dpn9C8) for Python (you can skip the install step). Follow along the explanations in a [Google Colab](https://colab.research.google.com/) notebook. This will give a quick overview of Python's functionality. In case you want to look up the things you saw here later, here's a cheat sheet:\n",
    "\n",
    "![cheat1](http://www.sixthresearcher.com/wp-content/uploads/2016/12/Python3_reference_cheat_sheet_front.png)\n",
    "\n",
    "![cheat2](http://www.sixthresearcher.com/wp-content/uploads/2016/12/Python3_reference_cheat_sheet_back.png)"
   ]
  },
  {
   "cell_type": "markdown",
   "id": "7e3123b8",
   "metadata": {},
   "source": [
    "## Starting Google Earth Engine\n",
    "In an earlier notebook we set up a GEE account. This was necessary, as GEE will always ask you to authenticate yourself when you run it. You can also trigger this explicitly:"
   ]
  },
  {
   "cell_type": "code",
   "execution_count": null,
   "id": "5ac38971",
   "metadata": {},
   "outputs": [],
   "source": [
    "ee.Authenticate()"
   ]
  },
  {
   "cell_type": "markdown",
   "id": "ab1e121f",
   "metadata": {},
   "source": [
    "\n",
    "\n",
    "![auth](Assets/Notebook_2_6_1.png)\n",
    "\n",
    "Follow the link and authenticate your account by copying the authentification code. This will allow you to access GEE from this specific notebook. In addition, it also makes sense to initialize GEE every time you run it. This loads all the functions of GEE in the working memory of Google Colab, which makes accesing them easier.\n",
    "\n"
   ]
  },
  {
   "cell_type": "code",
   "execution_count": null,
   "id": "0fb537e5",
   "metadata": {},
   "outputs": [],
   "source": [
    "ee.Initialize()"
   ]
  },
  {
   "cell_type": "markdown",
   "id": "18191f0a",
   "metadata": {},
   "source": [
    "## Using Google Earth Engine interactively \n",
    "Now that we got you started on Python and GEE, next stop is getting to know the basic usage of GEE. \n",
    "We can use it either interactively or by the API. The interactive mode is enabled by the \n",
    "[*geemap* package](https://geemap.org/). *geemap* is not natively installed in Google Colab, but simply run the following code to install it:"
   ]
  },
  {
   "cell_type": "code",
   "execution_count": null,
   "id": "ecb7dd02",
   "metadata": {},
   "outputs": [],
   "source": [
    "# Installs geemap package\n",
    "!pip install geemap"
   ]
  },
  {
   "cell_type": "markdown",
   "id": "781bbf5d",
   "metadata": {},
   "source": [
    "Now let's take a look at [an introduction to *geemap*](https://youtu.be/XRFHWg_MlaQ). As you can see it is quite a powerful tool. Let's create a simple interactive map. To do this fun the following code in Google Colab. "
   ]
  },
  {
   "cell_type": "code",
   "execution_count": null,
   "id": "7cfa9233",
   "metadata": {},
   "outputs": [],
   "source": [
    "import geemap\n",
    "Map = geemap.Map(center=(40, -100), zoom=4)\n",
    "Map"
   ]
  },
  {
   "cell_type": "markdown",
   "id": "9ce97f3b",
   "metadata": {},
   "source": [
    "In addition, it also makes sense to initialize GEE every time you run it. This loads all the functions of GEE in the working memory of Google Colab, which makes accesing them easier."
   ]
  },
  {
   "cell_type": "markdown",
   "id": "8c10d77e",
   "metadata": {},
   "source": [
    "Once you have done this, you should be looking at an interactive map in your notebook. This is really helpful if you want to take a quick look at data or quickly select a region where you want to get data from. \n",
    "\n",
    "![map](Assets/Notebook_2_6_2.png)\n",
    "\n",
    "This allows us to work with GEE in an interactive way. However, to have more finely grained control we will be mostly using the Python API directly. Interactive mode is great if you want to test out things, while using the API allows easier reproducibility and gives you access to more computing power on the Google Servers. "
   ]
  },
  {
   "cell_type": "markdown",
   "id": "9999d732",
   "metadata": {},
   "source": [
    "To make sure that you always got everything running that is needed, put this code on top of every new notebook you run in colab:"
   ]
  },
  {
   "cell_type": "code",
   "execution_count": null,
   "id": "165d0f8e",
   "metadata": {},
   "outputs": [],
   "source": [
    "# Set up geemap\n",
    "!pip install geemap\n",
    "import geemap"
   ]
  },
  {
   "cell_type": "code",
   "execution_count": null,
   "id": "32db7b6c",
   "metadata": {},
   "outputs": [],
   "source": [
    "# Set up earth engine\n",
    "import ee\n",
    "ee.Authenticate()\n",
    "ee.Initialize()"
   ]
  },
  {
   "cell_type": "markdown",
   "id": "a9eb41bd",
   "metadata": {},
   "source": [
    "## Using Google Earth Engine via the API\n",
    "Like the interactive mode we will do this with Google Colab. However, using the API with Google Colab [gives us access to more functions](https://youtu.be/8FUjFVo4iuo). You can find the notebook used in the presentation [here](https://g.co/earth/colab-ee), so you can follow along and play around with it. So, as you can see, you do not really have to program here. You just have to learn which specific lines of code do what. Once you got the data you want, you can export it and continue working with it in QGIS. Take a look at [this video](https://youtu.be/k5xX8iBH7Cs) how those extended capabilities of GEE can be used to work on sustainable development goals as well (The Video uses Javascript, don't worry if you don't get the code). You can use [this documentation](https://developers.google.com/earth-engine/tutorials/community/intro-to-python-api) to take a look at code examples and explanations for the API. "
   ]
  },
  {
   "cell_type": "markdown",
   "id": "c9fb530f",
   "metadata": {},
   "source": [
    "## Exercise 1: Getting feature collections \n",
    "When we use GEE we need to import the data that Google is already providing. To find the right dataset we use the [GEE Data Catalog](https://developers.google.com/earth-engine/datasets/catalog). For example, let's get the [global adminstrative units](https://developers.google.com/earth-engine/datasets/catalog/FAO_GAUL_2015_level0), so we can display the borders of states. The good thing is that this page already contains the right code snippet for  us to import this feature collection: "
   ]
  },
  {
   "cell_type": "code",
   "execution_count": null,
   "id": "5631fdc1",
   "metadata": {},
   "outputs": [],
   "source": [
    "ee.FeatureCollection(\"FAO/GAUL/2015/level0\")"
   ]
  },
  {
   "cell_type": "markdown",
   "id": "1ddc92ed",
   "metadata": {},
   "source": [
    "Select [Table Schema](https://developers.google.com/earth-engine/datasets/catalog/FAO_GAUL_2015_level0#table-schema) on this site to see the different attributes of this dataset and how to access them. So, for example we can get all the country names from this by simply writing:"
   ]
  },
  {
   "cell_type": "code",
   "execution_count": null,
   "id": "89d7ea11",
   "metadata": {},
   "outputs": [],
   "source": [
    "# We get the feature collection of Administrative boundaries (level0)\n",
    "countries = ee.FeatureCollection('FAO/GAUL/2015/level0').select('ADM0_NAME')"
   ]
  },
  {
   "cell_type": "markdown",
   "id": "b3cfba75",
   "metadata": {},
   "source": [
    "And we can also filter it to get a subset. "
   ]
  },
  {
   "cell_type": "code",
   "execution_count": null,
   "id": "cdcc2cdb",
   "metadata": {},
   "outputs": [],
   "source": [
    "# We filter the featureCollection to get the feature we want\n",
    "# the .eq method stands for equal. So this looks for the name Germany in the attribute ADM0_Name\n",
    "germany = countries.filter(ee.Filter.eq('ADM0_NAME', 'Germany'))"
   ]
  },
  {
   "cell_type": "markdown",
   "id": "1602da03",
   "metadata": {},
   "source": [
    "And finally we can use geemap to show us the country we selected as a highlight on the map. "
   ]
  },
  {
   "cell_type": "code",
   "execution_count": null,
   "id": "4b04531c",
   "metadata": {},
   "outputs": [],
   "source": [
    "# Create a map\n",
    "Map = geemap.Map(zoom=3)\n",
    "# Add the Germany feature \n",
    "Map.addLayer(germany,{},'Countries')\n",
    "# Show it\n",
    "Map"
   ]
  },
  {
   "cell_type": "markdown",
   "id": "60dce94c",
   "metadata": {},
   "source": [
    "Repeat this exercise with the state of the country you were born in (hint: you have to select another feature collection."
   ]
  },
  {
   "cell_type": "code",
   "execution_count": null,
   "id": "834d6861",
   "metadata": {},
   "outputs": [],
   "source": [
    "# You can also use this code to select several countries at once\n",
    "# Again you use the filter, but this time you select for all countries in the list you provide\n",
    "countries = ee.FeatureCollection('FAO/GAUL/2015/level0').filter(ee.Filter.inList(\"ADM0_NAME\", ['Germany', 'Brazil', 'France'))"
   ]
  },
  {
   "cell_type": "markdown",
   "id": "0c31cefe",
   "metadata": {},
   "source": [
    "## Exercise 2: Getting info from a feature collection\n",
    "As we saw in the exercise before, feature collections contain information about their polygons like their name. We used this to select states by name. We can also ask GEE to give us all the information in a feature collection, so we can use it to select the wnats we are interest in. For this we can use the .getInfo() method. \n"
   ]
  },
  {
   "cell_type": "code",
   "execution_count": null,
   "id": "83e454f6",
   "metadata": {},
   "outputs": [],
   "source": [
    "# We get the feature collection of Administrative boundaries (level0) and ask for all values in the ADM0_Name attribute\n",
    "countries = ee.FeatureCollection('FAO/GAUL/2015/level0').aggregate_array(\"ADM0_NAME\").getInfo()"
   ]
  },
  {
   "cell_type": "markdown",
   "id": "a14da64b",
   "metadata": {},
   "source": [
    "Repeat this for all the states in your home country. "
   ]
  },
  {
   "cell_type": "markdown",
   "id": "28248dec",
   "metadata": {},
   "source": [
    "## Exercise 3: Filter based on a numerical attribute\n",
    "For this we will use the dataset of the [RESOLVE ecoregions](https://developers.google.com/earth-engine/datasets/catalog/RESOLVE_ECOREGIONS_2017#table-schema). This is a global mapping of ecosystem regions. We can select it with:"
   ]
  },
  {
   "cell_type": "code",
   "execution_count": null,
   "id": "883a6cef",
   "metadata": {},
   "outputs": [],
   "source": [
    "# Get the ecoregion data \n",
    "ecoregions = ee.FeatureCollection(\"RESOLVE/ECOREGIONS/2017\")"
   ]
  },
  {
   "cell_type": "markdown",
   "id": "f43c8ce7",
   "metadata": {},
   "source": [
    "Now only select the mangroves worldwide and display them:"
   ]
  },
  {
   "cell_type": "code",
   "execution_count": null,
   "id": "a72d25a3",
   "metadata": {},
   "outputs": [],
   "source": [
    "# Only select mangroves\n",
    "mangroves = ecoregions.filter(ee.Filter.eq('BIOME_NAME', 'Mangroves'))\n",
    "# Show them \n",
    "Map = geemap.Map()\n",
    "Map.addLayer(mangroves,{},\"Mangroves Worldwide\")\n",
    "Map"
   ]
  },
  {
   "cell_type": "markdown",
   "id": "8ece99fc",
   "metadata": {},
   "source": [
    "Next we only want to select all mangroves that are larger than 3 square degrees:"
   ]
  },
  {
   "cell_type": "code",
   "execution_count": null,
   "id": "b36d4e05",
   "metadata": {},
   "outputs": [],
   "source": [
    "# Only select those mangroves with a total area greater than (gt) than 3 square degrees\n",
    "largest_mangroves = mangroves.filter(ee.Filter.gt(\"SHAPE_AREA\", 3))\n",
    "# Show them \n",
    "Map = geemap.Map()\n",
    "Map.addLayer(largest_mangroves,{},\"Largest Mangroves Worldwide\")\n",
    "Map"
   ]
  },
  {
   "cell_type": "markdown",
   "id": "4acf74f4",
   "metadata": {},
   "source": [
    "Repeat this exercise and find the smallest \"Temperate Conifer Forests\" in the world."
   ]
  }
 ],
 "metadata": {
  "kernelspec": {
   "display_name": "Python 3 (ipykernel)",
   "language": "python",
   "name": "python3"
  },
  "language_info": {
   "codemirror_mode": {
    "name": "ipython",
    "version": 3
   },
   "file_extension": ".py",
   "mimetype": "text/x-python",
   "name": "python",
   "nbconvert_exporter": "python",
   "pygments_lexer": "ipython3",
   "version": "3.9.7"
  }
 },
 "nbformat": 4,
 "nbformat_minor": 5
}
