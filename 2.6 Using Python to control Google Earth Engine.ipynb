{
 "cells": [
  {
   "cell_type": "markdown",
   "id": "39a4f28a",
   "metadata": {},
   "source": [
    "# Using Python to control Google Earth Engine\n",
    "Google Earth Engine (GEE) has a so called Application Programming Interface (API). This basically means we can send order in the form of programming language to GEE to get a specific result. In the case of GEE you can use either Javascript or Python. In the case of this course we will be using Python. Don't worry, you don't have to becomme a full fledged programmer to manage this. You just need some basics. The best way to do this is not using the native [code editor](https://code.earthengine.google.com/), but instead use [Google Colab](https://colab.research.google.com/). [Google Colab](https://youtu.be/RLYoEyIHL6A) allows you to write Python code directly in your browser and also access GEE's API from there. In this way you can easily and conveniently work with Python and GEE and you don't even have to install anything on your computer. "
   ]
  },
  {
   "cell_type": "markdown",
   "id": "dc598a09",
   "metadata": {},
   "source": [
    "## Getting started with Python\n",
    "To get you going, take a look at [this intro video](https://youtu.be/kqtD5dpn9C8) for Python (you can skip the install step). Follow along the explanations in a [Google Colab](https://colab.research.google.com/) notebook. This will give a quick overview of Python's functionality. In case you want to look up the things you saw here later, here's a cheat sheet:\n",
    "\n",
    "![cheat1](http://www.sixthresearcher.com/wp-content/uploads/2016/12/Python3_reference_cheat_sheet_front.png)\n",
    "\n",
    "![cheat2](http://www.sixthresearcher.com/wp-content/uploads/2016/12/Python3_reference_cheat_sheet_back.png)"
   ]
  },
  {
   "cell_type": "markdown",
   "id": "0d9dd6d8",
   "metadata": {},
   "source": [
    "## Starting Google Earth Engine\n",
    "In an earlier notebook we set up a GEE account. This was necessary, as GEE will always ask you to authenticate yourself when you run it. You can also trigger this explicitly:"
   ]
  },
  {
   "cell_type": "code",
   "execution_count": null,
   "id": "a4499d11",
   "metadata": {},
   "outputs": [],
   "source": [
    "ee.Authenticate()"
   ]
  },
  {
   "cell_type": "markdown",
   "id": "d5fffe46",
   "metadata": {},
   "source": [
    "\n",
    "\n",
    "![auth](Assets/Notebook_2_6_1.png)\n",
    "\n",
    "Follow the link and authenticate your account by copying the authentification code. This will allow you to access GEE from this specific notebook. In addition, it also makes sense to initialize GEE every time you run it. This loads all the functions of GEE in the working memory of Google Colab, which makes accesing them easier.\n",
    "\n"
   ]
  },
  {
   "cell_type": "code",
   "execution_count": null,
   "id": "41064a92",
   "metadata": {},
   "outputs": [],
   "source": [
    "ee.Initialize()"
   ]
  },
  {
   "cell_type": "markdown",
   "id": "18191f0a",
   "metadata": {},
   "source": [
    "## Using Google Earth Engine interactively \n",
    "Now that we got you started on Python and GEE, next stop is getting to know the basic usage of GEE. \n",
    "We can use it either interactively or by the API. The interactive mode is enabled by the \n",
    "[*geemap* package](https://geemap.org/). *geemap* is not natively installed in Google Colab, but simply run the following code to install it:"
   ]
  },
  {
   "cell_type": "code",
   "execution_count": null,
   "id": "ecb7dd02",
   "metadata": {},
   "outputs": [],
   "source": [
    "# Installs geemap package\n",
    "!pip install geemap"
   ]
  },
  {
   "cell_type": "markdown",
   "id": "781bbf5d",
   "metadata": {},
   "source": [
    "Now let's take a look at [an introduction to *geemap*](https://youtu.be/XRFHWg_MlaQ). As you can see it is quite a powerful tool. Let's create a simple interactive map. To do this fun the following code in Google Colab. "
   ]
  },
  {
   "cell_type": "code",
   "execution_count": null,
   "id": "7cfa9233",
   "metadata": {},
   "outputs": [],
   "source": [
    "import geemap\n",
    "Map = geemap.Map(center=(40, -100), zoom=4)\n",
    "Map"
   ]
  },
  {
   "cell_type": "markdown",
   "id": "e3c470b9",
   "metadata": {},
   "source": [
    "In addition, it also makes sense to initialize GEE every time you run it. This loads all the functions of GEE in the working memory of Google Colab, which makes accesing them easier."
   ]
  },
  {
   "cell_type": "markdown",
   "id": "8c10d77e",
   "metadata": {},
   "source": [
    "Once you have done this, you should be looking at an interactive map in your notebook. This is really helpful if you want to take a quick look at data or quickly select a region where you want to get data from. \n",
    "\n",
    "![map](Assets/Notebook_2_6_2.png)\n",
    "\n",
    "This allows us to work with GEE in an interactive way. However, to have more finely grained control we will be mostly using the Python API directly. Interactive mode is great if you want to test out things, while using the API allows easier reproducibility and gives you access to more computing power on the Google Servers. "
   ]
  },
  {
   "cell_type": "markdown",
   "id": "670be25a",
   "metadata": {},
   "source": [
    "To make sure that you always got everything running that is needed, put this code on top of every new notebook you run in colab:"
   ]
  },
  {
   "cell_type": "code",
   "execution_count": null,
   "id": "d7d6f8fe",
   "metadata": {},
   "outputs": [],
   "source": [
    "# Set up geemap\n",
    "!pip install geemap\n",
    "import geemap"
   ]
  },
  {
   "cell_type": "code",
   "execution_count": null,
   "id": "d7a523dc",
   "metadata": {},
   "outputs": [],
   "source": [
    "# Set up earth engine\n",
    "import ee\n",
    "ee.Authenticate()\n",
    "ee.Initialize()"
   ]
  },
  {
   "cell_type": "markdown",
   "id": "a9eb41bd",
   "metadata": {},
   "source": [
    "## Using Google Earth Engine via the API\n",
    "Like the interactive mode we will do this with Google Colab. However, using the API with Google Colab [gives us access to more functions](https://youtu.be/8FUjFVo4iuo). You can find the notebook used in the presentation [here](https://g.co/earth/colab-ee), so you can follow along and play around with it. So, as you can see, you do not really have to program here. You just have to learn which specific lines of code do what. Once you got the data you want, you can export it and continue working with it in QGIS. Take a look at [this video](https://youtu.be/k5xX8iBH7Cs) how those extended capabilities of GEE can be used to work on sustainable development goals as well (The Video uses Javascript, don't worry if you don't get the code). You can use [this documentation](https://developers.google.com/earth-engine/tutorials/community/intro-to-python-api) to take a look at code examples and explanations for the API. You can also look at the [documentation of all the methods in the API](https://developers.google.com/earth-engine/api_docs). "
   ]
  },
  {
   "cell_type": "markdown",
   "id": "a48e06b6",
   "metadata": {},
   "source": [
    "In the Earth Engine Data Catalog, datasets can be of different types:\n",
    "\n",
    "- *Features* which are geometric objects with a list of properties. For example, a watershed with some properties such as *name* and *area*, is an `ee.Feature`.\n",
    "- *Images* which are like features, but may include several bands. For example, the ground elevation given by the USGS [here](https://developers.google.com/earth-engine/datasets/catalog/USGS_SRTMGL1_003) is an `ee.Image`.\n",
    "- *Collections* which are groups of features or images. For example, the [Global Administrative Unit Layers](https://developers.google.com/earth-engine/datasets/catalog/FAO_GAUL_2015_level0) giving administrative boundaries is a `ee.FeatureCollection` and the [MODIS Land Surface Temperature](https://developers.google.com/earth-engine/datasets/catalog/MODIS_006_MOD11A1) dataset is an `ee.ImageCollection`.\n",
    "\n",
    "If you want to know more about different data models, you may want to visit the [Earth Engine User Guide](https://developers.google.com/earth-engine)."
   ]
  },
  {
   "cell_type": "markdown",
   "id": "c9fb530f",
   "metadata": {},
   "source": [
    "## Exercise 1: Getting feature collections \n",
    "When we use GEE we need to import the data that Google is already providing. To find the right dataset we use the [GEE Data Catalog](https://developers.google.com/earth-engine/datasets/catalog). For example, let's get the [global adminstrative units](https://developers.google.com/earth-engine/datasets/catalog/FAO_GAUL_2015_level0), so we can display the borders of states. The good thing is that this page already contains the right code snippet for  us to import this feature collection: "
   ]
  },
  {
   "cell_type": "code",
   "execution_count": null,
   "id": "5631fdc1",
   "metadata": {},
   "outputs": [],
   "source": [
    "ee.FeatureCollection(\"FAO/GAUL/2015/level0\")"
   ]
  },
  {
   "cell_type": "markdown",
   "id": "0de1f8c9",
   "metadata": {},
   "source": [
    "Select [Table Schema](https://developers.google.com/earth-engine/datasets/catalog/FAO_GAUL_2015_level0#table-schema) on this site to see the different attributes of this dataset and how to access them. So, for example we can get all the country names from this by simply writing:"
   ]
  },
  {
   "cell_type": "code",
   "execution_count": null,
   "id": "59f53592",
   "metadata": {},
   "outputs": [],
   "source": [
    "# We get the feature collection of Administrative boundaries (level0)\n",
    "countries = ee.FeatureCollection('FAO/GAUL/2015/level0').select('ADM0_NAME')"
   ]
  },
  {
   "cell_type": "markdown",
   "id": "5d82595b",
   "metadata": {},
   "source": [
    "And we can also filter it to get a subset. "
   ]
  },
  {
   "cell_type": "code",
   "execution_count": null,
   "id": "86135a3e",
   "metadata": {},
   "outputs": [],
   "source": [
    "# We filter the featureCollection to get the feature we want\n",
    "# the .eq method stands for equal. So this looks for the name Germany in the attribute ADM0_Name\n",
    "germany = countries.filter(ee.Filter.eq('ADM0_NAME', 'Germany'))"
   ]
  },
  {
   "cell_type": "markdown",
   "id": "97d9927c",
   "metadata": {},
   "source": [
    "And finally we can use geemap to show us the country we selected as a highlight on the map. "
   ]
  },
  {
   "cell_type": "code",
   "execution_count": null,
   "id": "50231359",
   "metadata": {},
   "outputs": [],
   "source": [
    "# Create a map\n",
    "Map = geemap.Map(zoom=3)\n",
    "# Add the Germany feature \n",
    "Map.addLayer(germany,{},'Countries')\n",
    "# Show it\n",
    "Map"
   ]
  },
  {
   "cell_type": "markdown",
   "id": "38ed59c4",
   "metadata": {},
   "source": [
    "Repeat this exercise with the state of the country you were born in (hint: you have to select another feature collection."
   ]
  },
  {
   "cell_type": "code",
   "execution_count": null,
   "id": "115b88e7",
   "metadata": {},
   "outputs": [],
   "source": [
    "# You can also use this code to select several countries at once\n",
    "# Again you use the filter, but this time you select for all countries in the list you provide\n",
    "countries = ee.FeatureCollection('FAO/GAUL/2015/level0').filter(ee.Filter.inList(\"ADM0_NAME\", ['Germany', 'Brazil', 'France'))"
   ]
  },
  {
   "cell_type": "markdown",
   "id": "67c9d190",
   "metadata": {},
   "source": [
    "## Exercise 2: Getting info from a feature collection\n",
    "As we saw in the exercise before, feature collections contain information about their polygons like their name. We used this to select states by name. We can also ask GEE to give us all the information in a feature collection, so we can use it to select the wnats we are interest in. For this we can use the .getInfo() method. \n"
   ]
  },
  {
   "cell_type": "code",
   "execution_count": null,
   "id": "ce0a4944",
   "metadata": {},
   "outputs": [],
   "source": [
    "# We get the feature collection of Administrative boundaries (level0) and ask for all values in the ADM0_Name attribute\n",
    "countries = ee.FeatureCollection('FAO/GAUL/2015/level0').aggregate_array(\"ADM0_NAME\").getInfo()"
   ]
  },
  {
   "cell_type": "markdown",
   "id": "4106910a",
   "metadata": {},
   "source": [
    "Repeat this for all the states in your home country. "
   ]
  },
  {
   "cell_type": "markdown",
   "id": "7b3c94d3",
   "metadata": {},
   "source": [
    "## Exercise 3: Filter based on a numerical attribute\n",
    "For this we will use the dataset of the [RESOLVE ecoregions](https://developers.google.com/earth-engine/datasets/catalog/RESOLVE_ECOREGIONS_2017#table-schema). This is a global mapping of ecosystem regions. We can select it with:"
   ]
  },
  {
   "cell_type": "code",
   "execution_count": null,
   "id": "4c2b821f",
   "metadata": {},
   "outputs": [],
   "source": [
    "# Get the ecoregion data \n",
    "ecoregions = ee.FeatureCollection(\"RESOLVE/ECOREGIONS/2017\")"
   ]
  },
  {
   "cell_type": "markdown",
   "id": "29bbee3d",
   "metadata": {},
   "source": [
    "Now only select the mangroves worldwide and display them:"
   ]
  },
  {
   "cell_type": "code",
   "execution_count": null,
   "id": "8d4893c9",
   "metadata": {},
   "outputs": [],
   "source": [
    "# Only select mangroves\n",
    "mangroves = ecoregions.filter(ee.Filter.eq('BIOME_NAME', 'Mangroves'))\n",
    "# Show them \n",
    "Map = geemap.Map()\n",
    "Map.addLayer(mangroves,{},\"Mangroves Worldwide\")\n",
    "Map"
   ]
  },
  {
   "cell_type": "markdown",
   "id": "62a3c6dd",
   "metadata": {},
   "source": [
    "Next we only want to select all mangroves that are larger than 3 square degrees:"
   ]
  },
  {
   "cell_type": "code",
   "execution_count": null,
   "id": "e7749d31",
   "metadata": {},
   "outputs": [],
   "source": [
    "# Only select those mangroves with a total area greater than (gt) than 3 square degrees\n",
    "largest_mangroves = mangroves.filter(ee.Filter.gt(\"SHAPE_AREA\", 3.3))\n",
    "# Show them \n",
    "Map = geemap.Map()\n",
    "Map.addLayer(largest_mangroves,{},\"Largest Mangroves Worldwide\")\n",
    "Map.center_object(largest_mangroves)\n",
    "Map"
   ]
  },
  {
   "cell_type": "markdown",
   "id": "ff055fc9",
   "metadata": {},
   "source": [
    "Repeat this exercise and find the smallest \"Temperate Conifer Forests\" in the world."
   ]
  },
  {
   "cell_type": "markdown",
   "id": "40fa4edc",
   "metadata": {},
   "source": [
    "## Exercise 4: Grouping feature collections by attribute\n",
    "Grouping is a powerful technique. It basically allows you to sort your data by a specific attribute. For example, you could group your data by country and subsequently calculate all your other attributes on a by country basis. This allows you to get a quick overview over your data. \n",
    "\n",
    "To do this properly we first want to exclude all shapes with missing values, as they skew our selection. "
   ]
  },
  {
   "cell_type": "code",
   "execution_count": null,
   "id": "557a7105",
   "metadata": {},
   "outputs": [],
   "source": [
    "# Get the ecoregion data \n",
    "ecoregions = ee.FeatureCollection(\"RESOLVE/ECOREGIONS/2017\")\n",
    "# Remove non values for numerical attributes \n",
    "# the .And allows to select several attributes at once\n",
    "# .neq stands for not equal\n",
    "data_without_none = ecoregions.filter(ee.Filter.And(ee.Filter.neq(\"SHAPE_AREA\", None),\n",
    "                                                   ee.Filter.neq(\"SHAPE_LENGTH\",None)))"
   ]
  },
  {
   "cell_type": "markdown",
   "id": "7decf73f",
   "metadata": {},
   "source": [
    "Next we group by the ecoregion and calculate the mean of the shape area, to see which ecoregion is the largest one on earth. This looks complicated, but the idea is actually pretty simple. "
   ]
  },
  {
   "cell_type": "code",
   "execution_count": null,
   "id": "c71727c9",
   "metadata": {},
   "outputs": [],
   "source": [
    "grouped_regions = data_without_none.reduceColumns(**{\n",
    "    # Define the columns we want to work with\n",
    "    \"selectors\": [\"SHAPE_AREA\", \"BIOME_NAME\"],\n",
    "    # Define what we want to calculate, e.g. min, max, mean\n",
    "    # .repeat tells GEE how many of the attributes should be used for calculation (starting with the first one)\n",
    "    # .group defines that we want to group the results by something\n",
    "    \"reducer\": ee.Reducer.mean().repeat(1).group(**{\n",
    "        # the group field refers to the line with \"selectors\" and starts counting at 0\n",
    "        # the field we select will be used for grouping, so \"BIOME_NAME\" in this case\n",
    "        \"groupField\":1,\n",
    "        # groupName is simply a lable we want to use for the groups\n",
    "        \"groupName\":\"Ecoregion\"\n",
    "    })\n",
    "})\n",
    "grouped_regions.getInfo()"
   ]
  },
  {
   "cell_type": "markdown",
   "id": "9d5517fc",
   "metadata": {},
   "source": [
    "Repeat this exercise by selecting a new feature collection from the [data calalog](https://developers.google.com/earth-engine/datasets/catalog) and collect the max value for a meaningful grouped attribute."
   ]
  },
  {
   "cell_type": "markdown",
   "id": "75f1f81e",
   "metadata": {},
   "source": [
    "## Creating your own GeoJSON\n",
    "Basically a simple syntax to store geographical data. For more information, take a look at [this video](https://youtu.be/8RPfrhzRw2s). When using GEE or other GIS software it can often be helpful to create your own GeoJSONs quickly. You can use this to quickly create a polygon for a area you are interested in. To do this we can use [geojson.io](http://geojson.io/#map=2/20.0/0.0) ([explanation video](https://youtu.be/9ZkXYnl3-yg)). If you want to use it in Google Colab, we need to copy the output of the website. "
   ]
  },
  {
   "cell_type": "code",
   "execution_count": null,
   "id": "3c8060b3",
   "metadata": {},
   "outputs": [],
   "source": [
    "my_geojson = {\n",
    "  \"type\": \"FeatureCollection\",\n",
    "  \"features\": [\n",
    "    {\n",
    "      \"type\": \"Feature\",\n",
    "      \"properties\": {},\n",
    "      \"geometry\": {\n",
    "        \"type\": \"Polygon\",\n",
    "        \"coordinates\": [\n",
    "          [\n",
    "            [\n",
    "              -12.83203125,\n",
    "              13.325484885597936\n",
    "            ],\n",
    "            [\n",
    "              16.5234375,\n",
    "              13.325484885597936\n",
    "            ],\n",
    "            [\n",
    "              16.5234375,\n",
    "              33.211116472416855\n",
    "            ],\n",
    "            [\n",
    "              -12.83203125,\n",
    "              33.211116472416855\n",
    "            ],\n",
    "            [\n",
    "              -12.83203125,\n",
    "              13.325484885597936\n",
    "            ]\n",
    "          ]\n",
    "        ]\n",
    "      }\n",
    "    }\n",
    "  ]\n",
    "}"
   ]
  },
  {
   "cell_type": "markdown",
   "id": "e8cade40",
   "metadata": {},
   "source": [
    "To convert it to a usable geometry, we can just use geemap. "
   ]
  },
  {
   "cell_type": "code",
   "execution_count": null,
   "id": "c6741a45",
   "metadata": {},
   "outputs": [],
   "source": [
    "area_of_interest = geemap.geojson_to_ee(my_geojson)\n",
    "print(area_of_interest)"
   ]
  },
  {
   "cell_type": "markdown",
   "id": "d4ee775e",
   "metadata": {},
   "source": [
    "## Clipping a raster by a vector in Google Earth Engine\n",
    "Clipping rasters to the extents you need is one of the most common operations in GIS, which means you can also do it in GEE. For this we will use the GeoJSON file we just read in and a [DEM](https://developers.google.com/earth-engine/datasets/catalog/CGIAR_SRTM90_V4). "
   ]
  },
  {
   "cell_type": "code",
   "execution_count": null,
   "id": "ceefa6f8",
   "metadata": {},
   "outputs": [],
   "source": [
    "dem = ee.Image(\"CGIAR/SRTM90_V4\") \n",
    "dem_clipped = dem.clip(area_of_interest)\n",
    "Map = geemap.Map()\n",
    "Map.addLayer(dem_clipped,{},\"Area of Interest\")\n",
    "Map.center_object(dem_clipped)\n",
    "Map"
   ]
  },
  {
   "cell_type": "markdown",
   "id": "e7066fe7",
   "metadata": {},
   "source": [
    "## Exercise 5: Clip your own raster\n",
    "Select a raster from the [data catalog](https://developers.google.com/earth-engine/datasets/catalog) and create your own GeoJSON from [geojson.io](http://geojson.io/#map=2/20.0/0.0). Use the GeoJSON you just created to clip the raster you selected. "
   ]
  },
  {
   "cell_type": "markdown",
   "id": "35fe9291",
   "metadata": {},
   "source": [
    "## Working with image collections\n",
    "The most common data type in GEE are image collections. This is usually images taken by satellites and the images represent the different bands the satellite is taking the images is. As an example we'll use [MODIS land surface temperature (LST) ](https://developers.google.com/earth-engine/datasets/catalog/MODIS_006_MOD11A1), a land cover dataset. First we have to load it in. "
   ]
  },
  {
   "cell_type": "code",
   "execution_count": null,
   "id": "99e477ae",
   "metadata": {},
   "outputs": [],
   "source": [
    "# Import the MODIS land surface temperature collection.\n",
    "lst = ee.ImageCollection('MODIS/006/MOD11A1')"
   ]
  },
  {
   "cell_type": "markdown",
   "id": "8084468d",
   "metadata": {},
   "source": [
    "To understand what kinds of images are part of this collection we can simply look at [the decsription in the data catalog](https://developers.google.com/earth-engine/datasets/catalog/MODIS_006_MOD11A1#bands). The different bands represent the different images of this image collection. We can simply select them by their name. For example, we would like to get the daytime land surface temperature."
   ]
  },
  {
   "cell_type": "code",
   "execution_count": null,
   "id": "968f4c05",
   "metadata": {},
   "outputs": [],
   "source": [
    "lst = lst.select('LST_Day_1km')"
   ]
  },
  {
   "cell_type": "markdown",
   "id": "c27b1c43",
   "metadata": {},
   "source": [
    "This now contains all surface land temperature images for the whole time period. The time period available can also be seen in [the decsription in the data catalog](https://developers.google.com/earth-engine/datasets/catalog/MODIS_006_MOD11A1). In the case of this dataset it is 2000-02-24T00:00:00Z - 2022-03-25T00:00:00 (might be different when you open the dataset). This means we can select for any date (or date range) between those dates. "
   ]
  },
  {
   "cell_type": "code",
   "execution_count": null,
   "id": "4ac2ecb9",
   "metadata": {},
   "outputs": [],
   "source": [
    "# Initial date of interest (inclusive).\n",
    "i_date = '2017-01-01'\n",
    "\n",
    "# Final date of interest (exclusive).\n",
    "f_date = '2020-01-01'\n",
    "\n",
    "# Select only the dates we want\n",
    "lst = lst.filterDate(i_date, f_date)"
   ]
  },
  {
   "cell_type": "markdown",
   "id": "8dbf4b1c",
   "metadata": {},
   "source": [
    "## Sampling from an image\n",
    "We can ask GEE to sample an image from a specific location to get the value from there. First we have to define the point we are interested in:"
   ]
  },
  {
   "cell_type": "code",
   "execution_count": null,
   "id": "63ed322d",
   "metadata": {},
   "outputs": [],
   "source": [
    "# Define the urban location of interest as a point near Lyon, France.\n",
    "u_lon = 4.8148\n",
    "u_lat = 45.7758\n",
    "u_poi = ee.Geometry.Point(u_lon, u_lat)"
   ]
  },
  {
   "cell_type": "markdown",
   "id": "0d0395f1",
   "metadata": {},
   "source": [
    "Here's the code we need to sample from a specific point from a single image. "
   ]
  },
  {
   "cell_type": "code",
   "execution_count": null,
   "id": "f546ace9",
   "metadata": {},
   "outputs": [],
   "source": [
    "scale = 1000  # scale in meters\n",
    "# Calculate and print the mean value of the LST collection at the point.\n",
    "lst_urban_point = lst.mean().sample(u_poi, scale).first().get('LST_Day_1km').getInfo()\n",
    "print('Average daytime LST at urban point:', round(lst_urban_point*0.02 -273.15, 2), '°C')"
   ]
  },
  {
   "cell_type": "markdown",
   "id": "2d44d043",
   "metadata": {},
   "source": [
    "Let's go through this in detail:\n",
    "* lst.mean() calculates the mean values for an image collection and returns a single image that only contains the average values. In this case it is the average temperature for every point for the whole time period. \n",
    "* .sample() can samples a point in an image. For this it needs a positions (u_poi) and a scale. GEE saves images in different resolutions. The scale keywords tells GEE the resolution we would like to get the image in and it will return the resolution that is closest to the scale we asked for. It always returns a feature collection, even if we just ask for one element as in this case.\n",
    "* .first() returns the first element of a feature collection, which is exactly what we want here. \n",
    "* .get() selects the band we would like to look at\n",
    "* .getInfo() retrieves the info from the server, so we can work with it in the notebook"
   ]
  },
  {
   "cell_type": "markdown",
   "id": "0e5b920d",
   "metadata": {},
   "source": [
    "Themen die noch hier rein sollten: https://developers.google.com/earth-engine/tutorials/community/beginners-cookbook\n",
    "\n",
    "Macht insgesamt sinn die reihenfolge nochmal anzupassen \n",
    "* Common operations on geometries\n",
    "* Filtering\n",
    "* Operations on images\n",
    "* Reducers\n",
    "* Operations on image collections\n",
    "* Exporting data\n",
    "* using ee in qgis https://youtu.be/p_7RlYM-Er0\n"
   ]
  },
  {
   "cell_type": "markdown",
   "id": "feef77be",
   "metadata": {},
   "source": [
    "das hier ist noch ein ganz schönes beispiel was man durchspielen kann\n",
    "https://developers.google.com/earth-engine/tutorials/community/ph-ug-temp"
   ]
  }
 ],
 "metadata": {
  "kernelspec": {
   "display_name": "Python 3 (ipykernel)",
   "language": "python",
   "name": "python3"
  },
  "language_info": {
   "codemirror_mode": {
    "name": "ipython",
    "version": 3
   },
   "file_extension": ".py",
   "mimetype": "text/x-python",
   "name": "python",
   "nbconvert_exporter": "python",
   "pygments_lexer": "ipython3",
   "version": "3.9.7"
  }
 },
 "nbformat": 4,
 "nbformat_minor": 5
}
