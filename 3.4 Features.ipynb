{
 "cells": [
  {
   "cell_type": "markdown",
   "metadata": {
    "colab_type": "text",
    "id": "3eJxJkqfPX6t"
   },
   "source": [
    "# Geometry overview\n",
    "\n",
    "Earth Engine handles vector data with the `Geometry` type. The [GeoJSON spec](https://geojson.org/geojson-spec.html) describes in detail the type of geometries supported by Earth Engine, including `Point` (a list of coordinates in some projection), `LineString` (a list of points), `LinearRing` (a closed `LineString`), and `Polygon` (a list of `LinearRings` where the first is a shell and subsequent rings are holes). Earth Engine also supports `MultiPoint`, `MultiLineString`, and `MultiPolygon`. The GeoJSON GeometryCollection is also supported, although it has the name `MultiGeometry` within Earth Engine.\n",
    "\n",
    "\n",
    "#### Creating Geometry objects\n",
    " To create a Geometry programmatically, provide the constructor with the proper list(s) of coordinates. For example:"
   ]
  },
  {
   "cell_type": "code",
   "execution_count": null,
   "metadata": {
    "colab": {},
    "colab_type": "code",
    "id": "JyoJJaopPYK5"
   },
   "outputs": [],
   "source": [
    "point = ee.Geometry.Point([1.5, 1.5])\n",
    "lineString = ee.Geometry.LineString([[-35, -10], [35, -10], [35, 10], [-35, 10]])\n",
    "linearRing = ee.Geometry.LinearRing([[-35, -10], [35, -10], [35, 10], [-35, 10], [-35, -10]])\n",
    "rectangle = ee.Geometry.Rectangle([-40, -20, 40, 20])\n",
    "polygon = ee.Geometry.Polygon([[[-5, 40], [65, 40], [65, 60], [-5, 60], [-5, 60]]])"
   ]
  },
  {
   "cell_type": "markdown",
   "metadata": {
    "colab_type": "text",
    "id": "-qCQYVs1QuME"
   },
   "source": [
    "In the previous examples, note that the distinction between a `LineString` and a `LinearRing` is that the `LinearRing` is “closed” by having the same coordinate at both the start and end of the list.\n",
    "\n",
    "An individual `Geometry` may consist of multiple geometries. To break a multi-part `Geometry` into its constituent geometries, use `geometry.geometries()`. For example:"
   ]
  },
  {
   "cell_type": "code",
   "execution_count": null,
   "metadata": {
    "colab": {},
    "colab_type": "code",
    "id": "UKTnn8zAQsSL"
   },
   "outputs": [],
   "source": [
    "# Create a multi-part feature.\n",
    "multiPoint = ee.Geometry.MultiPoint([[-121.68, 39.91], [-97.38, 40.34]])\n",
    "\n",
    "# Get the individual geometries as a list.\n",
    "geometries = multiPoint.geometries()\n",
    "\n",
    "# Get each individual geometry from the list and print it.\n",
    "pt1 = geometries.get(0)\n",
    "pt2 = geometries.get(1)\n",
    "print('Point 1', pt1)\n",
    "print('Point 2', pt2)"
   ]
  },
  {
   "cell_type": "markdown",
   "metadata": {
    "colab_type": "text",
    "id": "KG2ejzUxS1yK"
   },
   "source": [
    "# Geodesic vs. Planar Geometries\n",
    "\n",
    "A geometry created in Earth Engine is either geodesic (i.e. edges are the shortest path on the surface of a sphere) or planar (i.e. edges are the shortest path in a 2-D Cartesian plane). No one planar coordinate system is suitable for global collections of features, so Earth Engine's geometry constructors build geodesic geometries by default. To make a planar geometry, constructors have a geodesic parameter that can be set to false:\n",
    "\n"
   ]
  },
  {
   "cell_type": "code",
   "execution_count": null,
   "metadata": {
    "colab": {},
    "colab_type": "code",
    "id": "ovaUOopCS3Nh"
   },
   "outputs": [],
   "source": [
    "planarPolygon = ee.Geometry(polygon, None, False)"
   ]
  },
  {
   "cell_type": "markdown",
   "metadata": {
    "colab_type": "text",
    "id": "rFNIKPH6S7jJ"
   },
   "source": [
    "Figure 1 shows the difference between the default geodesic polygon and the result of converting the polygon to a planar representation.\n",
    "\n",
    "\n",
    "<center>\n",
    "<img src=\"https://developers.google.com/earth-engine/images/Geometry_geodesic_vs_planar_annotated.png\">  \n",
    "</center>"
   ]
  },
  {
   "cell_type": "markdown",
   "metadata": {
    "colab_type": "text",
    "id": "2YZTs4H-RZer"
   },
   "source": [
    "# Geometry information and metadata\n",
    "\n",
    "To view information about a geometry, print it. To access the information programmatically, Earth Engine provides several methods. For example, to get information about the polygon created previously, use:"
   ]
  },
  {
   "cell_type": "code",
   "execution_count": null,
   "metadata": {
    "colab": {
     "base_uri": "https://localhost:8080/",
     "height": 163
    },
    "colab_type": "code",
    "id": "B9IVA4iBRafv",
    "outputId": "6b7c5cc0-3510-45fc-d666-3a15fc7c82e6"
   },
   "outputs": [],
   "source": [
    "print('Polygon printout: ', polygon.getInfo())\n",
    "\n",
    "# Print polygon area in square kilometers.\n",
    "print('Polygon area: ', polygon.area().divide(1000 * 1000).getInfo())\n",
    "\n",
    "# Print polygon perimeter length in kilometers.\n",
    "print('Polygon perimeter: ', polygon.perimeter().divide(1000).getInfo())\n",
    "\n",
    "# Print the geometry as a GeoJSON string.\n",
    "print('Polygon GeoJSON: ', polygon.toGeoJSONString())\n",
    "\n",
    "# Print the GeoJSON 'type'\n",
    "print('Geometry type: ', polygon.type().getInfo())\n",
    "\n",
    "# Print the coordinates as lists\n",
    "print('Polygon coordinates: ', polygon.coordinates().getInfo())\n",
    "\n",
    "# Print whether the geometry is geodesic.\n",
    "print('Geodesic? ', polygon.geodesic().getInfo())      "
   ]
  },
  {
   "cell_type": "markdown",
   "metadata": {
    "colab_type": "text",
    "id": "HXOz_wXOReLQ"
   },
   "source": [
    "Observe that the perimeter (or length) of a geometry is returned in meters and the area is returned in square meters unless a projection is specified. By default, the computation is performed on the WGS84 spheroid and the result is computed in meters or square meters."
   ]
  },
  {
   "cell_type": "markdown",
   "metadata": {
    "colab_type": "text",
    "id": "a4HF2kI0VLPL"
   },
   "source": [
    "# Geometric Operations\n",
    "\n",
    "Earth Engine supports a wide variety of operations on `Geometry` objects. These include operations on individual geometries such as computing a buffer, centroid, bounding box, perimeter, convex hull, etc. For example:\n",
    "\n"
   ]
  },
  {
   "cell_type": "code",
   "execution_count": null,
   "metadata": {
    "colab": {
     "base_uri": "https://localhost:8080/",
     "height": 682
    },
    "colab_type": "code",
    "id": "Br8QutLoRcU7",
    "outputId": "b96e3a68-7a53-4a5b-db4c-8c7c2fd38bfc"
   },
   "outputs": [],
   "source": [
    "# Create a geodesic polygon.\n",
    "polygon = ee.Geometry.Polygon(coords = [[[-5, 40], [65, 40], [65, 60], [-5, 60], [-5, 60]]])\n",
    "\n",
    "# Compute a buffer of the polygon.\n",
    "buffer = polygon.buffer(1000000).getInfo()\n",
    "\n",
    "# Compute the centroid of the polygon.\n",
    "centroid = polygon.centroid().getInfo()\n",
    "\n",
    "\n",
    "#Go Folium\n",
    "center = centroid['coordinates']\n",
    "\n",
    "Mapdisplay(center,{'center':centroid,'buffer':buffer},zoom_start=3)"
   ]
  },
  {
   "cell_type": "markdown",
   "metadata": {
    "colab_type": "text",
    "id": "TzPvY1830Y7T"
   },
   "source": [
    "Observe from the previous example that the buffer distance is specified in meters.\n",
    "\n",
    "Supported geometric operations also include relational computations between geometries such as intersection, union, difference, distance, contains, etc. To test some of these relations, geometries use the “even-odd” rule by default. By the even-odd rule, a point is inside the polygon if a line from that point to some point known to be outside the polygon crosses an odd number of other edges. The inside of a polygon is everything inside the shell and not inside a hole. As a simple example, a point within a circular polygon must cross exactly one edge to escape the polygon. Geometries can optionally use the \"left-inside\" rule, if necessary. Imagine walking the points of a ring in the order given; the inside will be on the left.\n",
    "\n",
    "To demonstrate the difference between geometries created with the \"left-inside\" rule (`evenOdd: false`) and those created with the \"even-odd\" rule, the following example compares a point to two different polygons:"
   ]
  },
  {
   "cell_type": "code",
   "execution_count": null,
   "metadata": {
    "colab": {
     "base_uri": "https://localhost:8080/",
     "height": 53
    },
    "colab_type": "code",
    "id": "CDExC6MU1VZn",
    "outputId": "fdd42743-001f-4082-cae4-4d441c38cb77"
   },
   "outputs": [],
   "source": [
    "# Create a right-inside polygon.\n",
    "holePoly = ee.Geometry.Polygon(coords = [[[-35, -10], [-35, 10], [35, 10], [35, -10], [-35, -10]]],\n",
    "                               proj= 'EPSG:4326',\n",
    "                               geodesic = True,\n",
    "                               maxError= 1.,\n",
    "                               evenOdd = False)\n",
    "\n",
    "# Create an even-odd version of the polygon.\n",
    "evenOddPoly = ee.Geometry(geo_json =  holePoly.getInfo(),\n",
    "                          opt_proj = 'EPSG:4326',\n",
    "                          opt_evenOdd = True)\n",
    "\n",
    "# Create a point to test the insideness of the polygon.\n",
    "pt = ee.Geometry.Point([1.5, 1.5])\n",
    "\n",
    "# Check insideness with a contains operator.\n",
    "print(holePoly.contains(pt).getInfo())       # False\n",
    "print(evenOddPoly.contains(pt).getInfo())    # True"
   ]
  },
  {
   "cell_type": "markdown",
   "metadata": {
    "colab_type": "text",
    "id": "KRNSz_QI9bkW"
   },
   "source": [
    "The previous example demonstrates how the order of coordinates provided to the Polygon constructor affects the result when a left-inside polygon is constructed. Specifically, the point is outside the left-inside polygon but inside the even-odd polygon.\n",
    "\n",
    "The following example computes and visualizes derived geometries based on the relationship between two polygons:"
   ]
  },
  {
   "cell_type": "code",
   "execution_count": null,
   "metadata": {
    "colab": {
     "base_uri": "https://localhost:8080/",
     "height": 682
    },
    "colab_type": "code",
    "id": "xkLNSVOh9fJp",
    "outputId": "bc7e6e7c-bbb8-4a8c-d0e8-95a40fd6c204"
   },
   "outputs": [],
   "source": [
    "# Create two circular geometries.\n",
    "poly1 = ee.Geometry.Point([-50, 30]).buffer(1e6)\n",
    "poly2 = ee.Geometry.Point([-40, 30]).buffer(1e6)\n",
    "\n",
    "poly1_geojson = poly1.getInfo()\n",
    "poly2_geojson = poly2.getInfo()\n",
    "\n",
    "# Display polygon 1 in red and polygon 2 in blue.\n",
    "Mapdisplay(center= (30,-45),dicc={'poly1':poly1_geojson,'poly2':poly2_geojson},zoom_start=3)"
   ]
  },
  {
   "cell_type": "code",
   "execution_count": null,
   "metadata": {
    "colab": {
     "base_uri": "https://localhost:8080/",
     "height": 682
    },
    "colab_type": "code",
    "id": "j3tNKysnHlRO",
    "outputId": "b1c8eb5a-5e0b-4771-875f-30ca78ec052a"
   },
   "outputs": [],
   "source": [
    "# Compute the intersection, display it in blue.\n",
    "intersection = poly1.intersection(poly2, ee.ErrorMargin(1)).getInfo()\n",
    "Mapdisplay(center= (30,-45),dicc={'intersection':intersection},zoom_start=3)"
   ]
  },
  {
   "cell_type": "code",
   "execution_count": null,
   "metadata": {
    "colab": {
     "base_uri": "https://localhost:8080/",
     "height": 682
    },
    "colab_type": "code",
    "id": "64FnnBVGHxQh",
    "outputId": "79246e98-df5e-4913-8e82-aa1d77cd4f82"
   },
   "outputs": [],
   "source": [
    "# Compute the union, display it in magenta.\n",
    "union = poly1.union(poly2, ee.ErrorMargin(1)).getInfo()\n",
    "Mapdisplay(center= (30,-45),dicc={'union':union},zoom_start=3)"
   ]
  },
  {
   "cell_type": "code",
   "execution_count": null,
   "metadata": {
    "colab": {
     "base_uri": "https://localhost:8080/",
     "height": 682
    },
    "colab_type": "code",
    "id": "LhEBR-e_H-sO",
    "outputId": "aa6b3eb3-2422-4c13-93f7-c4fd353158ed"
   },
   "outputs": [],
   "source": [
    "# Compute the difference, display in yellow.\n",
    "diff1 = poly1.difference(poly2, ee.ErrorMargin(1)).getInfo()\n",
    "Mapdisplay(center= (30,-45),dicc={'diff':diff1},zoom_start=3)"
   ]
  },
  {
   "cell_type": "code",
   "execution_count": null,
   "metadata": {
    "colab": {
     "base_uri": "https://localhost:8080/",
     "height": 682
    },
    "colab_type": "code",
    "id": "sQkpaQPkIM1X",
    "outputId": "e44e9c03-4ad2-4b2a-8ba1-5daeac70de69"
   },
   "outputs": [],
   "source": [
    "# Compute symmetric difference, display in black.\n",
    "symDiff = poly1.symmetricDifference(poly2, ee.ErrorMargin(1)).getInfo()\n",
    "Mapdisplay(center= (30,-45),dicc={'symDiff':symDiff},zoom_start=3)"
   ]
  },
  {
   "cell_type": "markdown",
   "metadata": {
    "colab_type": "text",
    "id": "jSu2lyqFIbpW"
   },
   "source": [
    "In these examples, note that that maxError parameter is set to one meter for the geometry operations. The maxError is the maximum allowable error, in meters, from transformations (such as projection or reprojection) that may alter the geometry. If one of the geometries is in a different projection from the other, Earth Engine will do the computation in a spherical coordinate system, with a projection precision given by maxError. You can also specify a specific projection in which to do the computation, if necessary.\n",
    "\n"
   ]
  },
  {
   "cell_type": "markdown",
   "metadata": {
    "colab_type": "text",
    "id": "IJHAp9XMJDev"
   },
   "source": [
    "# Feature Overview\n",
    "\n",
    "A `Feature` in Earth Engine is defined as a GeoJSON `Feature`. Specifically, a `Feature` is an object with a geometry property storing a `Geometry` object (or null) and a `properties` property storing a dictionary of other properties.\n",
    "\n",
    "## Creating Feature objects\n",
    "To create a `Feature`, provide the constructor with a `Geometry` and (optionally) a dictionary of other properties. For example:"
   ]
  },
  {
   "cell_type": "code",
   "execution_count": null,
   "metadata": {
    "colab": {},
    "colab_type": "code",
    "id": "rjRPP6ANJJzt"
   },
   "outputs": [],
   "source": [
    "# Create an ee.Geometry.\n",
    "polygon = ee.Geometry.Polygon([[[-35, -10], [35, -10], [35, 10], [-35, 10], [-35, -10]]])\n",
    "\n",
    "# Create a Feature from the Geometry.\n",
    "polyFeature = ee.Feature(polygon, {'foo': 42, 'bar': 'tart'})"
   ]
  },
  {
   "cell_type": "markdown",
   "metadata": {
    "colab_type": "text",
    "id": "5mIfJpMlJMK2"
   },
   "source": [
    "As with a `Geometry`, a `Feature` may be printed or added to the map for inspection and visualization:"
   ]
  },
  {
   "cell_type": "code",
   "execution_count": null,
   "metadata": {
    "colab": {
     "base_uri": "https://localhost:8080/",
     "height": 161
    },
    "colab_type": "code",
    "id": "-EzyeWjSJLJB",
    "outputId": "31ce6a1a-4c1f-41d4-d178-82151690c5ae"
   },
   "outputs": [],
   "source": [
    "polyFeature.getInfo()"
   ]
  },
  {
   "cell_type": "markdown",
   "metadata": {
    "colab_type": "text",
    "id": "CSR-ZAKaJOmc"
   },
   "source": [
    "A `Feature` need not have a Geometry and may simply wrap a dictionary of properties. For example:\n",
    "\n"
   ]
  },
  {
   "cell_type": "code",
   "execution_count": null,
   "metadata": {
    "colab": {},
    "colab_type": "code",
    "id": "7kH7hPsIJO0m"
   },
   "outputs": [],
   "source": [
    "# Create a dictionary of properties, some of which may be computed values.\n",
    "dict = {'foo': ee.Number(8).add(88), 'bar': 'nihao'}\n",
    "\n",
    "# Create a null geometry feature with the dictionary of properties.\n",
    "nowhereFeature = ee.Feature(None, dict)"
   ]
  },
  {
   "cell_type": "markdown",
   "metadata": {
    "colab_type": "text",
    "id": "S244iLTtJQbJ"
   },
   "source": [
    "In this example, note that the dictionary supplied to the `Feature` contains a computed value. Creating features in this manner is useful for exporting long-running computations with a `Dictionary` result (e.g. `image.reduceRegion()`). See the [FeatureCollections](https://developers.google.com/earth-engine/feature_collections) and [Importing](https://developers.google.com/earth-engine/importing) or [Exporting](https://developers.google.com/earth-engine/exporting) sections for details.\n",
    "\n",
    "Each `Feature` has one primary `Geometry` stored in the `geometry` property. Additional geometries may be stored in other properties. `Geometry` methods such as intersection and buffer also exist on `Feature` as a convenience for getting the primary `Geometry`, applying the operation, and setting the result as the new primary `Geometry`. The result will retain all the other properties of the `Feature` on which the method is called. There are also methods for getting and setting the non-geometry properties of the `Feature`. For example:"
   ]
  },
  {
   "cell_type": "code",
   "execution_count": null,
   "metadata": {
    "colab": {
     "base_uri": "https://localhost:8080/",
     "height": 119
    },
    "colab_type": "code",
    "id": "h49l93CrJQn-",
    "outputId": "532b0d2e-c654-461e-8dc8-c3a85e12fa17"
   },
   "outputs": [],
   "source": [
    "from pprint import pprint\n",
    "# Make a feature and set some properties.\n",
    "feature = ee.Feature(ee.Geometry.Point([-122.22599, 37.17605]))\\\n",
    "            .set('genus', 'Sequoia').set('species', 'sempervirens')\n",
    "\n",
    "# Get a property from the feature.\n",
    "species = feature.get('species')\n",
    "print(species.getInfo())\n",
    "\n",
    "# Set a new property.\n",
    "feature = feature.set('presence', 1)\n",
    "\n",
    "# Overwrite the old properties with a new dictionary.\n",
    "newDict = {'genus': 'Brachyramphus', 'species': 'marmoratus'}\n",
    "feature = feature.set(newDict)\n",
    "\n",
    "# Check the result.\n",
    "pprint(feature.getInfo())"
   ]
  },
  {
   "cell_type": "markdown",
   "metadata": {
    "colab_type": "text",
    "id": "9hz7eHY1JTL6"
   },
   "source": [
    "In the previous example, note that properties can be set with either a key: value pair, or with a dictionary as a JavaScript literal. Also note that `feature.set()` overwrites existing properties."
   ]
  },
  {
   "cell_type": "markdown",
   "metadata": {},
   "source": [
    "## Creating your own GeoJSON\n",
    "Basically a simple syntax to store geographical data. For more information, take a look at [this video](https://youtu.be/8RPfrhzRw2s). When using GEE or other GIS software it can often be helpful to create your own GeoJSONs quickly. You can use this to quickly create a polygon for a area you are interested in. To do this we can use [geojson.io](http://geojson.io/#map=2/20.0/0.0) ([explanation video](https://youtu.be/9ZkXYnl3-yg)). If you want to use it in Google Colab, we need to copy the output of the website. "
   ]
  },
  {
   "cell_type": "code",
   "execution_count": null,
   "metadata": {},
   "outputs": [],
   "source": [
    "my_geojson = {\n",
    "  \"type\": \"FeatureCollection\",\n",
    "  \"features\": [\n",
    "    {\n",
    "      \"type\": \"Feature\",\n",
    "      \"properties\": {},\n",
    "      \"geometry\": {\n",
    "        \"type\": \"Polygon\",\n",
    "        \"coordinates\": [\n",
    "          [\n",
    "            [\n",
    "              -12.83203125,\n",
    "              13.325484885597936\n",
    "            ],\n",
    "            [\n",
    "              16.5234375,\n",
    "              13.325484885597936\n",
    "            ],\n",
    "            [\n",
    "              16.5234375,\n",
    "              33.211116472416855\n",
    "            ],\n",
    "            [\n",
    "              -12.83203125,\n",
    "              33.211116472416855\n",
    "            ],\n",
    "            [\n",
    "              -12.83203125,\n",
    "              13.325484885597936\n",
    "            ]\n",
    "          ]\n",
    "        ]\n",
    "      }\n",
    "    }\n",
    "  ]\n",
    "}"
   ]
  },
  {
   "cell_type": "markdown",
   "metadata": {},
   "source": [
    "To convert it to a usable geometry, we can just use geemap. "
   ]
  },
  {
   "cell_type": "code",
   "execution_count": null,
   "metadata": {},
   "outputs": [],
   "source": [
    "area_of_interest = geemap.geojson_to_ee(my_geojson)\n",
    "print(area_of_interest)"
   ]
  },
  {
   "cell_type": "markdown",
   "metadata": {
    "colab_type": "text",
    "id": "NdN1TZ5MJb0q"
   },
   "source": [
    "# FeatureCollection Overview\n",
    "\n",
    "Groups of related features can be combined into a `FeatureCollection`, to enable additional operations on the entire set such as filtering, sorting and rendering. Besides just simple features (geometry + properties), feature collections can also contain other collections.\n",
    "\n",
    "#### The FeatureCollection constructor\n",
    "\n",
    "One way to create a `FeatureCollection` is to provide the constructor with a list of features. The features do not need to have the same geometry type or the same properties. For example:"
   ]
  },
  {
   "cell_type": "code",
   "execution_count": null,
   "metadata": {
    "colab": {
     "base_uri": "https://localhost:8080/",
     "height": 359
    },
    "colab_type": "code",
    "id": "_Ibj29-EJeXb",
    "outputId": "685ddded-e507-4258-d900-dcb278f0d04d"
   },
   "outputs": [],
   "source": [
    "# Make a list of Features.\n",
    "features = [\n",
    "  ee.Feature(ee.Geometry.Rectangle(30.01, 59.80, 30.59, 60.15), {'name': 'Voronoi'}),\n",
    "  ee.Feature(ee.Geometry.Point(-73.96, 40.781), {'name': 'Thiessen'}),\n",
    "  ee.Feature(ee.Geometry.Point(6.4806, 50.8012), {'name': 'Dirichlet'})\n",
    "]\n",
    "\n",
    "# Create a FeatureCollection from the list and print it.\n",
    "fromList = ee.FeatureCollection(features)\n",
    "fromList.getInfo()"
   ]
  },
  {
   "cell_type": "markdown",
   "metadata": {
    "colab_type": "text",
    "id": "iPcxM4cFJg9M"
   },
   "source": [
    "Individual geometries can also be turned into a `FeatureCollection` of just one Feature:\n",
    "\n"
   ]
  },
  {
   "cell_type": "code",
   "execution_count": null,
   "metadata": {
    "colab": {
     "base_uri": "https://localhost:8080/",
     "height": 125
    },
    "colab_type": "code",
    "id": "R1k2QYelJhK6",
    "outputId": "6aaf7a6c-d817-4051-ffee-f562e284f0dc"
   },
   "outputs": [],
   "source": [
    "# Create a FeatureCollection from a single geometry and print it.\n",
    "fromGeom = ee.FeatureCollection(ee.Geometry.Point(16.37, 48.225))\n",
    "fromGeom.getInfo()"
   ]
  },
  {
   "cell_type": "markdown",
   "metadata": {
    "colab_type": "text",
    "id": "MxWXduadJo-c"
   },
   "source": [
    "## Table Datasets\n",
    "\n",
    "Earth Engine hosts a variety of table datasets. To load a table dataset, provide the table ID to the `FeatureCollection` constructor. For example, to load TIGER roads data:"
   ]
  },
  {
   "cell_type": "code",
   "execution_count": null,
   "metadata": {
    "colab": {
     "base_uri": "https://localhost:8080/",
     "height": 682
    },
    "colab_type": "code",
    "id": "YOgtX7AhJvOJ",
    "outputId": "9abd12e9-8fcf-4834-df73-1e9b94aca3bd"
   },
   "outputs": [],
   "source": [
    "fc = ee.FeatureCollection('TIGER/2016/Roads')\n",
    "road = fc.limit(50)\n",
    "centroid = road.geometry().centroid().getInfo()['coordinates']\n",
    "centroid.reverse()\n",
    "Mapdisplay(centroid,{'road':road.getInfo()},zoom_start=12)"
   ]
  },
  {
   "cell_type": "markdown",
   "metadata": {
    "colab_type": "text",
    "id": "mvpgYlp5OGUt"
   },
   "source": [
    "## Random Samples\n",
    "\n",
    "To get a collection of random points in a specified region, you can use:"
   ]
  },
  {
   "cell_type": "code",
   "execution_count": null,
   "metadata": {
    "colab": {
     "base_uri": "https://localhost:8080/",
     "height": 682
    },
    "colab_type": "code",
    "id": "S-jn0ZUVM7sV",
    "outputId": "4436e36b-8ce1-4af2-fe78-e112aa65c59c"
   },
   "outputs": [],
   "source": [
    "# Define an arbitrary region in which to compute random points.\n",
    "region = ee.Geometry.Rectangle(-119.224, 34.669, -99.536, 50.064)\n",
    "center_coord = region.centroid().getInfo()['coordinates']\n",
    "center_coord.reverse()\n",
    "\n",
    "# Create 1000 random points in the region.\n",
    "randomPoints = ee.FeatureCollection.randomPoints(region=region,points=100)\n",
    "\n",
    "# Display the points.\n",
    "Mapdisplay(center_coord,{'randomPoints':randomPoints.getInfo()},zoom_start=5)"
   ]
  },
  {
   "cell_type": "markdown",
   "metadata": {
    "colab_type": "text",
    "id": "LqxTss3uW7jQ"
   },
   "source": [
    "# FeatureCollection Information and Metadata\n",
    "\n",
    "Methods for getting information from image collections are directly applicable to feature collections. (See the [ImageCollection Information and Metadata section](https://developers.google.com/earth-engine/ic_info) for details). You can use the aggregation shortcuts to count the number of features or summarize an attribute:\n",
    "\n"
   ]
  },
  {
   "cell_type": "code",
   "execution_count": null,
   "metadata": {
    "colab": {
     "base_uri": "https://localhost:8080/",
     "height": 510
    },
    "colab_type": "code",
    "id": "G-JXF_byXB01",
    "outputId": "1e190bda-4b7a-4594-ebfd-634cf1fddc07"
   },
   "outputs": [],
   "source": [
    "from pprint import pprint\n",
    "# Load watersheds from a Fusion Table.\n",
    "sheds = ee.FeatureCollection('ft:1IXfrLpTHX4dtdj1LcNXjJADBB-d93rkdJ9acSEWK')\n",
    "\n",
    "#Select just 10 features\n",
    "sheds10 = sheds.limit(10)\n",
    "sheds_centroid = sheds10.geometry().centroid().getInfo()['coordinates']\n",
    "sheds_centroid.reverse()\n",
    "\n",
    "# Display the table and print its first element.\n",
    "pprint(sheds10.limit(1).getInfo()['features'][0]['properties'])\n",
    "\n",
    "# Print the number of watersheds.\n",
    "print('\\n')\n",
    "print('Count: ', sheds10.size().getInfo())\n",
    "\n",
    "# Print stats for an area property.\n",
    "print('\\n')\n",
    "pprint(sheds10.aggregate_stats('AreaSqKm').getInfo())"
   ]
  },
  {
   "cell_type": "code",
   "execution_count": null,
   "metadata": {
    "colab": {
     "base_uri": "https://localhost:8080/",
     "height": 682
    },
    "colab_type": "code",
    "id": "en7T3awmarY5",
    "outputId": "2781ff12-1b84-4f4a-b24f-a57009f6922a"
   },
   "outputs": [],
   "source": [
    "Mapdisplay(sheds_centroid,{'sheds':sheds10.getInfo()},zoom_start=5)"
   ]
  },
  {
   "cell_type": "markdown",
   "metadata": {
    "colab_type": "text",
    "id": "S8In5PjIXgMz"
   },
   "source": [
    "For more general purpose FeatureCollection aggregation tools, see the Reducing a FeatureCollection section.\n",
    "\n"
   ]
  },
  {
   "cell_type": "markdown",
   "metadata": {
    "colab_type": "text",
    "id": "zwDwBSV6arwW"
   },
   "source": [
    "#8. Filtering a FeatureCollection\n",
    "\n",
    "Filtering a `FeatureCollection` is analogous to filtering an `ImageCollection`. (See the Filtering an ImageCollection section). There are the `featureCollection.filterDate()`, and `featureCollection.filterBounds()` convenience methods and the `featureCollection.filter()` method for use with any applicable `ee.Filter`. For example:\n"
   ]
  },
  {
   "cell_type": "code",
   "execution_count": null,
   "metadata": {
    "colab": {
     "base_uri": "https://localhost:8080/",
     "height": 53
    },
    "colab_type": "code",
    "id": "NzVPbs1mXt07",
    "outputId": "8e5958c9-58d0-4ddf-f6f2-9c395b1be23f"
   },
   "outputs": [],
   "source": [
    "# Load watersheds from a Fusion Table.\n",
    "sheds = ee.FeatureCollection('ft:1IXfrLpTHX4dtdj1LcNXjJADBB-d93rkdJ9acSEWK')\n",
    "\n",
    "# Define a region roughly covering the continental US.\n",
    "continentalUS = ee.Geometry.Rectangle(-127.18, 19.39, -62.75, 51.29)\n",
    "\n",
    "# Filter the table geographically: only watersheds in the continental US.\n",
    "filtered = sheds.filterBounds(continentalUS)\n",
    "\n",
    "# Check the number of watersheds after filtering for location.\n",
    "print('Count after filter:', filtered.size().getInfo())\n",
    "\n",
    "# Filter to get only larger continental US watersheds.\n",
    "largeSheds = filtered.filter(ee.Filter.gt('AreaSqKm', 25000))\n",
    "\n",
    "# Check the number of watersheds after filtering for size and location.\n",
    "print('Count after filtering by size:', largeSheds.size().getInfo())"
   ]
  },
  {
   "cell_type": "markdown",
   "metadata": {
    "colab_type": "text",
    "id": "FOL9ZWAmbVCa"
   },
   "source": [
    "# Mapping over a FeatureCollection\n",
    "\n",
    "To apply the same operation to every `Feature` in a `FeatureCollection`, use `featureCollection.map()`. For example, to add another area attribute to every feature in a watersheds `FeatureCollection`, use:\n",
    "\n"
   ]
  },
  {
   "cell_type": "code",
   "execution_count": null,
   "metadata": {
    "colab": {},
    "colab_type": "code",
    "id": "pFMeOjsvbjpd"
   },
   "outputs": [],
   "source": [
    "# Load watersheds from a Fusion Table.\n",
    "sheds = ee.FeatureCollection('ft:1IXfrLpTHX4dtdj1LcNXjJADBB-d93rkdJ9acSEWK')\n",
    "\n",
    "# This function computes the feature's geometry area and adds it as a property.\n",
    "def addArea(feature):\n",
    "  return feature.set({'areaHa': feature.geometry().area().divide(100 * 100)})\n",
    "\n",
    "# Map the area getting function over the FeatureCollection.\n",
    "areaAdded = sheds.map(addArea)\n",
    "\n",
    "# Print the first feature from the collection with the added property.\n",
    "print('First feature: \\n')\n",
    "pprint(areaAdded.first().getInfo())"
   ]
  },
  {
   "cell_type": "markdown",
   "metadata": {
    "colab_type": "text",
    "id": "CeXNnqAwgkMG"
   },
   "source": [
    "In the previous example, note that a new property is set based on a computation with the feature’s geometry. Properties can also be set using a computation involving existing properties.\n",
    "\n",
    "An entirely new `FeatureCollection` can be generated with `map()`. The following example converts the watersheds to centroids:"
   ]
  },
  {
   "cell_type": "code",
   "execution_count": null,
   "metadata": {
    "colab": {
     "base_uri": "https://localhost:8080/",
     "height": 682
    },
    "colab_type": "code",
    "id": "Wa9Cg4u9glHg",
    "outputId": "b5d9a879-5772-43bf-a360-2c47f45d5d81"
   },
   "outputs": [],
   "source": [
    "# This function creates a new feature from the centroid of the geometry.\n",
    "def getCentroid(feature):\n",
    "  # Keep this list of properties.\n",
    "  keepProperties = ['name', 'HUC6', 'TNMID', 'AreaSqKm']\n",
    "  # Get the centroid of the feature's geometry.\n",
    "  centroid = feature.geometry().centroid()\n",
    "  # Return a new Feature, copying properties from the old Feature.\n",
    "  return ee.Feature(centroid).copyProperties(feature, keepProperties)\n",
    "\n",
    "\n",
    "# Map the centroid getting function over the features.\n",
    "centroids = sheds.map(getCentroid)\n",
    "centroids_cn = centroids.geometry().centroid().getInfo()['coordinates']\n",
    "centroids_cn.reverse()\n",
    "\n",
    "# Display the results and print the first few.\n",
    "Mapdisplay(centroids_cn,{'centroids':centroids.getInfo()},zoom_start=4)"
   ]
  },
  {
   "cell_type": "code",
   "execution_count": null,
   "metadata": {
    "colab": {
     "base_uri": "https://localhost:8080/",
     "height": 989
    },
    "colab_type": "code",
    "id": "cO5a9ExRgoBU",
    "outputId": "05d9e989-47b6-49e9-a0f6-db525610f9ec"
   },
   "outputs": [],
   "source": [
    "print('Centroids: \\n')\n",
    "pprint(centroids.limit(5).getInfo())"
   ]
  },
  {
   "cell_type": "markdown",
   "metadata": {
    "colab_type": "text",
    "id": "zxxdUJvLgti9"
   },
   "source": [
    "Note that only a subset of properties is propagated to the features in the new collection.\n",
    "\n"
   ]
  },
  {
   "cell_type": "markdown",
   "metadata": {
    "colab_type": "text",
    "id": "p-ZJrAmFcLIJ"
   },
   "source": [
    "# Reducing a FeatureCollection\n",
    "\n",
    "To aggregate data in the properties of a `FeatureCollection`, use `featureCollection.reduceColumns()`. For example, to check the area properties in the watersheds `FeatureCollection`, this code computes the Root Mean Square Error (RMSE) relative to the Earth Engine computed area:\n",
    "\n"
   ]
  },
  {
   "cell_type": "code",
   "execution_count": null,
   "metadata": {
    "colab": {
     "base_uri": "https://localhost:8080/",
     "height": 35
    },
    "colab_type": "code",
    "id": "ThY2Zx8FeF_1",
    "outputId": "04868808-fe4e-418d-d026-a6b8ac6aaefb"
   },
   "outputs": [],
   "source": [
    "# Load watersheds from a Fusion Table and filter to the continental US.\n",
    "sheds = ee.FeatureCollection('ft:1IXfrLpTHX4dtdj1LcNXjJADBB-d93rkdJ9acSEWK')\\\n",
    "          .filterBounds(ee.Geometry.Rectangle(-127.18, 19.39, -62.75, 51.29))\n",
    "\n",
    "# This function computes the squared difference between an area property\n",
    "# and area computed directly from the feature's geometry.\n",
    "def areaDiff(feature):\n",
    "  # Compute area in sq. km. directly from the geometry.\n",
    "  area = feature.geometry().area().divide(1000 * 1000)\n",
    "  # Compute the differece between computed area and the area property.\n",
    "  diff = area.subtract(feature.get('AreaSqKm'))\n",
    "  # Return the feature with the squared difference set to the 'diff' property.\n",
    "  return feature.set('diff', diff.pow(2))\n",
    "\n",
    "\n",
    "# Map the difference function over the collection.\n",
    "rmse = ee.Number(sheds.map(areaDiff)\\\n",
    "                      .reduceColumns(ee.Reducer.mean(), ['diff'])\\\n",
    "                      .get('mean'))\\\n",
    "         .sqrt()\n",
    "# Print the result.\n",
    "print('RMSE=', rmse.getInfo())"
   ]
  },
  {
   "cell_type": "markdown",
   "metadata": {
    "colab_type": "text",
    "id": "EQTF1mSYe2ko"
   },
   "source": [
    "In this example, note that the return value of reduceColumns() is a dictionary with key ‘mean’. To get the mean, cast the result of dictionary.get() to a number with ee.Number() before trying to call sqrt() on it. For more information about ancillary data structures in Earth Engine, see the [introduction of eeCourse]().\n",
    "\n",
    "To overlay features on imagery, use featureCollection.reduceRegions(). For example, to compute the volume of precipitation in continental US watersheds, use reduceRegions() followed by a map():"
   ]
  },
  {
   "cell_type": "code",
   "execution_count": null,
   "metadata": {
    "colab": {},
    "colab_type": "code",
    "id": "G9on3LLahGKi"
   },
   "outputs": [],
   "source": [
    "# Load an image of daily precipitation in mm/day.\n",
    "precip = ee.Image(ee.ImageCollection('NASA/ORNL/DAYMET_V3').first())\n",
    "\n",
    "# Load watersheds from a Fusion Table and filter to the continental US.\n",
    "sheds = ee.FeatureCollection('ft:1IXfrLpTHX4dtdj1LcNXjJADBB-d93rkdJ9acSEWK')\\\n",
    "          .filterBounds(ee.Geometry.Rectangle(-127.18, 19.39, -62.75, 51.29))\n",
    "\n",
    "# Add the mean of each image as new properties of each feature.\n",
    "withPrecip = precip.reduceRegions(sheds, ee.Reducer.mean())\n",
    "\n",
    "# This function computes total rainfall in cubic meters.\n",
    "def prcpVolume(feature):\n",
    "  # Precipitation in mm/day -> meters -> sq. meters.\n",
    "  volume = ee.Number(feature.get('prcp'))\\\n",
    "             .divide(1000)\\\n",
    "             .multiply(feature.geometry().area())\n",
    "  return feature.set('volume', volume)\n",
    "\n",
    "# 1. Map the function over the collection.\n",
    "# 2. Sort descending.\n",
    "# 3. Get only the 5 highest volume watersheds.\n",
    "highVolume = withPrecip.map(prcpVolume)\\\n",
    "                       .sort('volume', False)\\\n",
    "                       .limit(5)\n",
    "\n",
    "# Print the resulting FeatureCollection\n",
    "pprint(highVolume.getInfo())  "
   ]
  },
  {
   "cell_type": "markdown",
   "metadata": {
    "colab_type": "text",
    "id": "_S-JQotxiCas"
   },
   "source": [
    "For more information about reducing feature collections, see[ Statistics of FeatureCollection Columns]() and [Vector to Raster Conversion]()."
   ]
  },
  {
   "cell_type": "markdown",
   "metadata": {},
   "source": [
    "## Clipping a raster by a vector in Google Earth Engine\n",
    "Clipping rasters to the extents you need is one of the most common operations in GIS, which means you can also do it in GEE. For this we will use the GeoJSON file we just read in and a [DEM](https://developers.google.com/earth-engine/datasets/catalog/CGIAR_SRTM90_V4). "
   ]
  },
  {
   "cell_type": "code",
   "execution_count": null,
   "metadata": {},
   "outputs": [],
   "source": [
    "dem = ee.Image(\"CGIAR/SRTM90_V4\") \n",
    "dem_clipped = dem.clip(area_of_interest)\n",
    "Map = geemap.Map()\n",
    "Map.addLayer(dem_clipped,{},\"Area of Interest\")\n",
    "Map.center_object(dem_clipped)\n",
    "Map"
   ]
  },
  {
   "cell_type": "markdown",
   "metadata": {},
   "source": [
    "## Exercise 1: Getting feature collections \n",
    "When we use GEE we need to import the data that Google is already providing. To find the right dataset we use the [GEE Data Catalog](https://developers.google.com/earth-engine/datasets/catalog). For example, let's get the [global adminstrative units](https://developers.google.com/earth-engine/datasets/catalog/FAO_GAUL_2015_level0), so we can display the borders of states. The good thing is that this page already contains the right code snippet for  us to import this feature collection: "
   ]
  },
  {
   "cell_type": "code",
   "execution_count": null,
   "metadata": {},
   "outputs": [],
   "source": [
    "ee.FeatureCollection(\"FAO/GAUL/2015/level0\")"
   ]
  },
  {
   "cell_type": "markdown",
   "metadata": {},
   "source": [
    "Select [Table Schema](https://developers.google.com/earth-engine/datasets/catalog/FAO_GAUL_2015_level0#table-schema) on this site to see the different attributes of this dataset and how to access them. So, for example we can get all the country names from this by simply writing:"
   ]
  },
  {
   "cell_type": "code",
   "execution_count": null,
   "metadata": {},
   "outputs": [],
   "source": [
    "# We get the feature collection of Administrative boundaries (level0)\n",
    "countries = ee.FeatureCollection('FAO/GAUL/2015/level0').select('ADM0_NAME')"
   ]
  },
  {
   "cell_type": "markdown",
   "metadata": {},
   "source": [
    "And we can also filter it to get a subset. "
   ]
  },
  {
   "cell_type": "code",
   "execution_count": null,
   "metadata": {},
   "outputs": [],
   "source": [
    "# We filter the featureCollection to get the feature we want\n",
    "# the .eq method stands for equal. So this looks for the name Germany in the attribute ADM0_Name\n",
    "germany = countries.filter(ee.Filter.eq('ADM0_NAME', 'Germany'))"
   ]
  },
  {
   "cell_type": "markdown",
   "metadata": {},
   "source": [
    "And finally we can use geemap to show us the country we selected as a highlight on the map. "
   ]
  },
  {
   "cell_type": "code",
   "execution_count": null,
   "metadata": {},
   "outputs": [],
   "source": [
    "# Create a map\n",
    "Map = geemap.Map(zoom=3)\n",
    "# Add the Germany feature \n",
    "Map.addLayer(germany,{},'Countries')\n",
    "# Show it\n",
    "Map"
   ]
  },
  {
   "cell_type": "markdown",
   "metadata": {},
   "source": [
    "Repeat this exercise with the state of the country you were born in (hint: you have to select another feature collection."
   ]
  },
  {
   "cell_type": "markdown",
   "metadata": {},
   "source": [
    "## Exercise 2: Getting info from a feature collection\n",
    "As we saw in the exercise before, feature collections contain information about their polygons like their name. We used this to select states by name. We can also ask GEE to give us all the information in a feature collection, so we can use it to select the wnats we are interest in. For this we can use the .getInfo() method. \n"
   ]
  },
  {
   "cell_type": "code",
   "execution_count": null,
   "metadata": {},
   "outputs": [],
   "source": [
    "# We get the feature collection of Administrative boundaries (level0) and ask for all values in the ADM0_Name attribute\n",
    "countries = ee.FeatureCollection('FAO/GAUL/2015/level0').aggregate_array(\"ADM0_NAME\").getInfo()"
   ]
  },
  {
   "cell_type": "markdown",
   "metadata": {},
   "source": [
    "Repeat this for all the states in your home country. "
   ]
  },
  {
   "cell_type": "markdown",
   "metadata": {},
   "source": [
    "## Exercise 3: Filter based on a numerical attribute\n",
    "For this we will use the dataset of the [RESOLVE ecoregions](https://developers.google.com/earth-engine/datasets/catalog/RESOLVE_ECOREGIONS_2017#table-schema). This is a global mapping of ecosystem regions. We can select it with:"
   ]
  },
  {
   "cell_type": "code",
   "execution_count": null,
   "metadata": {},
   "outputs": [],
   "source": [
    "# Get the ecoregion data \n",
    "ecoregions = ee.FeatureCollection(\"RESOLVE/ECOREGIONS/2017\")"
   ]
  },
  {
   "cell_type": "markdown",
   "metadata": {},
   "source": [
    "Now only select the mangroves worldwide and display them:"
   ]
  },
  {
   "cell_type": "code",
   "execution_count": null,
   "metadata": {},
   "outputs": [],
   "source": [
    "# Only select mangroves\n",
    "mangroves = ecoregions.filter(ee.Filter.eq('BIOME_NAME', 'Mangroves'))\n",
    "# Show them \n",
    "Map = geemap.Map()\n",
    "Map.addLayer(mangroves,{},\"Mangroves Worldwide\")\n",
    "Map"
   ]
  },
  {
   "cell_type": "markdown",
   "metadata": {},
   "source": [
    "Next we only want to select all mangroves that are larger than 3 square degrees:"
   ]
  },
  {
   "cell_type": "code",
   "execution_count": null,
   "metadata": {},
   "outputs": [],
   "source": [
    "# Only select those mangroves with a total area greater than (gt) than 3 square degrees\n",
    "largest_mangroves = mangroves.filter(ee.Filter.gt(\"SHAPE_AREA\", 3.3))\n",
    "# Show them \n",
    "Map = geemap.Map()\n",
    "Map.addLayer(largest_mangroves,{},\"Largest Mangroves Worldwide\")\n",
    "Map.center_object(largest_mangroves)\n",
    "Map"
   ]
  },
  {
   "cell_type": "markdown",
   "metadata": {},
   "source": [
    "Repeat this exercise and find the smallest \"Temperate Conifer Forests\" in the world. Where is it located?"
   ]
  },
  {
   "cell_type": "markdown",
   "metadata": {},
   "source": [
    "## Exercise 4: Grouping feature collections by attribute\n",
    "Grouping is a powerful technique. It basically allows you to sort your data by a specific attribute. For example, you could group your data by country and subsequently calculate all your other attributes on a by country basis. This allows you to get a quick overview over your data. \n",
    "\n",
    "To do this properly we first want to exclude all shapes with missing values, as they skew our selection. "
   ]
  },
  {
   "cell_type": "code",
   "execution_count": null,
   "metadata": {},
   "outputs": [],
   "source": [
    "# Get the ecoregion data \n",
    "ecoregions = ee.FeatureCollection(\"RESOLVE/ECOREGIONS/2017\")\n",
    "# Remove non values for numerical attributes \n",
    "# the .And allows to select several attributes at once\n",
    "# .neq stands for not equal\n",
    "data_without_none = ecoregions.filter(ee.Filter.And(ee.Filter.neq(\"SHAPE_AREA\", None),\n",
    "                                                   ee.Filter.neq(\"SHAPE_LENGTH\",None)))"
   ]
  },
  {
   "cell_type": "markdown",
   "metadata": {},
   "source": [
    "Next we group by the ecoregion and calculate the mean of the shape area, to see which ecoregion is the largest one on earth. This looks complicated, but the idea is actually pretty simple. "
   ]
  },
  {
   "cell_type": "code",
   "execution_count": null,
   "metadata": {},
   "outputs": [],
   "source": [
    "grouped_regions = data_without_none.reduceColumns(**{\n",
    "    # Define the columns we want to work with\n",
    "    \"selectors\": [\"SHAPE_AREA\", \"BIOME_NAME\"],\n",
    "    # Define what we want to calculate, e.g. min, max, mean\n",
    "    # .repeat tells GEE how many of the attributes should be used for calculation (starting with the first one)\n",
    "    # .group defines that we want to group the results by something\n",
    "    \"reducer\": ee.Reducer.mean().repeat(1).group(**{\n",
    "        # the group field refers to the line with \"selectors\" and starts counting at 0\n",
    "        # the field we select will be used for grouping, so \"BIOME_NAME\" in this case\n",
    "        \"groupField\":1,\n",
    "        # groupName is simply a lable we want to use for the groups\n",
    "        \"groupName\":\"Ecoregion\"\n",
    "    })\n",
    "})\n",
    "grouped_regions.getInfo()"
   ]
  },
  {
   "cell_type": "markdown",
   "metadata": {},
   "source": [
    "Repeat this exercise by selecting a new feature collection from the [data calalog](https://developers.google.com/earth-engine/datasets/catalog) and collect the max value for a meaningful grouped attribute."
   ]
  }
 ],
 "metadata": {
  "colab": {
   "collapsed_sections": [],
   "name": "3_feature.ipynb",
   "provenance": [],
   "toc_visible": true,
   "version": "0.3.2"
  },
  "kernelspec": {
   "display_name": "Python 3 (ipykernel)",
   "language": "python",
   "name": "python3"
  },
  "language_info": {
   "codemirror_mode": {
    "name": "ipython",
    "version": 3
   },
   "file_extension": ".py",
   "mimetype": "text/x-python",
   "name": "python",
   "nbconvert_exporter": "python",
   "pygments_lexer": "ipython3",
   "version": "3.9.7"
  }
 },
 "nbformat": 4,
 "nbformat_minor": 1
}
