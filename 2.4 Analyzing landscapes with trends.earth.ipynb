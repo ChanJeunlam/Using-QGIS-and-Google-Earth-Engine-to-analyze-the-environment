{
 "cells": [
  {
   "cell_type": "markdown",
   "id": "fe47d20f",
   "metadata": {},
   "source": [
    "# Analyzing land degradation with trends.earth\n",
    "GIS can be used to analyze the success and failures of different social development goals. [One of those goals is to make sure that the fraction of degraded land does not increase over time](https://youtu.be/y7uDAA_3VHk). Degraded land is defined by its carbon stocks and its productivity. This notebook here will take a look on how to study land degradation using the trend.earth plugin.  "
   ]
  },
  {
   "cell_type": "markdown",
   "id": "d7bc3d1b",
   "metadata": {},
   "source": [
    "## Installing the trends.earth plugin for QGIS\n",
    "The goal of this course is to study land cover changes and understand them. One good tool for this is the [trends.earth\" toolbox](https://youtu.be/l_QY83p_yUI). This is basically a collection of nice algorithms to make working with land use data easier in QGIS. In addition, it runs its analysis directly in GEE. \n",
    "\n",
    "As it is a plugin, we first [have to install it](https://youtu.be/uSTvNMpZF4I). You [need a (free) user account](https://youtu.be/qm5LFF-jhaM) for the toolbox (feel free to enter fake data). \n",
    "\n",
    "You can find additional information about trends.earth [in its documentation](https://trends.earth/docs/en/). "
   ]
  },
  {
   "attachments": {},
   "cell_type": "markdown",
   "id": "66a2efd6",
   "metadata": {},
   "source": [
    "## Exercise 1: Downloading data with trends.earth\n",
    "To calculate anything we need data. The good thing is that the trend.earth plugin allows us to download data directly. Simply select *Download Raw Data* option. This should open a window, which looks like this:\n",
    "\n",
    "![data](Assets/Notebook_2_4_2.png)\n",
    "\n",
    "The data we will need are the three subindicators of the land degradation. Namely:\n",
    "\n",
    "* Soil organic carbon\n",
    "* Land productivity\n",
    "* Land cover\n",
    "\n",
    "First select soil organic carbon and click next. The next windows allows you to select the area you would like to have data from. Select here state of the country you were born in and click next. Give your selection an appropriate name and click *submit download request*. This will send a request to GEE and download the data you specified. \n",
    "\n",
    "Repeat those steps for land productivity and cover. \n",
    "\n",
    "To access your requested data click the *View Google Earth Engine Tasks*\n",
    "\n",
    "![data](Assets/Notebook_2_4_3.png)\n",
    "\n",
    "This opens a table that allows you do download the data you asked for. \n",
    "\n",
    "Take a screenshot of the downloaded data in QGIS and submit it. \n",
    "\n",
    "\n"
   ]
  },
  {
   "cell_type": "markdown",
   "id": "11aff0a9",
   "metadata": {},
   "source": [
    "## Exercise 2: Computation of the land degradation subindicators\n",
    "The land degradation indicator computation consists of several steps, as shown in this figure ([taken from this report](https://www.unccd.int/sites/default/files/relevant-links/2021-03/Indicator_15.3.1_GPG_v2_29Mar_Advanced-version.pdf)):\n",
    "\n",
    "![degradation](Assets/Notebook_2_4_1.png)\n",
    "\n",
    "If you get lost along the way, make sure to take a look at [the documentation of trends.earth](https://trends.earth/docs/en/background/understanding_indicators15.html). \n",
    "\n",
    "### Doing the calculation\n",
    "trends.earth also allows you to directly calculate indicators like land degradation. Click the *calculate indicators* button and select land degradation indicator. \n",
    "\n",
    "![calc](Assets/Notebook_2_4_4.png)\n",
    "\n",
    "In the next step we will use *Option 1: Use default UNCDD data*. You can also input your own data here, if you have something available that is more finely grained than the default data. But for our case the default is enough. \n",
    "\n",
    "The next windows will ask more information from you in four headers:\n",
    "\n",
    "* Setup: Here you can decide on the time period and the land productivity dataset. We will look at the time period from 2001 to 2015 and use the UNCCD default dataset. \n",
    "\n",
    "* Land Cover Setup: Will also stay on default here. However, you can change the mapping of the land cover classes from your regions. So, if you are in an area with special vegetation, you can make sure here that it is labelled correctly. \n",
    "\n",
    "* Define Effects of Land Cover Change: This is a matrix that shows how we evaluate changes in land cover. This can also stay on the default, as we want to calculate the standart indicator. \n",
    "\n",
    "* Area: Select the state of the country you were born in. \n",
    "\n",
    "* Options: Give the task a fitting name\n",
    "\n",
    "Finally, click *Calculate*. This sends your request to Google Earth Engine. The calculations might take some time. Once it is finished, you can download it the same way as the data in exercise 1. This will provide you with five maps, each containing a subindicator of the land degradation indicator.\n",
    "\n",
    "Take a screenshot of your QGIS with all the maps in it and submit it. "
   ]
  },
  {
   "cell_type": "markdown",
   "id": "a88a8455",
   "metadata": {},
   "source": [
    "## Exercise 3: Computation of the land degradation indicator\n",
    "\n",
    "After we now know how to get data and calculate all the neccesary subindicators of land degradation, we will now calculate land degradation itself. Again we are using trends.earth. \n",
    "\n",
    "![calc](Assets/Notebook_2_4_4.png)\n",
    "\n",
    "Click *Calculate final SDG 15.3.1 spatial layer and summary for total boundary*\n",
    "\n",
    "Again we can use already existing data or ask GEE to compute it for us. Under the input header change the land productivity to UNCCD and leave the rest as it is.\n",
    "\n",
    "Under the output header select where you want to have the summary statistics. In Area you again select the state of your home country and give it a descriptive name. Finally, click *Calculate*, wait and download the data as before. Your end result should look something like this:\n",
    "\n",
    "![calc](Assets/Notebook_2_4_5.png)\n",
    "\n",
    "\n",
    "Export your result as an image and write ~ 500 words were you describe the patterns you can see here. Is the land in your state degrading or improving? Are there certain areas where more land gets degraded? If so, why? Don't forget to also check out the table with the summary statistics. "
   ]
  }
 ],
 "metadata": {
  "kernelspec": {
   "display_name": "Python 3 (ipykernel)",
   "language": "python",
   "name": "python3"
  },
  "language_info": {
   "codemirror_mode": {
    "name": "ipython",
    "version": 3
   },
   "file_extension": ".py",
   "mimetype": "text/x-python",
   "name": "python",
   "nbconvert_exporter": "python",
   "pygments_lexer": "ipython3",
   "version": "3.9.7"
  }
 },
 "nbformat": 4,
 "nbformat_minor": 5
}
