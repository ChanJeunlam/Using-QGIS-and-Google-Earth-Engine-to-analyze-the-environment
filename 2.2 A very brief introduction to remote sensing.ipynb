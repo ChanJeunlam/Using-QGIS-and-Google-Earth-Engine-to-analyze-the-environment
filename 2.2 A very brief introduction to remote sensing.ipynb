{
 "cells": [
  {
   "cell_type": "markdown",
   "id": "4b490a69",
   "metadata": {},
   "source": [
    "# A very brief introduction to remote sensing\n",
    "To be able to really use GEE, we will have to use remote sensing data. But, [what is remote sensing?](https://youtu.be/Hgf3k981Cvw)"
   ]
  },
  {
   "cell_type": "markdown",
   "id": "079e78b0",
   "metadata": {},
   "source": [
    "## The basics of remote sensing\n",
    "The basis for remote sensing is using the electromagnetic spectrum to get spatial information. Much of this is done in the visible spectrum. However, we can also do remote sensing in other parts of the electromagnetic spectrum like infrared. This works, because different parts of the electromagnetic spectrum interact differently with the surfaces they hit. For example, visible light passes through windows easily, UV-light is partly blocked. We can use those effects to get different kinds of information from remote sensing.  \n",
    "\n"
   ]
  },
  {
   "attachments": {},
   "cell_type": "markdown",
   "id": "6855a2bb",
   "metadata": {},
   "source": [
    "## How do we get remote sensing data?\n",
    "Remote sensing is mostly done with satellites in different orbits. Those satelites contain sensor, which allow them to detect certain wavelengths. The sensor detects how much of a given wavelength is reflected back to it from Earth. This information is usually shown as a raster, where the values represent how much of this wavelength was reflected back. \n",
    "\n",
    "![Grayscale](https://www.researchgate.net/profile/Justin-Morgenroth/publication/319903319/figure/fig1/AS:540246643560448@1505816245410/An-example-of-a-remote-sensing-image-showing-pixels-and-digital-numbers-the-arrow-shows_W640.jpg)\n",
    "\n",
    "Each range of wavelengths that is detected with a specific sensor is called *band*. For example, your satellite might make a picture in a red band, a blue band and a green band, which you can combine to get a fuller picture.  \n",
    "\n",
    "![Multiband](https://semiautomaticclassificationmanual.readthedocs.io/pl/latest/_images/multispectral_classification.jpg)\n",
    "\n"
   ]
  },
  {
   "cell_type": "markdown",
   "id": "5aef69de",
   "metadata": {},
   "source": [
    "## Using multispectral information\n",
    "While we have many useful applications for single wavelengths, there are many cases where you want to combine the information of several ranges of wavelengths to really get the full picture. This is using multispectral information, for example using infrared in combination with visible light. \n",
    "\n",
    "When we visualize the bands we can also make visible things that aren't in the range of human eyes. The satelite detects infrared light, this gives us an infrared value for each pixel. We can then visualize this value by assigning it to a color the human eye can detect, like e.g. \"normal\" red. This results in images like this:\n",
    "\n",
    "![False Color](https://www.photonics.com/images/Web/Articles/2020/5/21/Feat_RemoteSensing_OPENER_Fig_5.jpg)\n",
    "\n",
    "Those are called false color images, as they depict a wavelength we cannot usually see. This allows us to detect specific differences. For example, infrared is really good at showing the difference between vegetated and non-vegetated areas, as plants reflect most of the infrared light. \n"
   ]
  },
  {
   "cell_type": "markdown",
   "id": "24cbf6b0",
   "metadata": {},
   "source": [
    "## Resolution types\n",
    "As remote sensing is usually done with satellites, the resolution of the images depends of the properties of the satellite. This means our data can differ in three main aspects:\n",
    "\n",
    "* Spatial resolution: how much land does each pixel cover? This can range from meters to kilometers, depending on the satellite.\n",
    "\n",
    "![Resolution](https://gisgeography.com/wp-content/uploads/2015/10/Spatial-Resolution-Comparison.png)\n",
    "\n",
    "* Temporal resolution: how often does the satellite take a new measurement for a specific place?\n",
    "* Spectral resolution: how many bands does the satellite have and what position in the electromagnetic spectrum do they occupy?\n",
    "* Radiometric resolution: how many different values can your sensor detect? This usually ranges from 1 bit (either detects a signal or not) to 8 bit (256 distinct values).\n",
    "\n",
    "![Radiometric](https://www.researchgate.net/publication/346614509/figure/fig1/AS:964861295083522@1607052267803/From-left-to-right-8-bit-2-bit-and-1-bit-radiometric-resolutions-are-shown-Adopted_W640.jpg)"
   ]
  }
 ],
 "metadata": {
  "kernelspec": {
   "display_name": "Python 3 (ipykernel)",
   "language": "python",
   "name": "python3"
  },
  "language_info": {
   "codemirror_mode": {
    "name": "ipython",
    "version": 3
   },
   "file_extension": ".py",
   "mimetype": "text/x-python",
   "name": "python",
   "nbconvert_exporter": "python",
   "pygments_lexer": "ipython3",
   "version": "3.9.7"
  }
 },
 "nbformat": 4,
 "nbformat_minor": 5
}
