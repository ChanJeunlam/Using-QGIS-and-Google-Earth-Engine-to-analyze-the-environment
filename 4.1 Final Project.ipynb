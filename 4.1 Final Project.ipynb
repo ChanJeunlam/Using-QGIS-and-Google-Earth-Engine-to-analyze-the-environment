{
 "cells": [
  {
   "cell_type": "markdown",
   "id": "c04e7c12",
   "metadata": {},
   "source": [
    "# Final Project\n",
    "\n",
    "## Overview\n",
    "This part of the course will be your own little research project. You will use your knowledge about sustainable development goals in combination with your spatial analysis skills to come up with a research question and work on it. You can freely chose if you want to use Google Earth Engine and/or QGIS (with trends.earth) for this. If you are using Google Earth Engine it is okay to reuse code you found, as long as you can explain what it does. Obviously this has limits, if your whole project is based on reused code, you'll fail this exam. Several parts of the project consist of you writing explanations of your work. Make sure you cite relevant sources there. To find matching literature, you can use [Elicit](https://elicit.org/) and/or [Connected Papers](https://www.connectedpapers.com/). When you try to find a research question for your project, not only think about what is most important, but also what is in the scope of you skills. While you will get most points for your planning, you still have to deliver an answer to your question at the end. To get an idea of the scope your project should have, take a look at [this](https://developers.google.com/earth-engine/tutorials/community/forest-cover-loss-estimation) and [this](https://developers.google.com/earth-engine/tutorials/community/ph-ug-temp) example. You can book a call with the supervisor at any step of this project.\n",
    "\n",
    "## Steps\n",
    "### Select a sustainable development goal to work on\n",
    "Many challenges humanity currently faces are worked on in form of the sustainable development goals (SDGs). Depending on the country different SDGs are more or less important. Select a SDG for the country you are currently staying or the one where you were born. Describe in up to 300 words why you think this SDG is especially important for this country. In case you need a little reminder about the SDGs take a look [here](https://youtu.be/qAIolKgDPrA). \n",
    "\n",
    "### Come up with a research question related to that SDG\n",
    "After you have settled on a SDG, your next goal will be to come up with a research question related to that SDG. If you are unsure here you can talk about your question with the supervisor of the course. However, please make sure that you have thought about this thoroughly and have come up with some ideas before you schedule a call. Once you have a question write up to 300 words were you explain why this question is especially important. This should also refer to the [datasets](https://developers.google.com/earth-engine/datasets/catalog) you have chosen (remember that you can also access the Google Earth Engine datasets via trends.earth).\n",
    "\n",
    "### Plan your analyis\n",
    "Before you start the analysis you have to plan what you want to do. As we work in QGIS or Google Earth Engine we can use [pseudocode](https://youtu.be/3WSrPxINIt8) to plan our ideas. Write down a pseudocode of your analysis before you start the actual coding/QGIS work. You do not have to follow any specific syntax, just make sure it becomes apparent what you want to do:\n",
    "\n",
    "\n",
    "\n"
   ]
  },
  {
   "cell_type": "code",
   "execution_count": null,
   "id": "cabfac11",
   "metadata": {},
   "outputs": [],
   "source": [
    "# This is the first thing I will do in my analysis\n",
    "# The next step has to be this, as it will do that"
   ]
  },
  {
   "cell_type": "markdown",
   "id": "211150df",
   "metadata": {},
   "source": [
    "### Implement your idea\n",
    "Use your pseudocode to do the analysis in either QGIS or Google Earth Engine/Colab. If you use colab, please also submit your Jupyter Notebook. \n",
    "\n",
    "## Grading\n",
    "Your grade will be based on:\n",
    "* your explanations for the SDG you have chosen\n",
    "* your explanation of your research question\n",
    "* the pseudocode of your analysis\n",
    "* your figure to answer your research question\n",
    "* your explanation of your figure"
   ]
  }
 ],
 "metadata": {
  "kernelspec": {
   "display_name": "Python 3 (ipykernel)",
   "language": "python",
   "name": "python3"
  },
  "language_info": {
   "codemirror_mode": {
    "name": "ipython",
    "version": 3
   },
   "file_extension": ".py",
   "mimetype": "text/x-python",
   "name": "python",
   "nbconvert_exporter": "python",
   "pygments_lexer": "ipython3",
   "version": "3.9.7"
  }
 },
 "nbformat": 4,
 "nbformat_minor": 5
}
