{
 "cells": [
  {
   "cell_type": "markdown",
   "id": "9c85adc9",
   "metadata": {},
   "source": [
    "# Working with image collections in Google Earth Engine\n",
    "The most common data type in GEE are image collections. This is usually images taken by satellites and the images represent the different bands the satellite is taking the images is. As an example we'll use [MODIS land surface temperature (LST) ](https://developers.google.com/earth-engine/datasets/catalog/MODIS_006_MOD11A1), a land cover dataset. First we have to load it in. "
   ]
  },
  {
   "cell_type": "code",
   "execution_count": null,
   "id": "eb57fe61",
   "metadata": {},
   "outputs": [],
   "source": [
    "# Import the MODIS land surface temperature collection.\n",
    "lst = ee.ImageCollection('MODIS/006/MOD11A1')"
   ]
  },
  {
   "cell_type": "markdown",
   "id": "6d44921b",
   "metadata": {},
   "source": [
    "To understand what kinds of images are part of this collection we can simply look at [the decsription in the data catalog](https://developers.google.com/earth-engine/datasets/catalog/MODIS_006_MOD11A1#bands). The different bands represent the different images of this image collection. We can simply select them by their name. For example, we would like to get the daytime land surface temperature."
   ]
  },
  {
   "cell_type": "code",
   "execution_count": null,
   "id": "cff61666",
   "metadata": {},
   "outputs": [],
   "source": [
    "lst = lst.select('LST_Day_1km')"
   ]
  },
  {
   "cell_type": "markdown",
   "id": "dc01f799",
   "metadata": {},
   "source": [
    "This now contains all surface land temperature images for the whole time period. The time period available can also be seen in [the decsription in the data catalog](https://developers.google.com/earth-engine/datasets/catalog/MODIS_006_MOD11A1). In the case of this dataset it is 2000-02-24T00:00:00Z - 2022-03-25T00:00:00 (might be different when you open the dataset). This means we can select for any date (or date range) between those dates. "
   ]
  },
  {
   "cell_type": "code",
   "execution_count": null,
   "id": "774feb77",
   "metadata": {},
   "outputs": [],
   "source": [
    "# Initial date of interest (inclusive).\n",
    "i_date = '2017-01-01'\n",
    "\n",
    "# Final date of interest (exclusive).\n",
    "f_date = '2020-01-01'\n",
    "\n",
    "# Select only the dates we want\n",
    "lst = lst.filterDate(i_date, f_date)"
   ]
  },
  {
   "cell_type": "markdown",
   "id": "83cd756b",
   "metadata": {},
   "source": [
    "## Sampling from an image\n",
    "We can ask GEE to sample an image from a specific location to get the value from there. First we have to define the point we are interested in:"
   ]
  },
  {
   "cell_type": "code",
   "execution_count": null,
   "id": "400a7fe3",
   "metadata": {},
   "outputs": [],
   "source": [
    "# Define the urban location of interest as a point near Lyon, France.\n",
    "u_lon = 4.8148\n",
    "u_lat = 45.7758\n",
    "u_poi = ee.Geometry.Point(u_lon, u_lat)"
   ]
  }
 ],
 "metadata": {
  "kernelspec": {
   "display_name": "Python 3 (ipykernel)",
   "language": "python",
   "name": "python3"
  },
  "language_info": {
   "codemirror_mode": {
    "name": "ipython",
    "version": 3
   },
   "file_extension": ".py",
   "mimetype": "text/x-python",
   "name": "python",
   "nbconvert_exporter": "python",
   "pygments_lexer": "ipython3",
   "version": "3.9.7"
  }
 },
 "nbformat": 4,
 "nbformat_minor": 5
}
