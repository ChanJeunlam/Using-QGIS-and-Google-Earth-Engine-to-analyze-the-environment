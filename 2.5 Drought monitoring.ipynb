{
 "cells": [
  {
   "cell_type": "markdown",
   "id": "7a93567c",
   "metadata": {},
   "source": [
    "# 2.5 Drought monitoring\n",
    "Satellites provide us with all kinds of electromagnetic data. One example is [MODIS](https://en.wikipedia.org/wiki/Moderate_Resolution_Imaging_Spectroradiometer) (Moderate-resolution Imaging Spectroradiometer), which allows us to detect droughts. Detecting droughts is an important task, as it allows to determine which regions need help to avoid agricultural failures. \n",
    "\n"
   ]
  },
  {
   "cell_type": "markdown",
   "id": "0efa8d48",
   "metadata": {},
   "source": [
    "## Kinds of droughts\n",
    "In everday use droughts are understood as a region having less water available than usual. However, when we look at droughts more scientifically [we can group them](https://youtu.be/oXG5SaZCVNU):\n",
    "\n",
    "* Meteorological drought: less precipitation than usual\n",
    "* Hydrological drought: low water supply becomes evident in the water sytem\n",
    "* Agricultural drought: low water supply affects agriculture\n",
    "* Socioeconomic drought: low water supply affects economy\n",
    "\n",
    "There are a variety of ways to detect if those different kinds of droughts are happening. In our case we will focus on how drought affects vegetation. To assess the strength of the drought we use the normalized difference vegetation index (NDVI). We'll focus on California and you can find the data [here](https://github.com/florianjehn/Using-QGIS-to-understand-land-use-change/tree/main/Exercise%20Materials/Materials%20for%202.5/Data_NDVI)."
   ]
  },
  {
   "cell_type": "markdown",
   "id": "5059166f",
   "metadata": {},
   "source": [
    "## Exercise 1: Assessing drought by using NDVI\n",
    "Load all files from the NDVI folder into QGIS. This is NDVI data from MODIS for 2001 till 2010 and 2015. It is MODIS raw data, which means that we have to rescale them from -1 to 1 to make them easier comparable to each other. To do this [we use](https://youtu.be/mCyNRf_olkw) the [*raster calculator*](https://docs.qgis.org/2.8/en/docs/user_manual/working_with_raster/raster_calculator.html) and multiply each raster by 0.0001. \n",
    "\n",
    "![raster calc](Assets/Notebook_2_5_1.png)"
   ]
  },
  {
   "cell_type": "markdown",
   "id": "08ff2694",
   "metadata": {},
   "source": [
    "## Exercise 2: Your own drought assessment. \n",
    "Use trends.earth to download NDVI data (MODIS) of the state of the country you were born in. Compare 2001-2020?"
   ]
  }
 ],
 "metadata": {
  "kernelspec": {
   "display_name": "Python 3 (ipykernel)",
   "language": "python",
   "name": "python3"
  },
  "language_info": {
   "codemirror_mode": {
    "name": "ipython",
    "version": 3
   },
   "file_extension": ".py",
   "mimetype": "text/x-python",
   "name": "python",
   "nbconvert_exporter": "python",
   "pygments_lexer": "ipython3",
   "version": "3.9.7"
  }
 },
 "nbformat": 4,
 "nbformat_minor": 5
}
