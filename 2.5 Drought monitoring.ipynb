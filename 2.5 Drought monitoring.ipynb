{
 "cells": [
  {
   "cell_type": "markdown",
   "id": "7a93567c",
   "metadata": {},
   "source": [
    "# 2.5 Drought monitoring\n",
    "Satellites provide us with all kinds of electromagnetic data. One example is [MODIS](https://en.wikipedia.org/wiki/Moderate_Resolution_Imaging_Spectroradiometer) (Moderate-resolution Imaging Spectroradiometer), which allows us to detect droughts. Detecting droughts is an important task, as it allows to determine which regions need help to avoid agricultural failures. \n",
    "\n"
   ]
  },
  {
   "cell_type": "markdown",
   "id": "0efa8d48",
   "metadata": {},
   "source": [
    "## Kinds of droughts\n",
    "In everday use droughts are understood as a region having less water available than usual. However, when we look at droughts more scientifically [we can group them](https://youtu.be/oXG5SaZCVNU):\n",
    "\n",
    "* Meteorological drought: less precipitation than usual\n",
    "* Hydrological drought: low water supply becomes evident in the water sytem\n",
    "* Agricultural drought: low water supply affects agriculture\n",
    "* Socioeconomic drought: low water supply affects economy\n",
    "\n",
    "There are a variety of ways to detect if those different kinds of droughts are happening. In our case we will focus on how drought affects vegetation. To assess the strength of the drought we use the [normalized difference vegetation index (NDVI)](https://youtu.be/rxOMhQwApMc). We'll focus on California and you can find the data [here](https://github.com/florianjehn/Using-QGIS-to-understand-land-use-change/tree/main/Exercise%20Materials/Materials%20for%202.5/Data_NDVI)."
   ]
  },
  {
   "cell_type": "markdown",
   "id": "5059166f",
   "metadata": {},
   "source": [
    "## Exercise 1: Assessing drought on a specific point in time using NDVI\n",
    "Load all files from the NDVI folder into QGIS. This is NDVI data from MODIS for 2001 till 2010 and 2015. It is MODIS raw data, which means that we have to rescale them from -1 to 1 to make them easier comparable to each other. To do this [we use](https://youtu.be/mCyNRf_olkw) the [*raster calculator*](https://docs.qgis.org/2.8/en/docs/user_manual/working_with_raster/raster_calculator.html) and multiply each raster by 0.0001. \n",
    "\n",
    "![raster calc](Assets/Notebook_2_5_1.png)\n",
    "\n",
    "The rasters we have consist not only of California, but also a lot of Pacific Ocean. As a drought on the ocean does not really make sense, we want to crop the ocean away, to get a faster calculation. \n",
    "\n",
    "For this we will be using [*Clip Raster by extent*](https://youtu.be/Fd472rHeln4). Just adjust your canvas so you only have California in view and select *Use Map Canvas Extent* as the clipping extent. Once you have done this for the first raster, use the resulting clipped layer as the clipping extent for all other rasters. This way you make sure that all have the exact same extent.\n",
    "\n",
    "Next we will calculate the drought anomaly for 2015. This has two steps:\n",
    "\n",
    "* Calculate the mean NDVI of all the years between 2001 and 2010. We do this by using the raster calculate again. Simply add up all years between 2001 and 2010 and divide them by 10 (the number of years). \n",
    "* Substract the average NDVI from the NDVI of 2015 using the raster calculator again. \n",
    "\n",
    "Set the symbology to *Singleband Pseudocolor* and select *Spectral* as color ramp. \n",
    "\n",
    "You result should look something like this:\n",
    "\n",
    "![drought](Assets/Notebook_2_5_2.png)\n",
    "\n",
    "This shows us the drought anomaly in California in 2015. Red depicts very dry places, blue depicts very wet places. \n"
   ]
  },
  {
   "cell_type": "markdown",
   "id": "08ff2694",
   "metadata": {},
   "source": [
    "## Exercise 2: Your own drought assessment. \n",
    "Use trends.earth to download NDVI data (MODIS) of the state of the country you were born in. Download all data from 2001-2020. Calculate the drought anomaly for 2020 in comparison with 2001-2019. Create a map with scale bar, legend and north arrow to show your results. Also, write a short text 150 words about what patterns you can see in the drought anomaly. For example, are there areas that are especially dry. Why might this be the case?"
   ]
  }
 ],
 "metadata": {
  "kernelspec": {
   "display_name": "Python 3 (ipykernel)",
   "language": "python",
   "name": "python3"
  },
  "language_info": {
   "codemirror_mode": {
    "name": "ipython",
    "version": 3
   },
   "file_extension": ".py",
   "mimetype": "text/x-python",
   "name": "python",
   "nbconvert_exporter": "python",
   "pygments_lexer": "ipython3",
   "version": "3.9.7"
  }
 },
 "nbformat": 4,
 "nbformat_minor": 5
}
