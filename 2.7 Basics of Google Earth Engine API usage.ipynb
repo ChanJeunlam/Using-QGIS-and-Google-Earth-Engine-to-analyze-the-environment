{
 "cells": [
  {
   "cell_type": "markdown",
   "id": "493caad6",
   "metadata": {},
   "source": [
    "# Using Python to control Google Earth Engine\n",
    "\n",
    "## Using Google Earth Engine via the API\n",
    "Like the interactive mode we will do this with Google Colab. However, using the API with Google Colab [gives us access to more functions](https://youtu.be/8FUjFVo4iuo). You can find the notebook used in the presentation [here](https://g.co/earth/colab-ee), so you can follow along and play around with it. So, as you can see, you do not really have to program here. You just have to learn which specific lines of code do what. Once you got the data you want, you can export it and continue working with it in QGIS. Take a look at [this video](https://youtu.be/k5xX8iBH7Cs) how those extended capabilities of GEE can be used to work on sustainable development goals as well (The Video uses Javascript, don't worry if you don't get the code). You can use [this documentation](https://developers.google.com/earth-engine/tutorials/community/intro-to-python-api) to take a look at code examples and explanations for the API. You can also look at the [documentation of all the methods in the API](https://developers.google.com/earth-engine/api_docs). "
   ]
  },
  {
   "cell_type": "markdown",
   "id": "d6e3724a",
   "metadata": {},
   "source": [
    "<a href=\"https://colab.research.google.com/github/csaybar/EEwPython/blob/master/1_Introduction.ipynb\"><img align=\"left\" src=\"https://colab.research.google.com/assets/colab-badge.svg\" alt=\"Open in Colab\" title=\"Open and Execute in Google Colaboratory\"></a>"
   ]
  },
  {
   "cell_type": "markdown",
   "id": "7353cef0",
   "metadata": {},
   "source": [
    "To make sure that you always got everything running that is needed, put this code on top of every new notebook you run in colab:"
   ]
  },
  {
   "cell_type": "code",
   "execution_count": null,
   "id": "01175a9a",
   "metadata": {},
   "outputs": [],
   "source": [
    "# Set up geemap\n",
    "!pip install geemap\n",
    "import geemap"
   ]
  },
  {
   "cell_type": "code",
   "execution_count": null,
   "id": "69de0cd6",
   "metadata": {},
   "outputs": [],
   "source": [
    "# Set up earth engine\n",
    "import ee\n",
    "ee.Authenticate()\n",
    "ee.Initialize()"
   ]
  },
  {
   "cell_type": "markdown",
   "id": "f5838b27",
   "metadata": {},
   "source": [
    "## Fundamental Earth Engine data structures\n",
    "\n",
    "The two most fundamental geographic data structures in Earth Engine are **`Image`** and **`Feature`** corresponding to raster and vector data types, respectively. Images are composed of bands and a dictionary of properties. Features are composed of a **`Geometry`** and a dictionary of properties. A stack of images (e.g. an image time series) is handled by an **`ImageCollection`**. A collection of features is handled by a  **`FeatureCollection`**. Other fundamental data structures in Earth Engine include:\n",
    "\n",
    "- `Dictionary`\n",
    "- `List`\n",
    "- `Array`\n",
    "- `Geometry`\n",
    "- `Date`\n",
    "- `Number`\n",
    "- `String`.\n",
    "\n",
    "It is important to remember that these are all **server-side objects (or containers)**. That is, your client browser does not know anything about the objects in your script unless you explicitly request information about them. That request triggers a message being passed from Google to the Python API. If the message is large, there will be a corresponding slow down. Existing two ways to inspect **Earth Engine containers**  in Python console. The first one, `print()` that return the  petition (as a JSON) to the server and `*.getInfo()` that returns the contents of the `container`.  The next section summaries all the Data Structures mentioned above.\n",
    "\n"
   ]
  },
  {
   "cell_type": "markdown",
   "id": "e7397664",
   "metadata": {},
   "source": [
    "### Strings\n",
    "\n",
    "Define a Python string, then put it into the **`ee.String()`** container to be sent to Earth Engine:"
   ]
  },
  {
   "cell_type": "code",
   "execution_count": null,
   "id": "9ed26b65",
   "metadata": {},
   "outputs": [],
   "source": [
    "# Define a string, then put it into an EE container.\n",
    "aString = 'To the cloud!'\n",
    "eeString = ee.String(aString)\n",
    "print('Where to?', eeString)\n",
    "eeString"
   ]
  },
  {
   "cell_type": "markdown",
   "id": "f4f3f9ec",
   "metadata": {},
   "source": [
    "Think of **`ee.Thing`** as a container for a thing that exists on the server. In this example, the string is defined first, then put into the container. \n",
    "\n",
    "### Numbers\n",
    "\n",
    "Use **`ee.Number()`** to create number objects on the server."
   ]
  },
  {
   "cell_type": "code",
   "execution_count": null,
   "id": "d3aa60f6",
   "metadata": {},
   "outputs": [],
   "source": [
    "# Define a number that exists on the server.\n",
    "import numpy as np\n",
    "serverNumber = ee.Number(np.e)\n",
    "print('e=', serverNumber)\n",
    "serverNumber"
   ]
  },
  {
   "cell_type": "markdown",
   "id": "1b801964",
   "metadata": {},
   "source": [
    "### Lists\n",
    "\n",
    "To make a Python list into an **`ee.List`** object on the server, you can put a Python literal into a container as with numbers and strings. Earth Engine also provides server-side convenience methods for making sequences of numbers.\n",
    "\n"
   ]
  },
  {
   "cell_type": "code",
   "execution_count": null,
   "id": "f73fd8e8",
   "metadata": {},
   "outputs": [],
   "source": [
    "# Make a sequence the hard way.\n",
    "eeList = ee.List([1, 2, 3, 4, 5])\n",
    "\n",
    "# Make a sequence the easy way!\n",
    "sequence = ee.List.sequence(1, 5);\n",
    "\n",
    "print('Sequence:', sequence)\n",
    "print('Opening the container:', sequence.getInfo())"
   ]
  },
  {
   "cell_type": "markdown",
   "id": "10c1b5f7",
   "metadata": {},
   "source": [
    "### Dictionaries\n",
    "\n",
    "You can construct an Earth Engine `Dictionary` from a Python object, as with strings, numbers and lists. At construction time, you can use Python functionality to initialize the Earth Engine object. In this case an ee.Dictionary is constructed directly from a Python literal object:"
   ]
  },
  {
   "cell_type": "code",
   "execution_count": null,
   "id": "b8e9df0e",
   "metadata": {},
   "outputs": [],
   "source": [
    "dictionary = ee.Dictionary({\n",
    "  'e': np.e,\n",
    "  'pi': np.pi,\n",
    "  'phi': (1 + np.sqrt(5))/2\n",
    "})\n",
    "\n",
    "# Get some values from the dictionary.\n",
    "print('Euler:', dictionary.get('e').getInfo())\n",
    "print('Pi:', dictionary.get('pi').getInfo())\n",
    "print('Golden ratio:', dictionary.get('phi').getInfo())\n",
    "\n",
    "# Get all the keys:\n",
    "print('Keys: ', dictionary.keys().getInfo())"
   ]
  },
  {
   "cell_type": "markdown",
   "id": "1098c6aa",
   "metadata": {},
   "source": [
    "In this example, observe that once you have an `ee.Dictionary`, you must use methods on the `ee.Dictionary` to get values. Specifically, get(key) returns the value associated with key. Since the type of object returned by `get()` could be be anything, if you're going to do anything to the object other then print it, you need to cast it to the right type. Also note that the `keys()` method returns an List."
   ]
  },
  {
   "cell_type": "markdown",
   "id": "da54be20",
   "metadata": {},
   "source": [
    "### Dates\n",
    "\n",
    "Date objects are the way Earth Engine represents time. As in the previous examples, it is important to distinguish between a Python Date object and an Earth Engine `ee.Date` object.\n",
    "\n",
    "A Date object can be construct from:\n",
    "  - A string.\n",
    "  - Python [datetime](https://docs.python.org/3/library/datetime.html) object.\n",
    "  - Static methods provided by the ee.Date class.\n",
    "  \n",
    "The next examples illustrates the construction of dates from these three forms."
   ]
  },
  {
   "cell_type": "code",
   "execution_count": null,
   "id": "7697aa92",
   "metadata": {},
   "outputs": [],
   "source": [
    "# Define a date in Earth Engine.\n",
    "date = ee.Date('2015-12-31')\n",
    "print('Date:', date)\n",
    "print('Date:', date.getInfo())"
   ]
  },
  {
   "cell_type": "markdown",
   "id": "ca8c9183",
   "metadata": {},
   "source": [
    "In the Earth Engine Data Catalog, datasets can be of different types:\n",
    "\n",
    "- *Features* which are geometric objects with a list of properties. For example, a watershed with some properties such as *name* and *area*, is an `ee.Feature`.\n",
    "- *Images* which are like features, but may include several bands. For example, the ground elevation given by the USGS [here](https://developers.google.com/earth-engine/datasets/catalog/USGS_SRTMGL1_003) is an `ee.Image`.\n",
    "- *Collections* which are groups of features or images. For example, the [Global Administrative Unit Layers](https://developers.google.com/earth-engine/datasets/catalog/FAO_GAUL_2015_level0) giving administrative boundaries is a `ee.FeatureCollection` and the [MODIS Land Surface Temperature](https://developers.google.com/earth-engine/datasets/catalog/MODIS_006_MOD11A1) dataset is an `ee.ImageCollection`.\n",
    "\n",
    "If you want to know more about different data models, you may want to visit the [Earth Engine User Guide](https://developers.google.com/earth-engine)."
   ]
  }
 ],
 "metadata": {
  "kernelspec": {
   "display_name": "Python 3 (ipykernel)",
   "language": "python",
   "name": "python3"
  },
  "language_info": {
   "codemirror_mode": {
    "name": "ipython",
    "version": 3
   },
   "file_extension": ".py",
   "mimetype": "text/x-python",
   "name": "python",
   "nbconvert_exporter": "python",
   "pygments_lexer": "ipython3",
   "version": "3.9.7"
  }
 },
 "nbformat": 4,
 "nbformat_minor": 5
}
